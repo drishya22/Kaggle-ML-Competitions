{
 "cells": [
  {
   "cell_type": "markdown",
   "id": "cb6a6a69",
   "metadata": {
    "papermill": {
     "duration": 0.018036,
     "end_time": "2025-07-23T16:44:36.683153",
     "exception": false,
     "start_time": "2025-07-23T16:44:36.665117",
     "status": "completed"
    },
    "tags": []
   },
   "source": [
    "This is the final version of my notebook. Forked from my earlier version where I achieved a lower score."
   ]
  },
  {
   "cell_type": "markdown",
   "id": "da88a3e0",
   "metadata": {
    "papermill": {
     "duration": 0.015505,
     "end_time": "2025-07-23T16:44:36.716146",
     "exception": false,
     "start_time": "2025-07-23T16:44:36.700641",
     "status": "completed"
    },
    "tags": []
   },
   "source": [
    "# Problem Statement"
   ]
  },
  {
   "cell_type": "markdown",
   "id": "b07bb648",
   "metadata": {
    "papermill": {
     "duration": 0.015605,
     "end_time": "2025-07-23T16:44:36.747751",
     "exception": false,
     "start_time": "2025-07-23T16:44:36.732146",
     "status": "completed"
    },
    "tags": []
   },
   "source": [
    "#### The objective of this classification task is to predict customer churn for a financial institution. Specifically, the goal is to determine whether a customer will exit (i.e., close their account) or stay with the bank, based on their personal attributes, banking activity, and demographic information.\n",
    "\n",
    "#### We are provided with a labeled training dataset containing various customer features and their corresponding exit status:\n",
    "\n",
    "### exit_status = 1 → Customer exited (churned)\n",
    "\n",
    "### exit_status = 0 → Customer stayed"
   ]
  },
  {
   "cell_type": "markdown",
   "id": "87007d00",
   "metadata": {
    "papermill": {
     "duration": 0.015435,
     "end_time": "2025-07-23T16:44:36.779066",
     "exception": false,
     "start_time": "2025-07-23T16:44:36.763631",
     "status": "completed"
    },
    "tags": []
   },
   "source": [
    "# Importing Libraries "
   ]
  },
  {
   "cell_type": "code",
   "execution_count": 1,
   "id": "38d3a2e6",
   "metadata": {
    "_cell_guid": "b1076dfc-b9ad-4769-8c92-a6c4dae69d19",
    "_uuid": "8f2839f25d086af736a60e9eeb907d3b93b6e0e5",
    "execution": {
     "iopub.execute_input": "2025-07-23T16:44:36.812088Z",
     "iopub.status.busy": "2025-07-23T16:44:36.811784Z",
     "iopub.status.idle": "2025-07-23T16:44:40.475897Z",
     "shell.execute_reply": "2025-07-23T16:44:40.474748Z"
    },
    "papermill": {
     "duration": 3.682769,
     "end_time": "2025-07-23T16:44:40.477541",
     "exception": false,
     "start_time": "2025-07-23T16:44:36.794772",
     "status": "completed"
    },
    "tags": []
   },
   "outputs": [
    {
     "name": "stdout",
     "output_type": "stream",
     "text": [
      "/kaggle/input/mlp-term-2-2025-kaggle-assignment-2/sample_submission.csv\n",
      "/kaggle/input/mlp-term-2-2025-kaggle-assignment-2/train.csv\n",
      "/kaggle/input/mlp-term-2-2025-kaggle-assignment-2/test.csv\n"
     ]
    }
   ],
   "source": [
    "import numpy as np # linear algebra\n",
    "import pandas as pd # data processing, CSV file I/O (e.g. pd.read_csv)\n",
    "import seaborn as sns\n",
    "import matplotlib.pyplot as plt\n",
    "\n",
    "import os\n",
    "for dirname, _, filenames in os.walk('/kaggle/input'):\n",
    "    for filename in filenames:\n",
    "        print(os.path.join(dirname, filename))\n",
    "\n"
   ]
  },
  {
   "cell_type": "code",
   "execution_count": 2,
   "id": "9e0915da",
   "metadata": {
    "execution": {
     "iopub.execute_input": "2025-07-23T16:44:40.510674Z",
     "iopub.status.busy": "2025-07-23T16:44:40.510178Z",
     "iopub.status.idle": "2025-07-23T16:44:40.833396Z",
     "shell.execute_reply": "2025-07-23T16:44:40.832333Z"
    },
    "papermill": {
     "duration": 0.341779,
     "end_time": "2025-07-23T16:44:40.835108",
     "exception": false,
     "start_time": "2025-07-23T16:44:40.493329",
     "status": "completed"
    },
    "tags": []
   },
   "outputs": [],
   "source": [
    "train=pd.read_csv('/kaggle/input/mlp-term-2-2025-kaggle-assignment-2/train.csv')\n",
    "test=pd.read_csv('/kaggle/input/mlp-term-2-2025-kaggle-assignment-2/test.csv')"
   ]
  },
  {
   "cell_type": "code",
   "execution_count": 3,
   "id": "debad193",
   "metadata": {
    "execution": {
     "iopub.execute_input": "2025-07-23T16:44:40.940303Z",
     "iopub.status.busy": "2025-07-23T16:44:40.939962Z",
     "iopub.status.idle": "2025-07-23T16:44:40.992388Z",
     "shell.execute_reply": "2025-07-23T16:44:40.991561Z"
    },
    "papermill": {
     "duration": 0.142343,
     "end_time": "2025-07-23T16:44:40.993918",
     "exception": false,
     "start_time": "2025-07-23T16:44:40.851575",
     "status": "completed"
    },
    "tags": []
   },
   "outputs": [],
   "source": [
    "raw_test=pd.read_csv('/kaggle/input/mlp-term-2-2025-kaggle-assignment-2/test.csv')"
   ]
  },
  {
   "cell_type": "markdown",
   "id": "599f2b0c",
   "metadata": {
    "papermill": {
     "duration": 0.015843,
     "end_time": "2025-07-23T16:44:41.025762",
     "exception": false,
     "start_time": "2025-07-23T16:44:41.009919",
     "status": "completed"
    },
    "tags": []
   },
   "source": [
    "# Identifying Data Types"
   ]
  },
  {
   "cell_type": "code",
   "execution_count": 4,
   "id": "72d8f01d",
   "metadata": {
    "execution": {
     "iopub.execute_input": "2025-07-23T16:44:41.060762Z",
     "iopub.status.busy": "2025-07-23T16:44:41.060460Z",
     "iopub.status.idle": "2025-07-23T16:44:41.110405Z",
     "shell.execute_reply": "2025-07-23T16:44:41.109329Z"
    },
    "papermill": {
     "duration": 0.069698,
     "end_time": "2025-07-23T16:44:41.112172",
     "exception": false,
     "start_time": "2025-07-23T16:44:41.042474",
     "status": "completed"
    },
    "tags": []
   },
   "outputs": [
    {
     "name": "stdout",
     "output_type": "stream",
     "text": [
      "<class 'pandas.core.frame.DataFrame'>\n",
      "RangeIndex: 90000 entries, 0 to 89999\n",
      "Data columns (total 14 columns):\n",
      " #   Column            Non-Null Count  Dtype  \n",
      "---  ------            --------------  -----  \n",
      " 0   id                90000 non-null  int64  \n",
      " 1   customer_id       90000 non-null  int64  \n",
      " 2   last_name         90000 non-null  object \n",
      " 3   credit_score      80444 non-null  float64\n",
      " 4   country           83979 non-null  object \n",
      " 5   gender            90000 non-null  object \n",
      " 6   age               90000 non-null  float64\n",
      " 7   tenure            90000 non-null  int64  \n",
      " 8   acc_balance       82743 non-null  float64\n",
      " 9   prod_count        85137 non-null  float64\n",
      " 10  has_card          90000 non-null  float64\n",
      " 11  is_active         90000 non-null  float64\n",
      " 12  estimated_salary  90000 non-null  float64\n",
      " 13  exit_status       90000 non-null  int64  \n",
      "dtypes: float64(7), int64(4), object(3)\n",
      "memory usage: 9.6+ MB\n"
     ]
    }
   ],
   "source": [
    "train.info()"
   ]
  },
  {
   "cell_type": "code",
   "execution_count": 5,
   "id": "40cdc2d6",
   "metadata": {
    "execution": {
     "iopub.execute_input": "2025-07-23T16:44:41.146712Z",
     "iopub.status.busy": "2025-07-23T16:44:41.146377Z",
     "iopub.status.idle": "2025-07-23T16:44:41.167499Z",
     "shell.execute_reply": "2025-07-23T16:44:41.166567Z"
    },
    "papermill": {
     "duration": 0.040075,
     "end_time": "2025-07-23T16:44:41.168993",
     "exception": false,
     "start_time": "2025-07-23T16:44:41.128918",
     "status": "completed"
    },
    "tags": []
   },
   "outputs": [
    {
     "data": {
      "text/html": [
       "<div>\n",
       "<style scoped>\n",
       "    .dataframe tbody tr th:only-of-type {\n",
       "        vertical-align: middle;\n",
       "    }\n",
       "\n",
       "    .dataframe tbody tr th {\n",
       "        vertical-align: top;\n",
       "    }\n",
       "\n",
       "    .dataframe thead th {\n",
       "        text-align: right;\n",
       "    }\n",
       "</style>\n",
       "<table border=\"1\" class=\"dataframe\">\n",
       "  <thead>\n",
       "    <tr style=\"text-align: right;\">\n",
       "      <th></th>\n",
       "      <th>Columns</th>\n",
       "      <th>Datatypes</th>\n",
       "    </tr>\n",
       "  </thead>\n",
       "  <tbody>\n",
       "    <tr>\n",
       "      <th>0</th>\n",
       "      <td>id</td>\n",
       "      <td>int64</td>\n",
       "    </tr>\n",
       "    <tr>\n",
       "      <th>1</th>\n",
       "      <td>customer_id</td>\n",
       "      <td>int64</td>\n",
       "    </tr>\n",
       "    <tr>\n",
       "      <th>2</th>\n",
       "      <td>last_name</td>\n",
       "      <td>object</td>\n",
       "    </tr>\n",
       "    <tr>\n",
       "      <th>3</th>\n",
       "      <td>credit_score</td>\n",
       "      <td>float64</td>\n",
       "    </tr>\n",
       "    <tr>\n",
       "      <th>4</th>\n",
       "      <td>country</td>\n",
       "      <td>object</td>\n",
       "    </tr>\n",
       "    <tr>\n",
       "      <th>5</th>\n",
       "      <td>gender</td>\n",
       "      <td>object</td>\n",
       "    </tr>\n",
       "    <tr>\n",
       "      <th>6</th>\n",
       "      <td>age</td>\n",
       "      <td>float64</td>\n",
       "    </tr>\n",
       "    <tr>\n",
       "      <th>7</th>\n",
       "      <td>tenure</td>\n",
       "      <td>int64</td>\n",
       "    </tr>\n",
       "    <tr>\n",
       "      <th>8</th>\n",
       "      <td>acc_balance</td>\n",
       "      <td>float64</td>\n",
       "    </tr>\n",
       "    <tr>\n",
       "      <th>9</th>\n",
       "      <td>prod_count</td>\n",
       "      <td>float64</td>\n",
       "    </tr>\n",
       "    <tr>\n",
       "      <th>10</th>\n",
       "      <td>has_card</td>\n",
       "      <td>float64</td>\n",
       "    </tr>\n",
       "    <tr>\n",
       "      <th>11</th>\n",
       "      <td>is_active</td>\n",
       "      <td>float64</td>\n",
       "    </tr>\n",
       "    <tr>\n",
       "      <th>12</th>\n",
       "      <td>estimated_salary</td>\n",
       "      <td>float64</td>\n",
       "    </tr>\n",
       "    <tr>\n",
       "      <th>13</th>\n",
       "      <td>exit_status</td>\n",
       "      <td>int64</td>\n",
       "    </tr>\n",
       "  </tbody>\n",
       "</table>\n",
       "</div>"
      ],
      "text/plain": [
       "             Columns Datatypes\n",
       "0                 id     int64\n",
       "1        customer_id     int64\n",
       "2          last_name    object\n",
       "3       credit_score   float64\n",
       "4            country    object\n",
       "5             gender    object\n",
       "6                age   float64\n",
       "7             tenure     int64\n",
       "8        acc_balance   float64\n",
       "9         prod_count   float64\n",
       "10          has_card   float64\n",
       "11         is_active   float64\n",
       "12  estimated_salary   float64\n",
       "13       exit_status     int64"
      ]
     },
     "execution_count": 5,
     "metadata": {},
     "output_type": "execute_result"
    }
   ],
   "source": [
    "datatypes=pd.DataFrame({\n",
    "    'Columns': train.columns,\n",
    "    'Datatypes':train.dtypes.values\n",
    "})\n",
    "datatypes"
   ]
  },
  {
   "cell_type": "markdown",
   "id": "0acfd556",
   "metadata": {
    "papermill": {
     "duration": 0.015966,
     "end_time": "2025-07-23T16:44:41.202441",
     "exception": false,
     "start_time": "2025-07-23T16:44:41.186475",
     "status": "completed"
    },
    "tags": []
   },
   "source": [
    "# Descriptive Statistics"
   ]
  },
  {
   "cell_type": "code",
   "execution_count": 6,
   "id": "381c51e1",
   "metadata": {
    "execution": {
     "iopub.execute_input": "2025-07-23T16:44:41.236844Z",
     "iopub.status.busy": "2025-07-23T16:44:41.236542Z",
     "iopub.status.idle": "2025-07-23T16:44:41.320235Z",
     "shell.execute_reply": "2025-07-23T16:44:41.319155Z"
    },
    "papermill": {
     "duration": 0.103345,
     "end_time": "2025-07-23T16:44:41.321993",
     "exception": false,
     "start_time": "2025-07-23T16:44:41.218648",
     "status": "completed"
    },
    "tags": []
   },
   "outputs": [
    {
     "data": {
      "text/html": [
       "<div>\n",
       "<style scoped>\n",
       "    .dataframe tbody tr th:only-of-type {\n",
       "        vertical-align: middle;\n",
       "    }\n",
       "\n",
       "    .dataframe tbody tr th {\n",
       "        vertical-align: top;\n",
       "    }\n",
       "\n",
       "    .dataframe thead th {\n",
       "        text-align: right;\n",
       "    }\n",
       "</style>\n",
       "<table border=\"1\" class=\"dataframe\">\n",
       "  <thead>\n",
       "    <tr style=\"text-align: right;\">\n",
       "      <th></th>\n",
       "      <th>count</th>\n",
       "      <th>mean</th>\n",
       "      <th>std</th>\n",
       "      <th>min</th>\n",
       "      <th>25%</th>\n",
       "      <th>50%</th>\n",
       "      <th>75%</th>\n",
       "      <th>max</th>\n",
       "    </tr>\n",
       "  </thead>\n",
       "  <tbody>\n",
       "    <tr>\n",
       "      <th>id</th>\n",
       "      <td>90000.0</td>\n",
       "      <td>4.499950e+04</td>\n",
       "      <td>25980.906451</td>\n",
       "      <td>0.00</td>\n",
       "      <td>22499.75</td>\n",
       "      <td>44999.50</td>\n",
       "      <td>6.749925e+04</td>\n",
       "      <td>89999.00</td>\n",
       "    </tr>\n",
       "    <tr>\n",
       "      <th>customer_id</th>\n",
       "      <td>90000.0</td>\n",
       "      <td>1.569209e+07</td>\n",
       "      <td>71297.959941</td>\n",
       "      <td>15565701.00</td>\n",
       "      <td>15633608.00</td>\n",
       "      <td>15690164.00</td>\n",
       "      <td>1.575674e+07</td>\n",
       "      <td>15815690.00</td>\n",
       "    </tr>\n",
       "    <tr>\n",
       "      <th>credit_score</th>\n",
       "      <td>80444.0</td>\n",
       "      <td>6.564971e+02</td>\n",
       "      <td>80.016856</td>\n",
       "      <td>350.00</td>\n",
       "      <td>597.00</td>\n",
       "      <td>659.00</td>\n",
       "      <td>7.100000e+02</td>\n",
       "      <td>850.00</td>\n",
       "    </tr>\n",
       "    <tr>\n",
       "      <th>age</th>\n",
       "      <td>90000.0</td>\n",
       "      <td>3.811953e+01</td>\n",
       "      <td>8.855203</td>\n",
       "      <td>18.00</td>\n",
       "      <td>32.00</td>\n",
       "      <td>37.00</td>\n",
       "      <td>4.200000e+01</td>\n",
       "      <td>92.00</td>\n",
       "    </tr>\n",
       "    <tr>\n",
       "      <th>tenure</th>\n",
       "      <td>90000.0</td>\n",
       "      <td>5.017022e+00</td>\n",
       "      <td>2.804813</td>\n",
       "      <td>0.00</td>\n",
       "      <td>3.00</td>\n",
       "      <td>5.00</td>\n",
       "      <td>7.000000e+00</td>\n",
       "      <td>10.00</td>\n",
       "    </tr>\n",
       "    <tr>\n",
       "      <th>acc_balance</th>\n",
       "      <td>82743.0</td>\n",
       "      <td>5.545673e+04</td>\n",
       "      <td>62788.474236</td>\n",
       "      <td>0.00</td>\n",
       "      <td>0.00</td>\n",
       "      <td>0.00</td>\n",
       "      <td>1.198258e+05</td>\n",
       "      <td>250898.09</td>\n",
       "    </tr>\n",
       "    <tr>\n",
       "      <th>prod_count</th>\n",
       "      <td>85137.0</td>\n",
       "      <td>1.552932e+00</td>\n",
       "      <td>0.548011</td>\n",
       "      <td>1.00</td>\n",
       "      <td>1.00</td>\n",
       "      <td>2.00</td>\n",
       "      <td>2.000000e+00</td>\n",
       "      <td>4.00</td>\n",
       "    </tr>\n",
       "    <tr>\n",
       "      <th>has_card</th>\n",
       "      <td>90000.0</td>\n",
       "      <td>7.542889e-01</td>\n",
       "      <td>0.430510</td>\n",
       "      <td>0.00</td>\n",
       "      <td>1.00</td>\n",
       "      <td>1.00</td>\n",
       "      <td>1.000000e+00</td>\n",
       "      <td>1.00</td>\n",
       "    </tr>\n",
       "    <tr>\n",
       "      <th>is_active</th>\n",
       "      <td>90000.0</td>\n",
       "      <td>4.971778e-01</td>\n",
       "      <td>0.499995</td>\n",
       "      <td>0.00</td>\n",
       "      <td>0.00</td>\n",
       "      <td>0.00</td>\n",
       "      <td>1.000000e+00</td>\n",
       "      <td>1.00</td>\n",
       "    </tr>\n",
       "    <tr>\n",
       "      <th>estimated_salary</th>\n",
       "      <td>90000.0</td>\n",
       "      <td>1.123947e+05</td>\n",
       "      <td>50360.440702</td>\n",
       "      <td>11.58</td>\n",
       "      <td>74430.36</td>\n",
       "      <td>117505.07</td>\n",
       "      <td>1.548748e+05</td>\n",
       "      <td>199992.48</td>\n",
       "    </tr>\n",
       "    <tr>\n",
       "      <th>exit_status</th>\n",
       "      <td>90000.0</td>\n",
       "      <td>2.116000e-01</td>\n",
       "      <td>0.408445</td>\n",
       "      <td>0.00</td>\n",
       "      <td>0.00</td>\n",
       "      <td>0.00</td>\n",
       "      <td>0.000000e+00</td>\n",
       "      <td>1.00</td>\n",
       "    </tr>\n",
       "  </tbody>\n",
       "</table>\n",
       "</div>"
      ],
      "text/plain": [
       "                    count          mean           std          min  \\\n",
       "id                90000.0  4.499950e+04  25980.906451         0.00   \n",
       "customer_id       90000.0  1.569209e+07  71297.959941  15565701.00   \n",
       "credit_score      80444.0  6.564971e+02     80.016856       350.00   \n",
       "age               90000.0  3.811953e+01      8.855203        18.00   \n",
       "tenure            90000.0  5.017022e+00      2.804813         0.00   \n",
       "acc_balance       82743.0  5.545673e+04  62788.474236         0.00   \n",
       "prod_count        85137.0  1.552932e+00      0.548011         1.00   \n",
       "has_card          90000.0  7.542889e-01      0.430510         0.00   \n",
       "is_active         90000.0  4.971778e-01      0.499995         0.00   \n",
       "estimated_salary  90000.0  1.123947e+05  50360.440702        11.58   \n",
       "exit_status       90000.0  2.116000e-01      0.408445         0.00   \n",
       "\n",
       "                          25%          50%           75%          max  \n",
       "id                   22499.75     44999.50  6.749925e+04     89999.00  \n",
       "customer_id       15633608.00  15690164.00  1.575674e+07  15815690.00  \n",
       "credit_score           597.00       659.00  7.100000e+02       850.00  \n",
       "age                     32.00        37.00  4.200000e+01        92.00  \n",
       "tenure                   3.00         5.00  7.000000e+00        10.00  \n",
       "acc_balance              0.00         0.00  1.198258e+05    250898.09  \n",
       "prod_count               1.00         2.00  2.000000e+00         4.00  \n",
       "has_card                 1.00         1.00  1.000000e+00         1.00  \n",
       "is_active                0.00         0.00  1.000000e+00         1.00  \n",
       "estimated_salary     74430.36    117505.07  1.548748e+05    199992.48  \n",
       "exit_status              0.00         0.00  0.000000e+00         1.00  "
      ]
     },
     "execution_count": 6,
     "metadata": {},
     "output_type": "execute_result"
    }
   ],
   "source": [
    "train.describe().T"
   ]
  },
  {
   "cell_type": "markdown",
   "id": "f1cfbabf",
   "metadata": {
    "papermill": {
     "duration": 0.016151,
     "end_time": "2025-07-23T16:44:41.354995",
     "exception": false,
     "start_time": "2025-07-23T16:44:41.338844",
     "status": "completed"
    },
    "tags": []
   },
   "source": [
    "# Identifying and Handling Missing Values"
   ]
  },
  {
   "cell_type": "markdown",
   "id": "1e3070de",
   "metadata": {
    "papermill": {
     "duration": 0.017062,
     "end_time": "2025-07-23T16:44:41.388298",
     "exception": false,
     "start_time": "2025-07-23T16:44:41.371236",
     "status": "completed"
    },
    "tags": []
   },
   "source": [
    "## Training Dataset"
   ]
  },
  {
   "cell_type": "code",
   "execution_count": 7,
   "id": "ea77c2d2",
   "metadata": {
    "execution": {
     "iopub.execute_input": "2025-07-23T16:44:41.423854Z",
     "iopub.status.busy": "2025-07-23T16:44:41.423522Z",
     "iopub.status.idle": "2025-07-23T16:44:41.449443Z",
     "shell.execute_reply": "2025-07-23T16:44:41.448588Z"
    },
    "papermill": {
     "duration": 0.04549,
     "end_time": "2025-07-23T16:44:41.450882",
     "exception": false,
     "start_time": "2025-07-23T16:44:41.405392",
     "status": "completed"
    },
    "tags": []
   },
   "outputs": [
    {
     "data": {
      "text/html": [
       "<div>\n",
       "<style scoped>\n",
       "    .dataframe tbody tr th:only-of-type {\n",
       "        vertical-align: middle;\n",
       "    }\n",
       "\n",
       "    .dataframe tbody tr th {\n",
       "        vertical-align: top;\n",
       "    }\n",
       "\n",
       "    .dataframe thead th {\n",
       "        text-align: right;\n",
       "    }\n",
       "</style>\n",
       "<table border=\"1\" class=\"dataframe\">\n",
       "  <thead>\n",
       "    <tr style=\"text-align: right;\">\n",
       "      <th></th>\n",
       "      <th>Columns</th>\n",
       "      <th>No.of missing values</th>\n",
       "    </tr>\n",
       "  </thead>\n",
       "  <tbody>\n",
       "    <tr>\n",
       "      <th>0</th>\n",
       "      <td>credit_score</td>\n",
       "      <td>9556</td>\n",
       "    </tr>\n",
       "    <tr>\n",
       "      <th>1</th>\n",
       "      <td>country</td>\n",
       "      <td>6021</td>\n",
       "    </tr>\n",
       "    <tr>\n",
       "      <th>2</th>\n",
       "      <td>acc_balance</td>\n",
       "      <td>7257</td>\n",
       "    </tr>\n",
       "    <tr>\n",
       "      <th>3</th>\n",
       "      <td>prod_count</td>\n",
       "      <td>4863</td>\n",
       "    </tr>\n",
       "  </tbody>\n",
       "</table>\n",
       "</div>"
      ],
      "text/plain": [
       "        Columns  No.of missing values\n",
       "0  credit_score                  9556\n",
       "1       country                  6021\n",
       "2   acc_balance                  7257\n",
       "3    prod_count                  4863"
      ]
     },
     "execution_count": 7,
     "metadata": {},
     "output_type": "execute_result"
    }
   ],
   "source": [
    "missing=train.isnull().sum()\n",
    "missing=missing[missing>0]\n",
    "missing_df=pd.DataFrame({\n",
    "    'Columns':missing.index,\n",
    "    'No.of missing values':missing.values\n",
    "})\n",
    "missing_df"
   ]
  },
  {
   "cell_type": "code",
   "execution_count": 8,
   "id": "154aff13",
   "metadata": {
    "execution": {
     "iopub.execute_input": "2025-07-23T16:44:41.485805Z",
     "iopub.status.busy": "2025-07-23T16:44:41.484975Z",
     "iopub.status.idle": "2025-07-23T16:44:41.501957Z",
     "shell.execute_reply": "2025-07-23T16:44:41.501065Z"
    },
    "papermill": {
     "duration": 0.035858,
     "end_time": "2025-07-23T16:44:41.503458",
     "exception": false,
     "start_time": "2025-07-23T16:44:41.467600",
     "status": "completed"
    },
    "tags": []
   },
   "outputs": [
    {
     "name": "stderr",
     "output_type": "stream",
     "text": [
      "/usr/local/lib/python3.11/dist-packages/pandas/io/formats/format.py:1458: RuntimeWarning: invalid value encountered in greater\n",
      "  has_large_values = (abs_vals > 1e6).any()\n",
      "/usr/local/lib/python3.11/dist-packages/pandas/io/formats/format.py:1459: RuntimeWarning: invalid value encountered in less\n",
      "  has_small_values = ((abs_vals < 10 ** (-self.digits)) & (abs_vals > 0)).any()\n",
      "/usr/local/lib/python3.11/dist-packages/pandas/io/formats/format.py:1459: RuntimeWarning: invalid value encountered in greater\n",
      "  has_small_values = ((abs_vals < 10 ** (-self.digits)) & (abs_vals > 0)).any()\n"
     ]
    },
    {
     "data": {
      "text/html": [
       "<div>\n",
       "<style scoped>\n",
       "    .dataframe tbody tr th:only-of-type {\n",
       "        vertical-align: middle;\n",
       "    }\n",
       "\n",
       "    .dataframe tbody tr th {\n",
       "        vertical-align: top;\n",
       "    }\n",
       "\n",
       "    .dataframe thead th {\n",
       "        text-align: right;\n",
       "    }\n",
       "</style>\n",
       "<table border=\"1\" class=\"dataframe\">\n",
       "  <thead>\n",
       "    <tr style=\"text-align: right;\">\n",
       "      <th></th>\n",
       "      <th>id</th>\n",
       "      <th>customer_id</th>\n",
       "      <th>last_name</th>\n",
       "      <th>credit_score</th>\n",
       "      <th>country</th>\n",
       "      <th>gender</th>\n",
       "      <th>age</th>\n",
       "      <th>tenure</th>\n",
       "      <th>acc_balance</th>\n",
       "      <th>prod_count</th>\n",
       "      <th>has_card</th>\n",
       "      <th>is_active</th>\n",
       "      <th>estimated_salary</th>\n",
       "      <th>exit_status</th>\n",
       "    </tr>\n",
       "  </thead>\n",
       "  <tbody>\n",
       "    <tr>\n",
       "      <th>0</th>\n",
       "      <td>0</td>\n",
       "      <td>15788291</td>\n",
       "      <td>Iredale</td>\n",
       "      <td>559.0</td>\n",
       "      <td>France</td>\n",
       "      <td>Male</td>\n",
       "      <td>28.0</td>\n",
       "      <td>1</td>\n",
       "      <td>149989.39</td>\n",
       "      <td>1.0</td>\n",
       "      <td>1.0</td>\n",
       "      <td>1.0</td>\n",
       "      <td>67622.46</td>\n",
       "      <td>0</td>\n",
       "    </tr>\n",
       "    <tr>\n",
       "      <th>1</th>\n",
       "      <td>1</td>\n",
       "      <td>15642816</td>\n",
       "      <td>Hs?</td>\n",
       "      <td>694.0</td>\n",
       "      <td>France</td>\n",
       "      <td>Female</td>\n",
       "      <td>37.0</td>\n",
       "      <td>7</td>\n",
       "      <td>114510.35</td>\n",
       "      <td>2.0</td>\n",
       "      <td>0.0</td>\n",
       "      <td>0.0</td>\n",
       "      <td>182797.86</td>\n",
       "      <td>0</td>\n",
       "    </tr>\n",
       "    <tr>\n",
       "      <th>2</th>\n",
       "      <td>2</td>\n",
       "      <td>15632272</td>\n",
       "      <td>T'ien</td>\n",
       "      <td>585.0</td>\n",
       "      <td>NaN</td>\n",
       "      <td>Female</td>\n",
       "      <td>45.0</td>\n",
       "      <td>8</td>\n",
       "      <td>NaN</td>\n",
       "      <td>2.0</td>\n",
       "      <td>1.0</td>\n",
       "      <td>1.0</td>\n",
       "      <td>170338.35</td>\n",
       "      <td>0</td>\n",
       "    </tr>\n",
       "    <tr>\n",
       "      <th>3</th>\n",
       "      <td>3</td>\n",
       "      <td>15685826</td>\n",
       "      <td>Hightower</td>\n",
       "      <td>589.0</td>\n",
       "      <td>Spain</td>\n",
       "      <td>Male</td>\n",
       "      <td>25.0</td>\n",
       "      <td>0</td>\n",
       "      <td>166082.18</td>\n",
       "      <td>1.0</td>\n",
       "      <td>1.0</td>\n",
       "      <td>1.0</td>\n",
       "      <td>166476.46</td>\n",
       "      <td>0</td>\n",
       "    </tr>\n",
       "    <tr>\n",
       "      <th>4</th>\n",
       "      <td>4</td>\n",
       "      <td>15658032</td>\n",
       "      <td>Hopkins</td>\n",
       "      <td>701.0</td>\n",
       "      <td>France</td>\n",
       "      <td>Male</td>\n",
       "      <td>39.0</td>\n",
       "      <td>2</td>\n",
       "      <td>0.00</td>\n",
       "      <td>2.0</td>\n",
       "      <td>1.0</td>\n",
       "      <td>0.0</td>\n",
       "      <td>82526.92</td>\n",
       "      <td>0</td>\n",
       "    </tr>\n",
       "  </tbody>\n",
       "</table>\n",
       "</div>"
      ],
      "text/plain": [
       "   id  customer_id  last_name  credit_score country  gender   age  tenure  \\\n",
       "0   0     15788291    Iredale         559.0  France    Male  28.0       1   \n",
       "1   1     15642816        Hs?         694.0  France  Female  37.0       7   \n",
       "2   2     15632272      T'ien         585.0     NaN  Female  45.0       8   \n",
       "3   3     15685826  Hightower         589.0   Spain    Male  25.0       0   \n",
       "4   4     15658032    Hopkins         701.0  France    Male  39.0       2   \n",
       "\n",
       "   acc_balance  prod_count  has_card  is_active  estimated_salary  exit_status  \n",
       "0    149989.39         1.0       1.0        1.0          67622.46            0  \n",
       "1    114510.35         2.0       0.0        0.0         182797.86            0  \n",
       "2          NaN         2.0       1.0        1.0         170338.35            0  \n",
       "3    166082.18         1.0       1.0        1.0         166476.46            0  \n",
       "4         0.00         2.0       1.0        0.0          82526.92            0  "
      ]
     },
     "execution_count": 8,
     "metadata": {},
     "output_type": "execute_result"
    }
   ],
   "source": [
    "train.head()"
   ]
  },
  {
   "cell_type": "code",
   "execution_count": 9,
   "id": "832c5a2d",
   "metadata": {
    "execution": {
     "iopub.execute_input": "2025-07-23T16:44:41.538713Z",
     "iopub.status.busy": "2025-07-23T16:44:41.538059Z",
     "iopub.status.idle": "2025-07-23T16:44:41.541899Z",
     "shell.execute_reply": "2025-07-23T16:44:41.541068Z"
    },
    "papermill": {
     "duration": 0.023013,
     "end_time": "2025-07-23T16:44:41.543371",
     "exception": false,
     "start_time": "2025-07-23T16:44:41.520358",
     "status": "completed"
    },
    "tags": []
   },
   "outputs": [],
   "source": [
    "#FOR VISUALIZATION\n",
    "#sns.histplot(train['credit_score'].dropna(), kde=True)\n",
    "#sns.histplot(train['acc_balance'].dropna(), kde=True)\n",
    "#sns.histplot(train['prod_count'].dropna(), kde=True)\n"
   ]
  },
  {
   "cell_type": "code",
   "execution_count": 10,
   "id": "a68c4719",
   "metadata": {
    "execution": {
     "iopub.execute_input": "2025-07-23T16:44:41.579087Z",
     "iopub.status.busy": "2025-07-23T16:44:41.578807Z",
     "iopub.status.idle": "2025-07-23T16:44:42.331541Z",
     "shell.execute_reply": "2025-07-23T16:44:42.330501Z"
    },
    "papermill": {
     "duration": 0.773134,
     "end_time": "2025-07-23T16:44:42.334174",
     "exception": false,
     "start_time": "2025-07-23T16:44:41.561040",
     "status": "completed"
    },
    "tags": []
   },
   "outputs": [
    {
     "data": {
      "image/png": "[encoded data removed]",
      "text/plain": [
       "<Figure size 1200x800 with 2 Axes>"
      ]
     },
     "metadata": {},
     "output_type": "display_data"
    }
   ],
   "source": [
    "num_cols=train.select_dtypes(exclude=\"object\").columns\n",
    "plt.figure(figsize=(12,8))\n",
    "sns.heatmap(train[num_cols].corr(),annot=True)\n",
    "plt.show()"
   ]
  },
  {
   "cell_type": "markdown",
   "id": "1d6c858e",
   "metadata": {
    "papermill": {
     "duration": 0.020038,
     "end_time": "2025-07-23T16:44:42.376127",
     "exception": false,
     "start_time": "2025-07-23T16:44:42.356089",
     "status": "completed"
    },
    "tags": []
   },
   "source": [
    "#### Missing Value Imputation Strategy\n",
    "To preserve predictive signal while handling missing data, we applied a combination of:\n",
    "\n",
    "Grouped Imputation based on relevant segments:\n",
    "\n",
    "##### credit_score: Imputed using median by (country, age_bin)\n",
    "\n",
    "##### acc_balance: Median within prod_count groups\n",
    "\n",
    "##### prod_count: Median by is_active flag\n",
    "\n",
    "##### country: Imputed using global mode\n",
    "\n",
    "##### Missingness Indicator Features:\n",
    "Added binary flags (missing_*) for each column with missing values, allowing the model to learn patterns associated with missingness, which can carry predictive power in real-world behavioral data.\n",
    "\n",
    "Feature Binning:\n",
    "Created an age_bin column to discretize age into ordinal buckets to assist group-wise imputation of credit_score."
   ]
  },
  {
   "cell_type": "code",
   "execution_count": 11,
   "id": "f3e2f6ff",
   "metadata": {
    "execution": {
     "iopub.execute_input": "2025-07-23T16:44:42.418064Z",
     "iopub.status.busy": "2025-07-23T16:44:42.417748Z",
     "iopub.status.idle": "2025-07-23T16:44:42.431186Z",
     "shell.execute_reply": "2025-07-23T16:44:42.430331Z"
    },
    "papermill": {
     "duration": 0.03661,
     "end_time": "2025-07-23T16:44:42.432998",
     "exception": false,
     "start_time": "2025-07-23T16:44:42.396388",
     "status": "completed"
    },
    "tags": []
   },
   "outputs": [],
   "source": [
    "train['age_bin'] = pd.cut(train['age'], bins=[17, 30, 40, 50, 60, 100], labels=False, include_lowest=True)"
   ]
  },
  {
   "cell_type": "code",
   "execution_count": 12,
   "id": "63a9e8e5",
   "metadata": {
    "execution": {
     "iopub.execute_input": "2025-07-23T16:44:42.475307Z",
     "iopub.status.busy": "2025-07-23T16:44:42.474941Z",
     "iopub.status.idle": "2025-07-23T16:44:42.478822Z",
     "shell.execute_reply": "2025-07-23T16:44:42.477932Z"
    },
    "papermill": {
     "duration": 0.026872,
     "end_time": "2025-07-23T16:44:42.480549",
     "exception": false,
     "start_time": "2025-07-23T16:44:42.453677",
     "status": "completed"
    },
    "tags": []
   },
   "outputs": [],
   "source": [
    "#train['age'].unique()\n",
    "#test['age'].unique()"
   ]
  },
  {
   "cell_type": "code",
   "execution_count": 13,
   "id": "9f47f871",
   "metadata": {
    "execution": {
     "iopub.execute_input": "2025-07-23T16:44:42.523521Z",
     "iopub.status.busy": "2025-07-23T16:44:42.523187Z",
     "iopub.status.idle": "2025-07-23T16:44:42.539582Z",
     "shell.execute_reply": "2025-07-23T16:44:42.538642Z"
    },
    "papermill": {
     "duration": 0.040289,
     "end_time": "2025-07-23T16:44:42.541367",
     "exception": false,
     "start_time": "2025-07-23T16:44:42.501078",
     "status": "completed"
    },
    "tags": []
   },
   "outputs": [],
   "source": [
    "# 2. Create missing indicators for train dataset\n",
    "train['missing_credit_score'] = train['credit_score'].isna().astype(int)\n",
    "train['missing_acc_balance'] = train['acc_balance'].isna().astype(int)\n",
    "train['missing_prod_count'] = train['prod_count'].isna().astype(int)\n",
    "train['missing_country'] = train['country'].isna().astype(int)"
   ]
  },
  {
   "cell_type": "code",
   "execution_count": 14,
   "id": "5a9c4bed",
   "metadata": {
    "execution": {
     "iopub.execute_input": "2025-07-23T16:44:42.585001Z",
     "iopub.status.busy": "2025-07-23T16:44:42.584667Z",
     "iopub.status.idle": "2025-07-23T16:44:42.680359Z",
     "shell.execute_reply": "2025-07-23T16:44:42.678857Z"
    },
    "papermill": {
     "duration": 0.119297,
     "end_time": "2025-07-23T16:44:42.682266",
     "exception": false,
     "start_time": "2025-07-23T16:44:42.562969",
     "status": "completed"
    },
    "tags": []
   },
   "outputs": [],
   "source": [
    "# 3. Impute credit_score using group median (by country & age_bin)\n",
    "train['credit_score'] = train.groupby(['country', 'age_bin'])['credit_score'].transform(lambda x: x.fillna(x.median()))\n",
    "\n",
    "# 4. Impute acc_balance using group median (by prod_count)\n",
    "train['acc_balance'] = train.groupby(['prod_count'])['acc_balance'].transform(lambda x: x.fillna(x.median()))\n",
    "\n",
    "# 5. Impute prod_count using group median (by is_active)\n",
    "train['prod_count'] = train.groupby(['is_active'])['prod_count'].transform(lambda x: x.fillna(x.median()))\n",
    "\n",
    "                           \n",
    "# 6. Impute country using mode\n",
    "train['country'] = train['country'].fillna(train['country'].mode()[0])"
   ]
  },
  {
   "cell_type": "markdown",
   "id": "cd917a7a",
   "metadata": {
    "papermill": {
     "duration": 0.020407,
     "end_time": "2025-07-23T16:44:42.724677",
     "exception": false,
     "start_time": "2025-07-23T16:44:42.704270",
     "status": "completed"
    },
    "tags": []
   },
   "source": [
    "After group-wise median imputation (based on country, age_bin, or prod_count), some values may still remain missing due to group sparsity or lack of sufficient non-null observations.\n",
    "As a fallback, we impute these remaining missing values with the overall feature median to ensure no nulls persist in the final training dataset."
   ]
  },
  {
   "cell_type": "code",
   "execution_count": 15,
   "id": "0805005d",
   "metadata": {
    "execution": {
     "iopub.execute_input": "2025-07-23T16:44:42.766993Z",
     "iopub.status.busy": "2025-07-23T16:44:42.766599Z",
     "iopub.status.idle": "2025-07-23T16:44:42.792636Z",
     "shell.execute_reply": "2025-07-23T16:44:42.791560Z"
    },
    "papermill": {
     "duration": 0.049024,
     "end_time": "2025-07-23T16:44:42.794223",
     "exception": false,
     "start_time": "2025-07-23T16:44:42.745199",
     "status": "completed"
    },
    "tags": []
   },
   "outputs": [
    {
     "data": {
      "text/plain": [
       "id                         0\n",
       "customer_id                0\n",
       "last_name                  0\n",
       "credit_score            6021\n",
       "country                    0\n",
       "gender                     0\n",
       "age                        0\n",
       "tenure                     0\n",
       "acc_balance             4863\n",
       "prod_count                 0\n",
       "has_card                   0\n",
       "is_active                  0\n",
       "estimated_salary           0\n",
       "exit_status                0\n",
       "age_bin                    0\n",
       "missing_credit_score       0\n",
       "missing_acc_balance        0\n",
       "missing_prod_count         0\n",
       "missing_country            0\n",
       "dtype: int64"
      ]
     },
     "execution_count": 15,
     "metadata": {},
     "output_type": "execute_result"
    }
   ],
   "source": [
    "train.isnull().sum()"
   ]
  },
  {
   "cell_type": "code",
   "execution_count": 16,
   "id": "2f9ef7fa",
   "metadata": {
    "execution": {
     "iopub.execute_input": "2025-07-23T16:44:42.837195Z",
     "iopub.status.busy": "2025-07-23T16:44:42.836805Z",
     "iopub.status.idle": "2025-07-23T16:44:43.416804Z",
     "shell.execute_reply": "2025-07-23T16:44:43.415929Z"
    },
    "papermill": {
     "duration": 0.603343,
     "end_time": "2025-07-23T16:44:43.418565",
     "exception": false,
     "start_time": "2025-07-23T16:44:42.815222",
     "status": "completed"
    },
    "tags": []
   },
   "outputs": [],
   "source": [
    "from sklearn.impute import SimpleImputer\n",
    "median_imputer=SimpleImputer(strategy='median')\n",
    "train['credit_score']=pd.DataFrame(median_imputer.fit_transform(train[['credit_score']]),index=train.index,columns=['credit_score'])\n",
    "train['acc_balance']=pd.DataFrame(median_imputer.fit_transform(train[['acc_balance']]),index=train.index,columns=['acc_balance'])"
   ]
  },
  {
   "cell_type": "code",
   "execution_count": 17,
   "id": "2ff7ea50",
   "metadata": {
    "execution": {
     "iopub.execute_input": "2025-07-23T16:44:43.463045Z",
     "iopub.status.busy": "2025-07-23T16:44:43.462683Z",
     "iopub.status.idle": "2025-07-23T16:44:43.489107Z",
     "shell.execute_reply": "2025-07-23T16:44:43.488230Z"
    },
    "papermill": {
     "duration": 0.051155,
     "end_time": "2025-07-23T16:44:43.490509",
     "exception": false,
     "start_time": "2025-07-23T16:44:43.439354",
     "status": "completed"
    },
    "tags": []
   },
   "outputs": [
    {
     "data": {
      "text/plain": [
       "id                      0\n",
       "customer_id             0\n",
       "last_name               0\n",
       "credit_score            0\n",
       "country                 0\n",
       "gender                  0\n",
       "age                     0\n",
       "tenure                  0\n",
       "acc_balance             0\n",
       "prod_count              0\n",
       "has_card                0\n",
       "is_active               0\n",
       "estimated_salary        0\n",
       "exit_status             0\n",
       "age_bin                 0\n",
       "missing_credit_score    0\n",
       "missing_acc_balance     0\n",
       "missing_prod_count      0\n",
       "missing_country         0\n",
       "dtype: int64"
      ]
     },
     "execution_count": 17,
     "metadata": {},
     "output_type": "execute_result"
    }
   ],
   "source": [
    "train.isnull().sum()"
   ]
  },
  {
   "cell_type": "markdown",
   "id": "1132120f",
   "metadata": {
    "papermill": {
     "duration": 0.020108,
     "end_time": "2025-07-23T16:44:43.531704",
     "exception": false,
     "start_time": "2025-07-23T16:44:43.511596",
     "status": "completed"
    },
    "tags": []
   },
   "source": [
    "## Testing Dataset"
   ]
  },
  {
   "cell_type": "code",
   "execution_count": 18,
   "id": "a43e0863",
   "metadata": {
    "execution": {
     "iopub.execute_input": "2025-07-23T16:44:43.573920Z",
     "iopub.status.busy": "2025-07-23T16:44:43.573626Z",
     "iopub.status.idle": "2025-07-23T16:44:43.580109Z",
     "shell.execute_reply": "2025-07-23T16:44:43.579225Z"
    },
    "papermill": {
     "duration": 0.029745,
     "end_time": "2025-07-23T16:44:43.581730",
     "exception": false,
     "start_time": "2025-07-23T16:44:43.551985",
     "status": "completed"
    },
    "tags": []
   },
   "outputs": [],
   "source": [
    "# 1. Use same age bins as training\n",
    "test['age_bin'] = pd.cut(test['age'], bins=[17, 30, 40, 50, 60, 100], labels=False, include_lowest=True)"
   ]
  },
  {
   "cell_type": "code",
   "execution_count": 19,
   "id": "ab941205",
   "metadata": {
    "execution": {
     "iopub.execute_input": "2025-07-23T16:44:43.625641Z",
     "iopub.status.busy": "2025-07-23T16:44:43.625284Z",
     "iopub.status.idle": "2025-07-23T16:44:43.636491Z",
     "shell.execute_reply": "2025-07-23T16:44:43.635481Z"
    },
    "papermill": {
     "duration": 0.034213,
     "end_time": "2025-07-23T16:44:43.638121",
     "exception": false,
     "start_time": "2025-07-23T16:44:43.603908",
     "status": "completed"
    },
    "tags": []
   },
   "outputs": [],
   "source": [
    "# 2. Create missing indicators for test dataset\n",
    "test['missing_credit_score'] = test['credit_score'].isna().astype(int)\n",
    "test['missing_acc_balance'] = test['acc_balance'].isna().astype(int)\n",
    "test['missing_prod_count'] = test['prod_count'].isna().astype(int)\n",
    "test['missing_country'] = test['country'].isna().astype(int)"
   ]
  },
  {
   "cell_type": "code",
   "execution_count": 20,
   "id": "8cf0bf4a",
   "metadata": {
    "execution": {
     "iopub.execute_input": "2025-07-23T16:44:43.683105Z",
     "iopub.status.busy": "2025-07-23T16:44:43.682780Z",
     "iopub.status.idle": "2025-07-23T16:44:43.689269Z",
     "shell.execute_reply": "2025-07-23T16:44:43.688415Z"
    },
    "papermill": {
     "duration": 0.032191,
     "end_time": "2025-07-23T16:44:43.690797",
     "exception": false,
     "start_time": "2025-07-23T16:44:43.658606",
     "status": "completed"
    },
    "tags": []
   },
   "outputs": [],
   "source": [
    "# For test dataset imputation\n",
    "def impute_credit_score(row):\n",
    "    if pd.notnull(row['credit_score']):\n",
    "        return row['credit_score']\n",
    "    try:\n",
    "        return group_medians_credit.loc[(row['country'], row['age_bin'])]\n",
    "    except KeyError:\n",
    "        return train['credit_score'].median()  # fallback\n",
    "\n",
    "def impute_acc_balance(row):\n",
    "    if pd.notnull(row['acc_balance']):\n",
    "        return row['acc_balance']\n",
    "    try:\n",
    "        return group_medians_acc.loc[row['prod_count']]\n",
    "    except KeyError:\n",
    "        return train['acc_balance'].median()\n",
    "\n",
    "def impute_prod_count(row):\n",
    "    if pd.notnull(row['prod_count']):\n",
    "        return row['prod_count']\n",
    "    try:\n",
    "        return group_medians_prod.loc[row['is_active']]\n",
    "    except KeyError:\n",
    "        return train['prod_count'].median()"
   ]
  },
  {
   "cell_type": "code",
   "execution_count": 21,
   "id": "69b82da6",
   "metadata": {
    "execution": {
     "iopub.execute_input": "2025-07-23T16:44:43.733457Z",
     "iopub.status.busy": "2025-07-23T16:44:43.733124Z",
     "iopub.status.idle": "2025-07-23T16:44:45.864607Z",
     "shell.execute_reply": "2025-07-23T16:44:45.863630Z"
    },
    "papermill": {
     "duration": 2.154796,
     "end_time": "2025-07-23T16:44:45.866358",
     "exception": false,
     "start_time": "2025-07-23T16:44:43.711562",
     "status": "completed"
    },
    "tags": []
   },
   "outputs": [],
   "source": [
    "# 2. Impute credit_score using (country, age_bin) median from train\n",
    "group_medians_credit = train.groupby(['country', 'age_bin'])['credit_score'].median()\n",
    "\n",
    "\n",
    "test['credit_score'] = test.apply(impute_credit_score, axis=1)\n",
    "\n",
    "# 3. Impute acc_balance using prod_count median from train\n",
    "group_medians_acc = train.groupby(['prod_count'])['acc_balance'].median()\n",
    "\n",
    "\n",
    "test['acc_balance'] = test.apply(impute_acc_balance, axis=1)\n",
    "\n",
    "# 4. Impute prod_count using is_active median from train\n",
    "group_medians_prod = train.groupby(['is_active'])['prod_count'].median()\n",
    "\n",
    "\n",
    "\n",
    "test['prod_count'] = test.apply(impute_prod_count, axis=1)\n",
    "\n",
    "# 5. Impute country using mode from train\n",
    "test['country'] = test['country'].fillna(train['country'].mode()[0])\n"
   ]
  },
  {
   "cell_type": "code",
   "execution_count": 22,
   "id": "a9e220b6",
   "metadata": {
    "execution": {
     "iopub.execute_input": "2025-07-23T16:44:45.909597Z",
     "iopub.status.busy": "2025-07-23T16:44:45.909207Z",
     "iopub.status.idle": "2025-07-23T16:44:45.922307Z",
     "shell.execute_reply": "2025-07-23T16:44:45.921511Z"
    },
    "papermill": {
     "duration": 0.035972,
     "end_time": "2025-07-23T16:44:45.923703",
     "exception": false,
     "start_time": "2025-07-23T16:44:45.887731",
     "status": "completed"
    },
    "tags": []
   },
   "outputs": [
    {
     "data": {
      "text/plain": [
       "id                      0\n",
       "customer_id             0\n",
       "last_name               0\n",
       "credit_score            0\n",
       "country                 0\n",
       "gender                  0\n",
       "age                     0\n",
       "tenure                  0\n",
       "acc_balance             0\n",
       "prod_count              0\n",
       "has_card                0\n",
       "is_active               0\n",
       "estimated_salary        0\n",
       "age_bin                 0\n",
       "missing_credit_score    0\n",
       "missing_acc_balance     0\n",
       "missing_prod_count      0\n",
       "missing_country         0\n",
       "dtype: int64"
      ]
     },
     "execution_count": 22,
     "metadata": {},
     "output_type": "execute_result"
    }
   ],
   "source": [
    "test.isnull().sum()"
   ]
  },
  {
   "cell_type": "markdown",
   "id": "7673fc8d",
   "metadata": {
    "papermill": {
     "duration": 0.020497,
     "end_time": "2025-07-23T16:44:45.965258",
     "exception": false,
     "start_time": "2025-07-23T16:44:45.944761",
     "status": "completed"
    },
    "tags": []
   },
   "source": [
    "# Identifying and Handling Duplicates"
   ]
  },
  {
   "cell_type": "markdown",
   "id": "97d9fa3b",
   "metadata": {
    "papermill": {
     "duration": 0.020158,
     "end_time": "2025-07-23T16:44:46.006351",
     "exception": false,
     "start_time": "2025-07-23T16:44:45.986193",
     "status": "completed"
    },
    "tags": []
   },
   "source": [
    "## Training Dataset"
   ]
  },
  {
   "cell_type": "code",
   "execution_count": 23,
   "id": "689e28d4",
   "metadata": {
    "execution": {
     "iopub.execute_input": "2025-07-23T16:44:46.048697Z",
     "iopub.status.busy": "2025-07-23T16:44:46.048389Z",
     "iopub.status.idle": "2025-07-23T16:44:46.111289Z",
     "shell.execute_reply": "2025-07-23T16:44:46.110187Z"
    },
    "papermill": {
     "duration": 0.08611,
     "end_time": "2025-07-23T16:44:46.112929",
     "exception": false,
     "start_time": "2025-07-23T16:44:46.026819",
     "status": "completed"
    },
    "tags": []
   },
   "outputs": [
    {
     "name": "stdout",
     "output_type": "stream",
     "text": [
      "The number of duplicate rows: 0\n"
     ]
    }
   ],
   "source": [
    "duplicates=train[train.duplicated()]\n",
    "num_of_duplicates=duplicates.shape[0]\n",
    "\n",
    "print(f\"The number of duplicate rows: {num_of_duplicates}\" )"
   ]
  },
  {
   "cell_type": "code",
   "execution_count": 24,
   "id": "a9e96d4f",
   "metadata": {
    "execution": {
     "iopub.execute_input": "2025-07-23T16:44:46.156379Z",
     "iopub.status.busy": "2025-07-23T16:44:46.155993Z",
     "iopub.status.idle": "2025-07-23T16:44:46.315559Z",
     "shell.execute_reply": "2025-07-23T16:44:46.314329Z"
    },
    "papermill": {
     "duration": 0.183559,
     "end_time": "2025-07-23T16:44:46.317371",
     "exception": false,
     "start_time": "2025-07-23T16:44:46.133812",
     "status": "completed"
    },
    "tags": []
   },
   "outputs": [
    {
     "name": "stdout",
     "output_type": "stream",
     "text": [
      "The number of duplicates after removal: 0\n"
     ]
    }
   ],
   "source": [
    "train=train.drop_duplicates()\n",
    "print(f\"The number of duplicates after removal: {train.duplicated().sum()}\")"
   ]
  },
  {
   "cell_type": "markdown",
   "id": "ff05f9fa",
   "metadata": {
    "papermill": {
     "duration": 0.020966,
     "end_time": "2025-07-23T16:44:46.359765",
     "exception": false,
     "start_time": "2025-07-23T16:44:46.338799",
     "status": "completed"
    },
    "tags": []
   },
   "source": [
    "## Testing Dataset"
   ]
  },
  {
   "cell_type": "code",
   "execution_count": 25,
   "id": "b147d091",
   "metadata": {
    "execution": {
     "iopub.execute_input": "2025-07-23T16:44:46.403527Z",
     "iopub.status.busy": "2025-07-23T16:44:46.403177Z",
     "iopub.status.idle": "2025-07-23T16:44:46.427285Z",
     "shell.execute_reply": "2025-07-23T16:44:46.425644Z"
    },
    "papermill": {
     "duration": 0.047749,
     "end_time": "2025-07-23T16:44:46.428848",
     "exception": false,
     "start_time": "2025-07-23T16:44:46.381099",
     "status": "completed"
    },
    "tags": []
   },
   "outputs": [
    {
     "name": "stdout",
     "output_type": "stream",
     "text": [
      "The number of duplicate rows: 0\n"
     ]
    }
   ],
   "source": [
    "duplicates=test[test.duplicated()]\n",
    "num_of_duplicates=duplicates.shape[0]\n",
    "\n",
    "print(f\"The number of duplicate rows: {num_of_duplicates}\" )"
   ]
  },
  {
   "cell_type": "code",
   "execution_count": 26,
   "id": "b1951d26",
   "metadata": {
    "execution": {
     "iopub.execute_input": "2025-07-23T16:44:46.473345Z",
     "iopub.status.busy": "2025-07-23T16:44:46.473007Z",
     "iopub.status.idle": "2025-07-23T16:44:46.503178Z",
     "shell.execute_reply": "2025-07-23T16:44:46.502347Z"
    },
    "papermill": {
     "duration": 0.054997,
     "end_time": "2025-07-23T16:44:46.505032",
     "exception": false,
     "start_time": "2025-07-23T16:44:46.450035",
     "status": "completed"
    },
    "tags": []
   },
   "outputs": [],
   "source": [
    "test=test.drop_duplicates()"
   ]
  },
  {
   "cell_type": "markdown",
   "id": "2c0cd84f",
   "metadata": {
    "papermill": {
     "duration": 0.02096,
     "end_time": "2025-07-23T16:44:46.547652",
     "exception": false,
     "start_time": "2025-07-23T16:44:46.526692",
     "status": "completed"
    },
    "tags": []
   },
   "source": [
    "# Identifying and Handling Outliers"
   ]
  },
  {
   "cell_type": "markdown",
   "id": "60f9ff63",
   "metadata": {
    "papermill": {
     "duration": 0.020984,
     "end_time": "2025-07-23T16:44:46.591772",
     "exception": false,
     "start_time": "2025-07-23T16:44:46.570788",
     "status": "completed"
    },
    "tags": []
   },
   "source": [
    "## Training Dataset"
   ]
  },
  {
   "cell_type": "code",
   "execution_count": 27,
   "id": "8da7a34d",
   "metadata": {
    "execution": {
     "iopub.execute_input": "2025-07-23T16:44:46.635140Z",
     "iopub.status.busy": "2025-07-23T16:44:46.634575Z",
     "iopub.status.idle": "2025-07-23T16:44:46.692685Z",
     "shell.execute_reply": "2025-07-23T16:44:46.691462Z"
    },
    "papermill": {
     "duration": 0.081802,
     "end_time": "2025-07-23T16:44:46.694386",
     "exception": false,
     "start_time": "2025-07-23T16:44:46.612584",
     "status": "completed"
    },
    "tags": []
   },
   "outputs": [
    {
     "name": "stdout",
     "output_type": "stream",
     "text": [
      "The total number of outliers in columns:{'credit_score': 2826, 'age': 3411, 'prod_count': 263}\n"
     ]
    }
   ],
   "source": [
    "#sns.boxplot(x=train['column_name'])--> for visualizing\n",
    "# Exclude binary/categorical columns from outlier detection\n",
    "excluded_cols = ['exit_status', 'has_card'] + [col for col in train.columns if col.startswith('missing') or col == 'age_bin']\n",
    "numeric_cols = [col for col in train.select_dtypes(include=['int64', 'float64']).columns if col not in excluded_cols]\n",
    "outlier_counts={}\n",
    "def outliers(train,cols):\n",
    "    for col in cols:\n",
    "        Q1 = train[col].quantile(0.25)\n",
    "        Q3 = train[col].quantile(0.75)\n",
    "        IQR = Q3 - Q1\n",
    "        lower = Q1 - 1.5 * IQR\n",
    "        upper = Q3 + 1.5 * IQR\n",
    "        outliers = train[(train[col] < lower) | (train[col] > upper)]\n",
    "        if outliers.shape[0]>0:\n",
    "            outlier_counts[col] = outliers.shape[0]\n",
    "    return outlier_counts\n",
    "result=outliers(train,numeric_cols)\n",
    "print(f\"The total number of outliers in columns:{result}\")"
   ]
  },
  {
   "cell_type": "code",
   "execution_count": 28,
   "id": "4ae5d3df",
   "metadata": {
    "execution": {
     "iopub.execute_input": "2025-07-23T16:44:46.739854Z",
     "iopub.status.busy": "2025-07-23T16:44:46.739514Z",
     "iopub.status.idle": "2025-07-23T16:44:46.767956Z",
     "shell.execute_reply": "2025-07-23T16:44:46.766952Z"
    },
    "papermill": {
     "duration": 0.053237,
     "end_time": "2025-07-23T16:44:46.769825",
     "exception": false,
     "start_time": "2025-07-23T16:44:46.716588",
     "status": "completed"
    },
    "tags": []
   },
   "outputs": [],
   "source": [
    "caps=dict() #to store the capping values that can be used in test dataset\n",
    "def cap_outliers(train, col):\n",
    "    Q1 = train[col].quantile(0.25)\n",
    "    Q3 = train[col].quantile(0.75)\n",
    "    IQR = Q3 - Q1\n",
    "    lower = Q1 - 1.5 * IQR\n",
    "    upper = Q3 + 1.5 * IQR\n",
    "    caps[col]=(lower,upper)\n",
    "    train[col] = train[col].clip(lower=lower, upper=upper)\n",
    "    \n",
    "for col in ['credit_score', 'age', 'prod_count']:\n",
    "    cap_outliers(train, col)\n"
   ]
  },
  {
   "cell_type": "markdown",
   "id": "f2d5628a",
   "metadata": {
    "papermill": {
     "duration": 0.022869,
     "end_time": "2025-07-23T16:44:46.814846",
     "exception": false,
     "start_time": "2025-07-23T16:44:46.791977",
     "status": "completed"
    },
    "tags": []
   },
   "source": [
    "## Testing Dataset"
   ]
  },
  {
   "cell_type": "code",
   "execution_count": 29,
   "id": "7ec6f8c2",
   "metadata": {
    "execution": {
     "iopub.execute_input": "2025-07-23T16:44:46.859599Z",
     "iopub.status.busy": "2025-07-23T16:44:46.859218Z",
     "iopub.status.idle": "2025-07-23T16:44:46.873168Z",
     "shell.execute_reply": "2025-07-23T16:44:46.871775Z"
    },
    "papermill": {
     "duration": 0.039188,
     "end_time": "2025-07-23T16:44:46.875480",
     "exception": false,
     "start_time": "2025-07-23T16:44:46.836292",
     "status": "completed"
    },
    "tags": []
   },
   "outputs": [],
   "source": [
    "#Handling the outliers in the testing dataset according to training dataset\n",
    "for col, (lower_cap, upper_cap) in caps.items():\n",
    "    test[col] = test[col].clip(lower=lower_cap, upper=upper_cap)\n"
   ]
  },
  {
   "cell_type": "markdown",
   "id": "814cb0a8",
   "metadata": {
    "papermill": {
     "duration": 0.021844,
     "end_time": "2025-07-23T16:44:46.919518",
     "exception": false,
     "start_time": "2025-07-23T16:44:46.897674",
     "status": "completed"
    },
    "tags": []
   },
   "source": [
    "# Visualization and Key Insights"
   ]
  },
  {
   "cell_type": "code",
   "execution_count": 30,
   "id": "57d7137a",
   "metadata": {
    "execution": {
     "iopub.execute_input": "2025-07-23T16:44:46.964768Z",
     "iopub.status.busy": "2025-07-23T16:44:46.964429Z",
     "iopub.status.idle": "2025-07-23T16:44:47.218905Z",
     "shell.execute_reply": "2025-07-23T16:44:47.217965Z"
    },
    "papermill": {
     "duration": 0.280101,
     "end_time": "2025-07-23T16:44:47.220636",
     "exception": false,
     "start_time": "2025-07-23T16:44:46.940535",
     "status": "completed"
    },
    "tags": []
   },
   "outputs": [
    {
     "data": {
      "image/png": "[encoded data removed]",
      "text/plain": [
       "<Figure size 640x480 with 1 Axes>"
      ]
     },
     "metadata": {},
     "output_type": "display_data"
    }
   ],
   "source": [
    "sns.countplot(x='age_bin', hue='exit_status', data=train)\n",
    "plt.title('Exit Status by Age Bin')\n",
    "plt.xlabel('Age Bin')\n",
    "plt.ylabel('Count')\n",
    "\n",
    "# Replace numeric bin labels with readable age ranges\n",
    "plt.xticks(ticks=[0, 1, 2, 3, 4], labels=['18–30', '31–40', '41–50', '51–60', '60+'])\n",
    "\n",
    "plt.legend(title='Exit Status', labels=['Stayed', 'Exited'])\n",
    "plt.tight_layout()\n",
    "plt.show()"
   ]
  },
  {
   "cell_type": "markdown",
   "id": "840cc7c6",
   "metadata": {
    "papermill": {
     "duration": 0.021205,
     "end_time": "2025-07-23T16:44:47.263778",
     "exception": false,
     "start_time": "2025-07-23T16:44:47.242573",
     "status": "completed"
    },
    "tags": []
   },
   "source": [
    "### Insight:\n",
    "\n",
    "Customers aged 31–40 form the largest segment and are the least likely to exit.\n",
    "\n",
    "Exit rates increase notably in the 41–50 and 51–60 age bins.\n",
    "\n",
    "Customers aged 60+ show relatively low exit and engagement, possibly due to a smaller sample.\n",
    "\n",
    "### Takeaway: Age is a strong predictor — especially customers above 40 are more likely to churn."
   ]
  },
  {
   "cell_type": "code",
   "execution_count": 31,
   "id": "41d31bb3",
   "metadata": {
    "execution": {
     "iopub.execute_input": "2025-07-23T16:44:47.308665Z",
     "iopub.status.busy": "2025-07-23T16:44:47.308353Z",
     "iopub.status.idle": "2025-07-23T16:44:47.463062Z",
     "shell.execute_reply": "2025-07-23T16:44:47.462110Z"
    },
    "papermill": {
     "duration": 0.179378,
     "end_time": "2025-07-23T16:44:47.464717",
     "exception": false,
     "start_time": "2025-07-23T16:44:47.285339",
     "status": "completed"
    },
    "tags": []
   },
   "outputs": [
    {
     "data": {
      "image/png": "[encoded data removed]",
      "text/plain": [
       "<Figure size 640x480 with 1 Axes>"
      ]
     },
     "metadata": {},
     "output_type": "display_data"
    }
   ],
   "source": [
    "exit_rate_by_country = train.groupby('country')['exit_status'].mean().sort_values()\n",
    "sns.barplot(x=exit_rate_by_country.index, y=exit_rate_by_country.values)\n",
    "plt.xticks(rotation=45)\n",
    "plt.grid(axis='y')"
   ]
  },
  {
   "cell_type": "markdown",
   "id": "7a32be04",
   "metadata": {
    "papermill": {
     "duration": 0.028414,
     "end_time": "2025-07-23T16:44:47.517006",
     "exception": false,
     "start_time": "2025-07-23T16:44:47.488592",
     "status": "completed"
    },
    "tags": []
   },
   "source": [
    "### Insight:\n",
    "\n",
    "Germany has the highest exit rate, clearly standing out from other countries.\n",
    "\n",
    "France and Spain have similar and relatively low churn rates.\n",
    "\n",
    "### Takeaway: Country of residence impacts churn, with Germany showing signs of higher dissatisfaction or disengagement."
   ]
  },
  {
   "cell_type": "code",
   "execution_count": 32,
   "id": "e0d68547",
   "metadata": {
    "execution": {
     "iopub.execute_input": "2025-07-23T16:44:47.564664Z",
     "iopub.status.busy": "2025-07-23T16:44:47.564341Z",
     "iopub.status.idle": "2025-07-23T16:44:47.701093Z",
     "shell.execute_reply": "2025-07-23T16:44:47.700083Z"
    },
    "papermill": {
     "duration": 0.161999,
     "end_time": "2025-07-23T16:44:47.702648",
     "exception": false,
     "start_time": "2025-07-23T16:44:47.540649",
     "status": "completed"
    },
    "tags": []
   },
   "outputs": [
    {
     "data": {
      "image/png": "[encoded data removed]",
      "text/plain": [
       "<Figure size 640x480 with 1 Axes>"
      ]
     },
     "metadata": {},
     "output_type": "display_data"
    }
   ],
   "source": [
    "exit_rate_by_product = train.groupby('prod_count')['exit_status'].mean()\n",
    "sns.barplot(x=exit_rate_by_product.index, y=exit_rate_by_product.values)\n",
    "plt.xlabel(\"Number of Products\")\n",
    "plt.ylabel(\"Exit Rate\")\n",
    "plt.grid(axis='y')"
   ]
  },
  {
   "cell_type": "markdown",
   "id": "b4916dbf",
   "metadata": {
    "papermill": {
     "duration": 0.022028,
     "end_time": "2025-07-23T16:44:47.747403",
     "exception": false,
     "start_time": "2025-07-23T16:44:47.725375",
     "status": "completed"
    },
    "tags": []
   },
   "source": [
    "### Insight:\n",
    "\n",
    "Customers with 2 products have the lowest churn rate, indicating higher satisfaction or engagement.\n",
    "\n",
    "Those with 3 or more products show an extremely high churn rate, possibly due to:\n",
    "\n",
    "Overburdened account handling\n",
    "\n",
    "Ineffective cross-selling or up-selling\n",
    "\n",
    "Even 1-product customers show a moderate churn rate.\n",
    "\n",
    "### Takeaway: Optimal engagement seems to be around 2 products; more isn’t always better — flag high product count customers for retention strategies."
   ]
  },
  {
   "cell_type": "code",
   "execution_count": 33,
   "id": "1c2a2953",
   "metadata": {
    "execution": {
     "iopub.execute_input": "2025-07-23T16:44:47.793092Z",
     "iopub.status.busy": "2025-07-23T16:44:47.792779Z",
     "iopub.status.idle": "2025-07-23T16:44:47.926328Z",
     "shell.execute_reply": "2025-07-23T16:44:47.925334Z"
    },
    "papermill": {
     "duration": 0.158266,
     "end_time": "2025-07-23T16:44:47.927783",
     "exception": false,
     "start_time": "2025-07-23T16:44:47.769517",
     "status": "completed"
    },
    "tags": []
   },
   "outputs": [
    {
     "data": {
      "text/plain": [
       "<Axes: xlabel='exit_status', ylabel='count'>"
      ]
     },
     "execution_count": 33,
     "metadata": {},
     "output_type": "execute_result"
    },
    {
     "data": {
      "image/png": "[encoded data removed]",
      "text/plain": [
       "<Figure size 640x480 with 1 Axes>"
      ]
     },
     "metadata": {},
     "output_type": "display_data"
    }
   ],
   "source": [
    "sns.countplot(x='exit_status', data=train)\n"
   ]
  },
  {
   "cell_type": "markdown",
   "id": "4cae266f",
   "metadata": {
    "papermill": {
     "duration": 0.024593,
     "end_time": "2025-07-23T16:44:47.976328",
     "exception": false,
     "start_time": "2025-07-23T16:44:47.951735",
     "status": "completed"
    },
    "tags": []
   },
   "source": [
    "### 4. Class Imbalance (Exit Status)\n",
    "### Insight:\n",
    "\n",
    "There’s a clear class imbalance:\n",
    "\n",
    "~20% customers exited (1)\n",
    "\n",
    "~80% customers stayed (0)\n",
    "\n",
    "This imbalance needs to be addressed using methods like:\n",
    "\n",
    "Resampling (SMOTE/undersampling)\n",
    "\n",
    "Stratified K-Fold Cross-validation\n",
    "\n",
    "F1-score/ROC-AUC over accuracy\n",
    "\n",
    "### Takeaway: Imbalanced classification problem — evaluation and training strategies must account for it to avoid misleading performance metrics."
   ]
  },
  {
   "cell_type": "markdown",
   "id": "ef887530",
   "metadata": {
    "papermill": {
     "duration": 0.022836,
     "end_time": "2025-07-23T16:44:48.022497",
     "exception": false,
     "start_time": "2025-07-23T16:44:47.999661",
     "status": "completed"
    },
    "tags": []
   },
   "source": [
    "# Scaling and Encoding"
   ]
  },
  {
   "cell_type": "code",
   "execution_count": 34,
   "id": "94f0d395",
   "metadata": {
    "execution": {
     "iopub.execute_input": "2025-07-23T16:44:48.074821Z",
     "iopub.status.busy": "2025-07-23T16:44:48.074487Z",
     "iopub.status.idle": "2025-07-23T16:44:48.101728Z",
     "shell.execute_reply": "2025-07-23T16:44:48.100825Z"
    },
    "papermill": {
     "duration": 0.057338,
     "end_time": "2025-07-23T16:44:48.103370",
     "exception": false,
     "start_time": "2025-07-23T16:44:48.046032",
     "status": "completed"
    },
    "tags": []
   },
   "outputs": [],
   "source": [
    "from sklearn.compose import ColumnTransformer\n",
    "from sklearn.pipeline import Pipeline\n",
    "from sklearn.model_selection import train_test_split"
   ]
  },
  {
   "cell_type": "markdown",
   "id": "cc6f67e2",
   "metadata": {
    "papermill": {
     "duration": 0.023446,
     "end_time": "2025-07-23T16:44:48.150205",
     "exception": false,
     "start_time": "2025-07-23T16:44:48.126759",
     "status": "completed"
    },
    "tags": []
   },
   "source": [
    "🎯 stratify=y ensures class balance is maintained when splitting the dataset.\n",
    "Why it's important:\n",
    "In classification problems — if your classes are imbalanced (e.g., 80% stayed, 20% exited), a regular train_test_split() might randomly create a test set with mostly one class.\n",
    "\n"
   ]
  },
  {
   "cell_type": "code",
   "execution_count": 35,
   "id": "03cc6efb",
   "metadata": {
    "execution": {
     "iopub.execute_input": "2025-07-23T16:44:48.198833Z",
     "iopub.status.busy": "2025-07-23T16:44:48.198529Z",
     "iopub.status.idle": "2025-07-23T16:44:48.215110Z",
     "shell.execute_reply": "2025-07-23T16:44:48.214111Z"
    },
    "papermill": {
     "duration": 0.04325,
     "end_time": "2025-07-23T16:44:48.216715",
     "exception": false,
     "start_time": "2025-07-23T16:44:48.173465",
     "status": "completed"
    },
    "tags": []
   },
   "outputs": [
    {
     "name": "stdout",
     "output_type": "stream",
     "text": [
      "<class 'pandas.core.frame.DataFrame'>\n",
      "RangeIndex: 30000 entries, 0 to 29999\n",
      "Data columns (total 18 columns):\n",
      " #   Column                Non-Null Count  Dtype  \n",
      "---  ------                --------------  -----  \n",
      " 0   id                    30000 non-null  int64  \n",
      " 1   customer_id           30000 non-null  int64  \n",
      " 2   last_name             30000 non-null  object \n",
      " 3   credit_score          30000 non-null  float64\n",
      " 4   country               30000 non-null  object \n",
      " 5   gender                30000 non-null  object \n",
      " 6   age                   30000 non-null  float64\n",
      " 7   tenure                30000 non-null  int64  \n",
      " 8   acc_balance           30000 non-null  float64\n",
      " 9   prod_count            30000 non-null  float64\n",
      " 10  has_card              30000 non-null  float64\n",
      " 11  is_active             30000 non-null  float64\n",
      " 12  estimated_salary      30000 non-null  float64\n",
      " 13  age_bin               30000 non-null  int64  \n",
      " 14  missing_credit_score  30000 non-null  int64  \n",
      " 15  missing_acc_balance   30000 non-null  int64  \n",
      " 16  missing_prod_count    30000 non-null  int64  \n",
      " 17  missing_country       30000 non-null  int64  \n",
      "dtypes: float64(7), int64(8), object(3)\n",
      "memory usage: 4.1+ MB\n"
     ]
    }
   ],
   "source": [
    "test.info()"
   ]
  },
  {
   "cell_type": "markdown",
   "id": "9148f620",
   "metadata": {
    "papermill": {
     "duration": 0.023493,
     "end_time": "2025-07-23T16:44:48.263660",
     "exception": false,
     "start_time": "2025-07-23T16:44:48.240167",
     "status": "completed"
    },
    "tags": []
   },
   "source": [
    "## Train-Test split"
   ]
  },
  {
   "cell_type": "code",
   "execution_count": 36,
   "id": "cb189daf",
   "metadata": {
    "execution": {
     "iopub.execute_input": "2025-07-23T16:44:48.312784Z",
     "iopub.status.busy": "2025-07-23T16:44:48.312480Z",
     "iopub.status.idle": "2025-07-23T16:44:48.373487Z",
     "shell.execute_reply": "2025-07-23T16:44:48.372521Z"
    },
    "papermill": {
     "duration": 0.088044,
     "end_time": "2025-07-23T16:44:48.375089",
     "exception": false,
     "start_time": "2025-07-23T16:44:48.287045",
     "status": "completed"
    },
    "tags": []
   },
   "outputs": [],
   "source": [
    "X = train.drop(\"exit_status\", axis=1)\n",
    "y = train[\"exit_status\"]\n",
    "\n",
    "X_train, X_test, y_train, y_test = train_test_split(\n",
    "    X, y, test_size=0.2, stratify=y, random_state=42\n",
    ")"
   ]
  },
  {
   "cell_type": "code",
   "execution_count": 37,
   "id": "1d290ff4",
   "metadata": {
    "execution": {
     "iopub.execute_input": "2025-07-23T16:44:48.424024Z",
     "iopub.status.busy": "2025-07-23T16:44:48.423202Z",
     "iopub.status.idle": "2025-07-23T16:44:48.443708Z",
     "shell.execute_reply": "2025-07-23T16:44:48.442746Z"
    },
    "papermill": {
     "duration": 0.04689,
     "end_time": "2025-07-23T16:44:48.445545",
     "exception": false,
     "start_time": "2025-07-23T16:44:48.398655",
     "status": "completed"
    },
    "tags": []
   },
   "outputs": [],
   "source": [
    "# id and customer_id are unique for every row, hence better to drop\n",
    "X_train=X_train.drop(['id','customer_id'],axis=1)\n",
    "X_test=X_test.drop(['id','customer_id'],axis=1)\n",
    "test=test.drop(['id','customer_id'],axis=1)"
   ]
  },
  {
   "cell_type": "markdown",
   "id": "8d72aa16",
   "metadata": {
    "papermill": {
     "duration": 0.024258,
     "end_time": "2025-07-23T16:44:48.493137",
     "exception": false,
     "start_time": "2025-07-23T16:44:48.468879",
     "status": "completed"
    },
    "tags": []
   },
   "source": [
    "## Encoding Categorical & Scaling Numerical Features"
   ]
  },
  {
   "cell_type": "code",
   "execution_count": 38,
   "id": "eed44f69",
   "metadata": {
    "execution": {
     "iopub.execute_input": "2025-07-23T16:44:48.541415Z",
     "iopub.status.busy": "2025-07-23T16:44:48.540659Z",
     "iopub.status.idle": "2025-07-23T16:44:48.548029Z",
     "shell.execute_reply": "2025-07-23T16:44:48.547310Z"
    },
    "papermill": {
     "duration": 0.032598,
     "end_time": "2025-07-23T16:44:48.549388",
     "exception": false,
     "start_time": "2025-07-23T16:44:48.516790",
     "status": "completed"
    },
    "tags": []
   },
   "outputs": [
    {
     "data": {
      "text/plain": [
       "Index(['last_name', 'country', 'gender'], dtype='object')"
      ]
     },
     "execution_count": 38,
     "metadata": {},
     "output_type": "execute_result"
    }
   ],
   "source": [
    "cat_cols=X_train.select_dtypes(include=\"object\").columns\n",
    "cat_cols"
   ]
  },
  {
   "cell_type": "code",
   "execution_count": 39,
   "id": "57c29c5b",
   "metadata": {
    "execution": {
     "iopub.execute_input": "2025-07-23T16:44:48.597395Z",
     "iopub.status.busy": "2025-07-23T16:44:48.597052Z",
     "iopub.status.idle": "2025-07-23T16:44:48.616263Z",
     "shell.execute_reply": "2025-07-23T16:44:48.615315Z"
    },
    "papermill": {
     "duration": 0.044687,
     "end_time": "2025-07-23T16:44:48.617815",
     "exception": false,
     "start_time": "2025-07-23T16:44:48.573128",
     "status": "completed"
    },
    "tags": []
   },
   "outputs": [
    {
     "data": {
      "text/plain": [
       "array(['France', 'Germany', 'Spain'], dtype=object)"
      ]
     },
     "execution_count": 39,
     "metadata": {},
     "output_type": "execute_result"
    }
   ],
   "source": [
    "X_train['last_name'].unique() #Many Values, better to drop\n",
    "X_train['gender'].unique() # Only 2 values, better to use OneHotEncoder\n",
    "X_train['country'].unique() #Only 3 values, better to use OneHotEncoder"
   ]
  },
  {
   "cell_type": "code",
   "execution_count": 40,
   "id": "51189485",
   "metadata": {
    "execution": {
     "iopub.execute_input": "2025-07-23T16:44:48.666605Z",
     "iopub.status.busy": "2025-07-23T16:44:48.666319Z",
     "iopub.status.idle": "2025-07-23T16:44:48.678594Z",
     "shell.execute_reply": "2025-07-23T16:44:48.677767Z"
    },
    "papermill": {
     "duration": 0.0383,
     "end_time": "2025-07-23T16:44:48.680184",
     "exception": false,
     "start_time": "2025-07-23T16:44:48.641884",
     "status": "completed"
    },
    "tags": []
   },
   "outputs": [],
   "source": [
    "X_train=X_train.drop(['last_name'],axis=1)\n",
    "X_test=X_test.drop(['last_name'],axis=1)\n",
    "test=test.drop(['last_name'],axis=1)"
   ]
  },
  {
   "cell_type": "code",
   "execution_count": 41,
   "id": "c78967ff",
   "metadata": {
    "execution": {
     "iopub.execute_input": "2025-07-23T16:44:48.731388Z",
     "iopub.status.busy": "2025-07-23T16:44:48.731056Z",
     "iopub.status.idle": "2025-07-23T16:44:48.735149Z",
     "shell.execute_reply": "2025-07-23T16:44:48.734399Z"
    },
    "papermill": {
     "duration": 0.032896,
     "end_time": "2025-07-23T16:44:48.736601",
     "exception": false,
     "start_time": "2025-07-23T16:44:48.703705",
     "status": "completed"
    },
    "tags": []
   },
   "outputs": [],
   "source": [
    "from sklearn.preprocessing import OneHotEncoder, StandardScaler"
   ]
  },
  {
   "cell_type": "code",
   "execution_count": 42,
   "id": "8a232312",
   "metadata": {
    "execution": {
     "iopub.execute_input": "2025-07-23T16:44:48.784647Z",
     "iopub.status.busy": "2025-07-23T16:44:48.784343Z",
     "iopub.status.idle": "2025-07-23T16:44:48.797394Z",
     "shell.execute_reply": "2025-07-23T16:44:48.796577Z"
    },
    "papermill": {
     "duration": 0.038751,
     "end_time": "2025-07-23T16:44:48.798789",
     "exception": false,
     "start_time": "2025-07-23T16:44:48.760038",
     "status": "completed"
    },
    "tags": []
   },
   "outputs": [
    {
     "data": {
      "text/plain": [
       "Index(['credit_score', 'age', 'tenure', 'acc_balance', 'prod_count',\n",
       "       'has_card', 'is_active', 'estimated_salary', 'age_bin',\n",
       "       'missing_credit_score', 'missing_acc_balance', 'missing_prod_count',\n",
       "       'missing_country'],\n",
       "      dtype='object')"
      ]
     },
     "execution_count": 42,
     "metadata": {},
     "output_type": "execute_result"
    }
   ],
   "source": [
    "num_cols=X_train.select_dtypes(exclude=\"object\").columns\n",
    "num_cols\n",
    "# num_cols=X_train.select_dtypes(exclude=\"object\").columns\n",
    "# num_cols"
   ]
  },
  {
   "cell_type": "code",
   "execution_count": 43,
   "id": "91a2d2f4",
   "metadata": {
    "execution": {
     "iopub.execute_input": "2025-07-23T16:44:48.848152Z",
     "iopub.status.busy": "2025-07-23T16:44:48.847207Z",
     "iopub.status.idle": "2025-07-23T16:44:49.022346Z",
     "shell.execute_reply": "2025-07-23T16:44:49.021304Z"
    },
    "papermill": {
     "duration": 0.201357,
     "end_time": "2025-07-23T16:44:49.024016",
     "exception": false,
     "start_time": "2025-07-23T16:44:48.822659",
     "status": "completed"
    },
    "tags": []
   },
   "outputs": [],
   "source": [
    "ct=ColumnTransformer([\n",
    "    ('tr1',OneHotEncoder(drop=\"first\",sparse_output=False,handle_unknown='ignore'),['country','gender']),\n",
    "    ('tr2',StandardScaler(),num_cols)\n",
    "],remainder=\"passthrough\",verbose_feature_names_out=False).set_output(transform=\"pandas\")\n",
    "X_train=ct.fit_transform(X_train)\n",
    "X_test=ct.transform(X_test)\n",
    "test=ct.transform(test)"
   ]
  },
  {
   "cell_type": "markdown",
   "id": "482ca74e",
   "metadata": {
    "papermill": {
     "duration": 0.023004,
     "end_time": "2025-07-23T16:44:49.070558",
     "exception": false,
     "start_time": "2025-07-23T16:44:49.047554",
     "status": "completed"
    },
    "tags": []
   },
   "source": [
    "# Model Building"
   ]
  },
  {
   "cell_type": "markdown",
   "id": "1bd39a09",
   "metadata": {
    "papermill": {
     "duration": 0.02308,
     "end_time": "2025-07-23T16:44:49.117187",
     "exception": false,
     "start_time": "2025-07-23T16:44:49.094107",
     "status": "completed"
    },
    "tags": []
   },
   "source": [
    "## Logistic Regression"
   ]
  },
  {
   "cell_type": "code",
   "execution_count": 44,
   "id": "1980f86a",
   "metadata": {
    "execution": {
     "iopub.execute_input": "2025-07-23T16:44:49.165695Z",
     "iopub.status.busy": "2025-07-23T16:44:49.165400Z",
     "iopub.status.idle": "2025-07-23T16:44:49.169708Z",
     "shell.execute_reply": "2025-07-23T16:44:49.168774Z"
    },
    "papermill": {
     "duration": 0.030526,
     "end_time": "2025-07-23T16:44:49.171077",
     "exception": false,
     "start_time": "2025-07-23T16:44:49.140551",
     "status": "completed"
    },
    "tags": []
   },
   "outputs": [],
   "source": [
    "from sklearn.metrics import accuracy_score, precision_score, recall_score, f1_score, confusion_matrix, classification_report\n"
   ]
  },
  {
   "cell_type": "code",
   "execution_count": 45,
   "id": "eca0e97a",
   "metadata": {
    "execution": {
     "iopub.execute_input": "2025-07-23T16:44:49.221159Z",
     "iopub.status.busy": "2025-07-23T16:44:49.220841Z",
     "iopub.status.idle": "2025-07-23T16:44:49.224834Z",
     "shell.execute_reply": "2025-07-23T16:44:49.224111Z"
    },
    "papermill": {
     "duration": 0.031468,
     "end_time": "2025-07-23T16:44:49.226145",
     "exception": false,
     "start_time": "2025-07-23T16:44:49.194677",
     "status": "completed"
    },
    "tags": []
   },
   "outputs": [],
   "source": [
    "from sklearn.linear_model import LogisticRegression"
   ]
  },
  {
   "cell_type": "code",
   "execution_count": 46,
   "id": "d08e39b4",
   "metadata": {
    "execution": {
     "iopub.execute_input": "2025-07-23T16:44:49.274706Z",
     "iopub.status.busy": "2025-07-23T16:44:49.274407Z",
     "iopub.status.idle": "2025-07-23T16:44:49.536756Z",
     "shell.execute_reply": "2025-07-23T16:44:49.535902Z"
    },
    "papermill": {
     "duration": 0.288934,
     "end_time": "2025-07-23T16:44:49.538785",
     "exception": false,
     "start_time": "2025-07-23T16:44:49.249851",
     "status": "completed"
    },
    "tags": []
   },
   "outputs": [
    {
     "name": "stdout",
     "output_type": "stream",
     "text": [
      "Accuracy: 0.8334\n",
      "Precision: 0.6930\n",
      "Recall: 0.3823\n",
      "F1 Score: 0.4927\n",
      "\n",
      "Confusion Matrix:\n",
      "[[13546   645]\n",
      " [ 2353  1456]]\n"
     ]
    }
   ],
   "source": [
    "log_model=LogisticRegression()\n",
    "log_model.fit(X_train,y_train)\n",
    "prediction=log_model.predict(X_test)\n",
    "accuracy = accuracy_score(y_test, prediction)\n",
    "precision = precision_score(y_test, prediction)\n",
    "recall = recall_score(y_test, prediction)\n",
    "f1 = f1_score(y_test, prediction)\n",
    "\n",
    "print(f'Accuracy: {accuracy:.4f}')\n",
    "print(f'Precision: {precision:.4f}')\n",
    "print(f'Recall: {recall:.4f}')\n",
    "print(f'F1 Score: {f1:.4f}')\n",
    "print(\"\\nConfusion Matrix:\")\n",
    "print(confusion_matrix(y_test, prediction))"
   ]
  },
  {
   "cell_type": "markdown",
   "id": "56dbb5fc",
   "metadata": {
    "papermill": {
     "duration": 0.030816,
     "end_time": "2025-07-23T16:44:49.611443",
     "exception": false,
     "start_time": "2025-07-23T16:44:49.580627",
     "status": "completed"
    },
    "tags": []
   },
   "source": [
    "## K Nearest Neighbors Classifier"
   ]
  },
  {
   "cell_type": "code",
   "execution_count": 47,
   "id": "55e0f820",
   "metadata": {
    "execution": {
     "iopub.execute_input": "2025-07-23T16:44:49.661019Z",
     "iopub.status.busy": "2025-07-23T16:44:49.660721Z",
     "iopub.status.idle": "2025-07-23T16:44:49.664990Z",
     "shell.execute_reply": "2025-07-23T16:44:49.664287Z"
    },
    "papermill": {
     "duration": 0.031554,
     "end_time": "2025-07-23T16:44:49.666489",
     "exception": false,
     "start_time": "2025-07-23T16:44:49.634935",
     "status": "completed"
    },
    "tags": []
   },
   "outputs": [],
   "source": [
    "from sklearn.neighbors import KNeighborsClassifier"
   ]
  },
  {
   "cell_type": "code",
   "execution_count": 48,
   "id": "c0e6ec39",
   "metadata": {
    "execution": {
     "iopub.execute_input": "2025-07-23T16:44:49.716843Z",
     "iopub.status.busy": "2025-07-23T16:44:49.716322Z",
     "iopub.status.idle": "2025-07-23T16:44:53.131734Z",
     "shell.execute_reply": "2025-07-23T16:44:53.130790Z"
    },
    "papermill": {
     "duration": 3.44322,
     "end_time": "2025-07-23T16:44:53.133344",
     "exception": false,
     "start_time": "2025-07-23T16:44:49.690124",
     "status": "completed"
    },
    "tags": []
   },
   "outputs": [
    {
     "name": "stdout",
     "output_type": "stream",
     "text": [
      "Accuracy: 0.8412\n",
      "Precision: 0.6612\n",
      "Recall: 0.5114\n",
      "F1 Score: 0.5768\n",
      "\n",
      "Confusion Matrix:\n",
      "[[13193   998]\n",
      " [ 1861  1948]]\n"
     ]
    }
   ],
   "source": [
    "knn_model=KNeighborsClassifier()\n",
    "knn_model.fit(X_train,y_train)\n",
    "prediction = knn_model.predict(X_test)\n",
    "accuracy = accuracy_score(y_test, prediction)\n",
    "precision = precision_score(y_test, prediction)\n",
    "recall = recall_score(y_test, prediction)\n",
    "f1 = f1_score(y_test, prediction)\n",
    "\n",
    "print(f'Accuracy: {accuracy:.4f}')\n",
    "print(f'Precision: {precision:.4f}')\n",
    "print(f'Recall: {recall:.4f}')\n",
    "print(f'F1 Score: {f1:.4f}')\n",
    "print(\"\\nConfusion Matrix:\")\n",
    "print(confusion_matrix(y_test, prediction))"
   ]
  },
  {
   "cell_type": "markdown",
   "id": "65ee3e41",
   "metadata": {
    "papermill": {
     "duration": 0.024515,
     "end_time": "2025-07-23T16:44:53.181626",
     "exception": false,
     "start_time": "2025-07-23T16:44:53.157111",
     "status": "completed"
    },
    "tags": []
   },
   "source": [
    "## Ada Boost Classifier"
   ]
  },
  {
   "cell_type": "code",
   "execution_count": 49,
   "id": "154bb1fa",
   "metadata": {
    "execution": {
     "iopub.execute_input": "2025-07-23T16:44:53.232701Z",
     "iopub.status.busy": "2025-07-23T16:44:53.232005Z",
     "iopub.status.idle": "2025-07-23T16:44:53.395163Z",
     "shell.execute_reply": "2025-07-23T16:44:53.394273Z"
    },
    "papermill": {
     "duration": 0.190932,
     "end_time": "2025-07-23T16:44:53.396736",
     "exception": false,
     "start_time": "2025-07-23T16:44:53.205804",
     "status": "completed"
    },
    "tags": []
   },
   "outputs": [],
   "source": [
    "from sklearn.ensemble import AdaBoostClassifier"
   ]
  },
  {
   "cell_type": "code",
   "execution_count": 50,
   "id": "462498f6",
   "metadata": {
    "execution": {
     "iopub.execute_input": "2025-07-23T16:44:53.445380Z",
     "iopub.status.busy": "2025-07-23T16:44:53.445009Z",
     "iopub.status.idle": "2025-07-23T16:44:56.277556Z",
     "shell.execute_reply": "2025-07-23T16:44:56.276202Z"
    },
    "papermill": {
     "duration": 2.85875,
     "end_time": "2025-07-23T16:44:56.279192",
     "exception": false,
     "start_time": "2025-07-23T16:44:53.420442",
     "status": "completed"
    },
    "tags": []
   },
   "outputs": [
    {
     "name": "stdout",
     "output_type": "stream",
     "text": [
      "Accuracy: 0.8556\n",
      "Precision: 0.7316\n",
      "Recall: 0.5017\n",
      "F1 Score: 0.5952\n",
      "\n",
      "Confusion Matrix:\n",
      "[[13490   701]\n",
      " [ 1898  1911]]\n"
     ]
    }
   ],
   "source": [
    "adb_model=AdaBoostClassifier()\n",
    "adb_model.fit(X_train,y_train)\n",
    "prediction = adb_model.predict(X_test)\n",
    "accuracy = accuracy_score(y_test, prediction)\n",
    "precision = precision_score(y_test, prediction)\n",
    "recall = recall_score(y_test, prediction)\n",
    "f1 = f1_score(y_test, prediction)\n",
    "\n",
    "print(f'Accuracy: {accuracy:.4f}')\n",
    "print(f'Precision: {precision:.4f}')\n",
    "print(f'Recall: {recall:.4f}')\n",
    "print(f'F1 Score: {f1:.4f}')\n",
    "print(\"\\nConfusion Matrix:\")\n",
    "print(confusion_matrix(y_test, prediction))"
   ]
  },
  {
   "cell_type": "markdown",
   "id": "31f8f42a",
   "metadata": {
    "papermill": {
     "duration": 0.024331,
     "end_time": "2025-07-23T16:44:56.329674",
     "exception": false,
     "start_time": "2025-07-23T16:44:56.305343",
     "status": "completed"
    },
    "tags": []
   },
   "source": [
    "## DecisionTree Classifier"
   ]
  },
  {
   "cell_type": "code",
   "execution_count": 51,
   "id": "3a5b6691",
   "metadata": {
    "execution": {
     "iopub.execute_input": "2025-07-23T16:44:56.379452Z",
     "iopub.status.busy": "2025-07-23T16:44:56.378872Z",
     "iopub.status.idle": "2025-07-23T16:44:56.383327Z",
     "shell.execute_reply": "2025-07-23T16:44:56.382421Z"
    },
    "papermill": {
     "duration": 0.031528,
     "end_time": "2025-07-23T16:44:56.384861",
     "exception": false,
     "start_time": "2025-07-23T16:44:56.353333",
     "status": "completed"
    },
    "tags": []
   },
   "outputs": [],
   "source": [
    "from sklearn.tree import DecisionTreeClassifier"
   ]
  },
  {
   "cell_type": "code",
   "execution_count": 52,
   "id": "a3fdc9b5",
   "metadata": {
    "execution": {
     "iopub.execute_input": "2025-07-23T16:44:56.435386Z",
     "iopub.status.busy": "2025-07-23T16:44:56.435032Z",
     "iopub.status.idle": "2025-07-23T16:44:57.006534Z",
     "shell.execute_reply": "2025-07-23T16:44:57.005530Z"
    },
    "papermill": {
     "duration": 0.598447,
     "end_time": "2025-07-23T16:44:57.007992",
     "exception": false,
     "start_time": "2025-07-23T16:44:56.409545",
     "status": "completed"
    },
    "tags": []
   },
   "outputs": [
    {
     "name": "stdout",
     "output_type": "stream",
     "text": [
      "Accuracy: 0.7872\n",
      "Precision: 0.4972\n",
      "Recall: 0.5196\n",
      "F1 Score: 0.5082\n",
      "\n",
      "Confusion Matrix:\n",
      "[[12190  2001]\n",
      " [ 1830  1979]]\n"
     ]
    }
   ],
   "source": [
    "dt_model=DecisionTreeClassifier()\n",
    "dt_model.fit(X_train,y_train)\n",
    "prediction = dt_model.predict(X_test)\n",
    "accuracy = accuracy_score(y_test, prediction)\n",
    "precision = precision_score(y_test, prediction)\n",
    "recall = recall_score(y_test, prediction)\n",
    "f1 = f1_score(y_test, prediction)\n",
    "\n",
    "print(f'Accuracy: {accuracy:.4f}')\n",
    "print(f'Precision: {precision:.4f}')\n",
    "print(f'Recall: {recall:.4f}')\n",
    "print(f'F1 Score: {f1:.4f}')\n",
    "print(\"\\nConfusion Matrix:\")\n",
    "print(confusion_matrix(y_test, prediction))"
   ]
  },
  {
   "cell_type": "markdown",
   "id": "e6d44049",
   "metadata": {
    "papermill": {
     "duration": 0.023435,
     "end_time": "2025-07-23T16:44:57.057076",
     "exception": false,
     "start_time": "2025-07-23T16:44:57.033641",
     "status": "completed"
    },
    "tags": []
   },
   "source": [
    "## Random Forest Classifier"
   ]
  },
  {
   "cell_type": "code",
   "execution_count": 53,
   "id": "74236dcf",
   "metadata": {
    "execution": {
     "iopub.execute_input": "2025-07-23T16:44:57.108334Z",
     "iopub.status.busy": "2025-07-23T16:44:57.107981Z",
     "iopub.status.idle": "2025-07-23T16:44:57.113176Z",
     "shell.execute_reply": "2025-07-23T16:44:57.111679Z"
    },
    "papermill": {
     "duration": 0.032683,
     "end_time": "2025-07-23T16:44:57.114738",
     "exception": false,
     "start_time": "2025-07-23T16:44:57.082055",
     "status": "completed"
    },
    "tags": []
   },
   "outputs": [],
   "source": [
    "from sklearn.ensemble import RandomForestClassifier"
   ]
  },
  {
   "cell_type": "code",
   "execution_count": 54,
   "id": "cd65fc66",
   "metadata": {
    "execution": {
     "iopub.execute_input": "2025-07-23T16:44:57.165175Z",
     "iopub.status.busy": "2025-07-23T16:44:57.164871Z",
     "iopub.status.idle": "2025-07-23T16:45:08.848208Z",
     "shell.execute_reply": "2025-07-23T16:45:08.847022Z"
    },
    "papermill": {
     "duration": 11.710809,
     "end_time": "2025-07-23T16:45:08.849949",
     "exception": false,
     "start_time": "2025-07-23T16:44:57.139140",
     "status": "completed"
    },
    "tags": []
   },
   "outputs": [
    {
     "name": "stdout",
     "output_type": "stream",
     "text": [
      "Accuracy: 0.8521\n",
      "Precision: 0.7087\n",
      "Recall: 0.5109\n",
      "F1 Score: 0.5937\n",
      "\n",
      "Confusion Matrix:\n",
      "[[13391   800]\n",
      " [ 1863  1946]]\n"
     ]
    }
   ],
   "source": [
    "rf_model=RandomForestClassifier()\n",
    "rf_model.fit(X_train,y_train)\n",
    "prediction = rf_model.predict(X_test)\n",
    "accuracy = accuracy_score(y_test, prediction)\n",
    "precision = precision_score(y_test, prediction)\n",
    "recall = recall_score(y_test, prediction)\n",
    "f1 = f1_score(y_test, prediction)\n",
    "\n",
    "print(f'Accuracy: {accuracy:.4f}')\n",
    "print(f'Precision: {precision:.4f}')\n",
    "print(f'Recall: {recall:.4f}')\n",
    "print(f'F1 Score: {f1:.4f}')\n",
    "print(\"\\nConfusion Matrix:\")\n",
    "print(confusion_matrix(y_test, prediction))"
   ]
  },
  {
   "cell_type": "markdown",
   "id": "a3557b9a",
   "metadata": {
    "papermill": {
     "duration": 0.023358,
     "end_time": "2025-07-23T16:45:08.897276",
     "exception": false,
     "start_time": "2025-07-23T16:45:08.873918",
     "status": "completed"
    },
    "tags": []
   },
   "source": [
    "## Gradient Boosting Classifier"
   ]
  },
  {
   "cell_type": "code",
   "execution_count": 55,
   "id": "d19c68e4",
   "metadata": {
    "execution": {
     "iopub.execute_input": "2025-07-23T16:45:08.946803Z",
     "iopub.status.busy": "2025-07-23T16:45:08.946500Z",
     "iopub.status.idle": "2025-07-23T16:45:08.950568Z",
     "shell.execute_reply": "2025-07-23T16:45:08.949791Z"
    },
    "papermill": {
     "duration": 0.030035,
     "end_time": "2025-07-23T16:45:08.951931",
     "exception": false,
     "start_time": "2025-07-23T16:45:08.921896",
     "status": "completed"
    },
    "tags": []
   },
   "outputs": [],
   "source": [
    "from sklearn.ensemble import GradientBoostingClassifier"
   ]
  },
  {
   "cell_type": "code",
   "execution_count": 56,
   "id": "535f8e45",
   "metadata": {
    "execution": {
     "iopub.execute_input": "2025-07-23T16:45:09.002637Z",
     "iopub.status.busy": "2025-07-23T16:45:09.001957Z",
     "iopub.status.idle": "2025-07-23T16:45:19.886714Z",
     "shell.execute_reply": "2025-07-23T16:45:19.885687Z"
    },
    "papermill": {
     "duration": 10.912472,
     "end_time": "2025-07-23T16:45:19.888179",
     "exception": false,
     "start_time": "2025-07-23T16:45:08.975707",
     "status": "completed"
    },
    "tags": []
   },
   "outputs": [
    {
     "name": "stdout",
     "output_type": "stream",
     "text": [
      "Accuracy: 0.8591\n",
      "Precision: 0.7456\n",
      "Recall: 0.5070\n",
      "F1 Score: 0.6035\n",
      "\n",
      "Confusion Matrix:\n",
      "[[13532   659]\n",
      " [ 1878  1931]]\n"
     ]
    }
   ],
   "source": [
    "gb_model=GradientBoostingClassifier()\n",
    "gb_model.fit(X_train,y_train)\n",
    "prediction = gb_model.predict(X_test)\n",
    "accuracy = accuracy_score(y_test, prediction)\n",
    "precision = precision_score(y_test, prediction)\n",
    "recall = recall_score(y_test, prediction)\n",
    "f1 = f1_score(y_test, prediction)\n",
    "\n",
    "print(f'Accuracy: {accuracy:.4f}')\n",
    "print(f'Precision: {precision:.4f}')\n",
    "print(f'Recall: {recall:.4f}')\n",
    "print(f'F1 Score: {f1:.4f}')\n",
    "print(\"\\nConfusion Matrix:\")\n",
    "print(confusion_matrix(y_test, prediction))"
   ]
  },
  {
   "cell_type": "markdown",
   "id": "a1ede01c",
   "metadata": {
    "papermill": {
     "duration": 0.024125,
     "end_time": "2025-07-23T16:45:19.937035",
     "exception": false,
     "start_time": "2025-07-23T16:45:19.912910",
     "status": "completed"
    },
    "tags": []
   },
   "source": [
    "## XGBoost Classifier"
   ]
  },
  {
   "cell_type": "code",
   "execution_count": 57,
   "id": "95034927",
   "metadata": {
    "execution": {
     "iopub.execute_input": "2025-07-23T16:45:19.986769Z",
     "iopub.status.busy": "2025-07-23T16:45:19.986447Z",
     "iopub.status.idle": "2025-07-23T16:45:24.988307Z",
     "shell.execute_reply": "2025-07-23T16:45:24.986957Z"
    },
    "papermill": {
     "duration": 5.028866,
     "end_time": "2025-07-23T16:45:24.989921",
     "exception": false,
     "start_time": "2025-07-23T16:45:19.961055",
     "status": "completed"
    },
    "tags": []
   },
   "outputs": [
    {
     "name": "stdout",
     "output_type": "stream",
     "text": [
      "Requirement already satisfied: xgboost in /usr/local/lib/python3.11/dist-packages (2.0.3)\r\n",
      "Requirement already satisfied: numpy in /usr/local/lib/python3.11/dist-packages (from xgboost) (1.26.4)\r\n",
      "Requirement already satisfied: scipy in /usr/local/lib/python3.11/dist-packages (from xgboost) (1.15.3)\r\n",
      "Requirement already satisfied: mkl_fft in /usr/local/lib/python3.11/dist-packages (from numpy->xgboost) (1.3.8)\r\n",
      "Requirement already satisfied: mkl_random in /usr/local/lib/python3.11/dist-packages (from numpy->xgboost) (1.2.4)\r\n",
      "Requirement already satisfied: mkl_umath in /usr/local/lib/python3.11/dist-packages (from numpy->xgboost) (0.1.1)\r\n",
      "Requirement already satisfied: mkl in /usr/local/lib/python3.11/dist-packages (from numpy->xgboost) (2025.2.0)\r\n",
      "Requirement already satisfied: tbb4py in /usr/local/lib/python3.11/dist-packages (from numpy->xgboost) (2022.2.0)\r\n",
      "Requirement already satisfied: mkl-service in /usr/local/lib/python3.11/dist-packages (from numpy->xgboost) (2.4.1)\r\n",
      "Requirement already satisfied: intel-openmp<2026,>=2024 in /usr/local/lib/python3.11/dist-packages (from mkl->numpy->xgboost) (2024.2.0)\r\n",
      "Requirement already satisfied: tbb==2022.* in /usr/local/lib/python3.11/dist-packages (from mkl->numpy->xgboost) (2022.2.0)\r\n",
      "Requirement already satisfied: tcmlib==1.* in /usr/local/lib/python3.11/dist-packages (from tbb==2022.*->mkl->numpy->xgboost) (1.4.0)\r\n",
      "Requirement already satisfied: intel-cmplr-lib-rt in /usr/local/lib/python3.11/dist-packages (from mkl_umath->numpy->xgboost) (2024.2.0)\r\n",
      "Requirement already satisfied: intel-cmplr-lib-ur==2024.2.0 in /usr/local/lib/python3.11/dist-packages (from intel-openmp<2026,>=2024->mkl->numpy->xgboost) (2024.2.0)\r\n",
      "Note: you may need to restart the kernel to use updated packages.\n"
     ]
    }
   ],
   "source": [
    "pip install xgboost"
   ]
  },
  {
   "cell_type": "code",
   "execution_count": 58,
   "id": "5c7a6023",
   "metadata": {
    "execution": {
     "iopub.execute_input": "2025-07-23T16:45:25.041733Z",
     "iopub.status.busy": "2025-07-23T16:45:25.041387Z",
     "iopub.status.idle": "2025-07-23T16:45:25.410145Z",
     "shell.execute_reply": "2025-07-23T16:45:25.409145Z"
    },
    "papermill": {
     "duration": 0.396777,
     "end_time": "2025-07-23T16:45:25.411891",
     "exception": false,
     "start_time": "2025-07-23T16:45:25.015114",
     "status": "completed"
    },
    "tags": []
   },
   "outputs": [],
   "source": [
    "from xgboost import XGBClassifier"
   ]
  },
  {
   "cell_type": "code",
   "execution_count": 59,
   "id": "73ec214c",
   "metadata": {
    "execution": {
     "iopub.execute_input": "2025-07-23T16:45:25.462010Z",
     "iopub.status.busy": "2025-07-23T16:45:25.461152Z",
     "iopub.status.idle": "2025-07-23T16:45:26.031137Z",
     "shell.execute_reply": "2025-07-23T16:45:26.029975Z"
    },
    "papermill": {
     "duration": 0.59623,
     "end_time": "2025-07-23T16:45:26.032634",
     "exception": false,
     "start_time": "2025-07-23T16:45:25.436404",
     "status": "completed"
    },
    "tags": []
   },
   "outputs": [
    {
     "name": "stdout",
     "output_type": "stream",
     "text": [
      "Accuracy: 0.8553\n",
      "Precision: 0.7138\n",
      "Recall: 0.5277\n",
      "F1 Score: 0.6068\n",
      "\n",
      "Confusion Matrix:\n",
      "[[13385   806]\n",
      " [ 1799  2010]]\n"
     ]
    }
   ],
   "source": [
    "xgb_model=XGBClassifier()\n",
    "xgb_model.fit(X_train,y_train)\n",
    "prediction = xgb_model.predict(X_test)\n",
    "accuracy = accuracy_score(y_test, prediction)\n",
    "precision = precision_score(y_test, prediction)\n",
    "recall = recall_score(y_test, prediction)\n",
    "f1 = f1_score(y_test, prediction)\n",
    "\n",
    "print(f'Accuracy: {accuracy:.4f}')\n",
    "print(f'Precision: {precision:.4f}')\n",
    "print(f'Recall: {recall:.4f}')\n",
    "print(f'F1 Score: {f1:.4f}')\n",
    "print(\"\\nConfusion Matrix:\")\n",
    "print(confusion_matrix(y_test, prediction))"
   ]
  },
  {
   "cell_type": "markdown",
   "id": "8339b561",
   "metadata": {
    "papermill": {
     "duration": 0.023614,
     "end_time": "2025-07-23T16:45:26.080442",
     "exception": false,
     "start_time": "2025-07-23T16:45:26.056828",
     "status": "completed"
    },
    "tags": []
   },
   "source": [
    "## HistGradient Boosting Classifier"
   ]
  },
  {
   "cell_type": "code",
   "execution_count": 60,
   "id": "598192e2",
   "metadata": {
    "execution": {
     "iopub.execute_input": "2025-07-23T16:45:26.129710Z",
     "iopub.status.busy": "2025-07-23T16:45:26.129398Z",
     "iopub.status.idle": "2025-07-23T16:45:27.177933Z",
     "shell.execute_reply": "2025-07-23T16:45:27.176741Z"
    },
    "papermill": {
     "duration": 1.075345,
     "end_time": "2025-07-23T16:45:27.179648",
     "exception": false,
     "start_time": "2025-07-23T16:45:26.104303",
     "status": "completed"
    },
    "tags": []
   },
   "outputs": [
    {
     "name": "stdout",
     "output_type": "stream",
     "text": [
      "HGB F1 Score: 0.6138433515482695\n",
      "Precision: 0.7275998560633321\n",
      "Recall: 0.5308479915988449\n",
      "Accuracy: 0.8586666666666667\n"
     ]
    }
   ],
   "source": [
    "from sklearn.ensemble import HistGradientBoostingClassifier\n",
    "\n",
    "hist_model = HistGradientBoostingClassifier(random_state=42)\n",
    "hist_model.fit(X_train, y_train)\n",
    "y_pred_hgb = hist_model.predict(X_test)\n",
    "\n",
    "print(\"HGB F1 Score:\", f1_score(y_test, y_pred_hgb))\n",
    "print(\"Precision:\", precision_score(y_test, y_pred_hgb))\n",
    "print(\"Recall:\", recall_score(y_test, y_pred_hgb))\n",
    "print(\"Accuracy:\", accuracy_score(y_test, y_pred_hgb))\n"
   ]
  },
  {
   "cell_type": "markdown",
   "id": "b08a6c7e",
   "metadata": {
    "papermill": {
     "duration": 0.024029,
     "end_time": "2025-07-23T16:45:27.227918",
     "exception": false,
     "start_time": "2025-07-23T16:45:27.203889",
     "status": "completed"
    },
    "tags": []
   },
   "source": [
    "### LightBGM"
   ]
  },
  {
   "cell_type": "code",
   "execution_count": 61,
   "id": "b994f0b6",
   "metadata": {
    "execution": {
     "iopub.execute_input": "2025-07-23T16:45:27.276891Z",
     "iopub.status.busy": "2025-07-23T16:45:27.276595Z",
     "iopub.status.idle": "2025-07-23T16:45:31.089711Z",
     "shell.execute_reply": "2025-07-23T16:45:31.088554Z"
    },
    "papermill": {
     "duration": 3.839816,
     "end_time": "2025-07-23T16:45:31.091644",
     "exception": false,
     "start_time": "2025-07-23T16:45:27.251828",
     "status": "completed"
    },
    "tags": []
   },
   "outputs": [],
   "source": [
    "!pip install lightgbm --quiet\n"
   ]
  },
  {
   "cell_type": "code",
   "execution_count": 62,
   "id": "2c62b13b",
   "metadata": {
    "execution": {
     "iopub.execute_input": "2025-07-23T16:45:31.142698Z",
     "iopub.status.busy": "2025-07-23T16:45:31.141726Z",
     "iopub.status.idle": "2025-07-23T16:45:36.843960Z",
     "shell.execute_reply": "2025-07-23T16:45:36.842909Z"
    },
    "papermill": {
     "duration": 5.72943,
     "end_time": "2025-07-23T16:45:36.845414",
     "exception": false,
     "start_time": "2025-07-23T16:45:31.115984",
     "status": "completed"
    },
    "tags": []
   },
   "outputs": [
    {
     "name": "stdout",
     "output_type": "stream",
     "text": [
      "[LightGBM] [Info] Number of positive: 15235, number of negative: 56765\n",
      "[LightGBM] [Info] Auto-choosing row-wise multi-threading, the overhead of testing was 0.006258 seconds.\n",
      "You can set `force_row_wise=true` to remove the overhead.\n",
      "And if memory is not enough, you can set `force_col_wise=true`.\n",
      "[LightGBM] [Info] Total Bins 845\n",
      "[LightGBM] [Info] Number of data points in the train set: 72000, number of used features: 16\n",
      "[LightGBM] [Info] [binary:BoostFromScore]: pavg=0.211597 -> initscore=-1.315325\n",
      "[LightGBM] [Info] Start training from score -1.315325\n",
      "LightGBM Accuracy: 0.8587222222222223\n",
      "Precision: 0.7298474945533769\n",
      "Recall: 0.527697558414282\n",
      "F1 Score: 0.6125247600182844\n"
     ]
    }
   ],
   "source": [
    "# Import required libraries\n",
    "import lightgbm as lgb\n",
    "\n",
    "# Create the model\n",
    "lgbm = lgb.LGBMClassifier(random_state=42)\n",
    "\n",
    "# Train on train set\n",
    "lgbm.fit(X_train, y_train)\n",
    "\n",
    "# Predict on test set\n",
    "y_pred_lgb = lgbm.predict(X_test)\n",
    "\n",
    "# Evaluate performance\n",
    "print(\"LightGBM Accuracy:\", accuracy_score(y_test, y_pred_lgb))\n",
    "print(\"Precision:\", precision_score(y_test, y_pred_lgb))\n",
    "print(\"Recall:\", recall_score(y_test, y_pred_lgb))\n",
    "print(\"F1 Score:\", f1_score(y_test, y_pred_lgb))\n"
   ]
  },
  {
   "cell_type": "markdown",
   "id": "f499cdf7",
   "metadata": {
    "papermill": {
     "duration": 0.024739,
     "end_time": "2025-07-23T16:45:36.895370",
     "exception": false,
     "start_time": "2025-07-23T16:45:36.870631",
     "status": "completed"
    },
    "tags": []
   },
   "source": [
    "# Hyperparameter Tuning"
   ]
  },
  {
   "cell_type": "code",
   "execution_count": 63,
   "id": "6cba7ba6",
   "metadata": {
    "execution": {
     "iopub.execute_input": "2025-07-23T16:45:36.947227Z",
     "iopub.status.busy": "2025-07-23T16:45:36.946550Z",
     "iopub.status.idle": "2025-07-23T16:45:36.951170Z",
     "shell.execute_reply": "2025-07-23T16:45:36.950402Z"
    },
    "papermill": {
     "duration": 0.032962,
     "end_time": "2025-07-23T16:45:36.952676",
     "exception": false,
     "start_time": "2025-07-23T16:45:36.919714",
     "status": "completed"
    },
    "tags": []
   },
   "outputs": [],
   "source": [
    "from sklearn.model_selection import StratifiedKFold, RandomizedSearchCV\n",
    "# skf = StratifiedKFold(n_splits=5, shuffle=True, random_state=42)"
   ]
  },
  {
   "cell_type": "markdown",
   "id": "25b02548",
   "metadata": {
    "papermill": {
     "duration": 0.024433,
     "end_time": "2025-07-23T16:45:37.002029",
     "exception": false,
     "start_time": "2025-07-23T16:45:36.977596",
     "status": "completed"
    },
    "tags": []
   },
   "source": [
    "## Gradient Boost Classifier"
   ]
  },
  {
   "cell_type": "code",
   "execution_count": 64,
   "id": "fd1d846d",
   "metadata": {
    "execution": {
     "iopub.execute_input": "2025-07-23T16:45:37.053426Z",
     "iopub.status.busy": "2025-07-23T16:45:37.053057Z",
     "iopub.status.idle": "2025-07-23T16:45:37.058617Z",
     "shell.execute_reply": "2025-07-23T16:45:37.057755Z"
    },
    "papermill": {
     "duration": 0.032534,
     "end_time": "2025-07-23T16:45:37.059957",
     "exception": false,
     "start_time": "2025-07-23T16:45:37.027423",
     "status": "completed"
    },
    "tags": []
   },
   "outputs": [],
   "source": [
    "params_gb = {\n",
    "    'n_estimators': [100, 150],\n",
    "    'learning_rate': [0.01, 0.05, 0.1],\n",
    "    'max_depth': [3, 5],\n",
    "    'min_samples_split': [2, 5],\n",
    "    'min_samples_leaf': [1, 2]\n",
    "}\n",
    "gb_model=GradientBoostingClassifier(random_state=42)"
   ]
  },
  {
   "cell_type": "code",
   "execution_count": 65,
   "id": "799d929d",
   "metadata": {
    "execution": {
     "iopub.execute_input": "2025-07-23T16:45:37.110445Z",
     "iopub.status.busy": "2025-07-23T16:45:37.110012Z",
     "iopub.status.idle": "2025-07-23T16:51:05.416083Z",
     "shell.execute_reply": "2025-07-23T16:51:05.415096Z"
    },
    "papermill": {
     "duration": 328.359927,
     "end_time": "2025-07-23T16:51:05.444374",
     "exception": false,
     "start_time": "2025-07-23T16:45:37.084447",
     "status": "completed"
    },
    "tags": []
   },
   "outputs": [
    {
     "name": "stdout",
     "output_type": "stream",
     "text": [
      "Best Params: {'n_estimators': 150, 'min_samples_split': 5, 'min_samples_leaf': 1, 'max_depth': 5, 'learning_rate': 0.1}\n",
      "Best F1 Score (CV): 0.6247952242009326\n",
      "Test F1 Score: 0.6124255838803238\n"
     ]
    }
   ],
   "source": [
    "search_gb = RandomizedSearchCV(estimator=gb_model, param_distributions=params_gb,scoring='f1', n_iter=10, cv=5, n_jobs=-1, random_state=42)\n",
    "search_gb.fit(X_train,y_train)\n",
    "\n",
    "\n",
    "print(\"Best Params:\", search_gb.best_params_)\n",
    "print(\"Best F1 Score (CV):\", search_gb.best_score_)\n",
    "y_pred = search_gb.best_estimator_.predict(X_test)\n",
    "print(\"Test F1 Score:\", f1_score(y_test, y_pred))"
   ]
  },
  {
   "cell_type": "markdown",
   "id": "1ddb5a66",
   "metadata": {
    "papermill": {
     "duration": 0.024778,
     "end_time": "2025-07-23T16:51:05.494115",
     "exception": false,
     "start_time": "2025-07-23T16:51:05.469337",
     "status": "completed"
    },
    "tags": []
   },
   "source": [
    "## XG Boost Classifier"
   ]
  },
  {
   "cell_type": "code",
   "execution_count": 66,
   "id": "c73eb74a",
   "metadata": {
    "execution": {
     "iopub.execute_input": "2025-07-23T16:51:05.546381Z",
     "iopub.status.busy": "2025-07-23T16:51:05.545609Z",
     "iopub.status.idle": "2025-07-23T16:51:05.552083Z",
     "shell.execute_reply": "2025-07-23T16:51:05.551221Z"
    },
    "papermill": {
     "duration": 0.034923,
     "end_time": "2025-07-23T16:51:05.553612",
     "exception": false,
     "start_time": "2025-07-23T16:51:05.518689",
     "status": "completed"
    },
    "tags": []
   },
   "outputs": [],
   "source": [
    "params_xgb = {\n",
    "    'n_estimators': [100, 150],\n",
    "    'learning_rate': [0.01, 0.05, 0.1],\n",
    "    'max_depth': [3, 5, 7],\n",
    "    'subsample': [0.8, 1.0],\n",
    "    'colsample_bytree': [0.8, 1.0]\n",
    "}\n",
    "xgb_model=XGBClassifier(random_state=42)"
   ]
  },
  {
   "cell_type": "code",
   "execution_count": 67,
   "id": "d4b53ab5",
   "metadata": {
    "execution": {
     "iopub.execute_input": "2025-07-23T16:51:05.605406Z",
     "iopub.status.busy": "2025-07-23T16:51:05.604989Z",
     "iopub.status.idle": "2025-07-23T16:51:46.619753Z",
     "shell.execute_reply": "2025-07-23T16:51:46.618932Z"
    },
    "papermill": {
     "duration": 41.06572,
     "end_time": "2025-07-23T16:51:46.644209",
     "exception": false,
     "start_time": "2025-07-23T16:51:05.578489",
     "status": "completed"
    },
    "tags": []
   },
   "outputs": [
    {
     "name": "stdout",
     "output_type": "stream",
     "text": [
      "Best Params: {'subsample': 0.8, 'n_estimators': 100, 'max_depth': 5, 'learning_rate': 0.1, 'colsample_bytree': 0.8}\n",
      "Best F1 Score (CV): 0.6244657790635648\n",
      "Test F1 Score: 0.6104972375690607\n"
     ]
    }
   ],
   "source": [
    "search_xgb = RandomizedSearchCV(estimator=xgb_model, param_distributions=params_xgb, scoring='f1', n_iter=20, cv=5, n_jobs=-1, random_state=42)\n",
    "search_xgb.fit(X_train,y_train)\n",
    "\n",
    "\n",
    "print(\"Best Params:\", search_xgb.best_params_)\n",
    "print(\"Best F1 Score (CV):\", search_xgb.best_score_)\n",
    "y_pred = search_xgb.best_estimator_.predict(X_test)\n",
    "print(\"Test F1 Score:\", f1_score(y_test, y_pred))"
   ]
  },
  {
   "cell_type": "markdown",
   "id": "50cac031",
   "metadata": {
    "papermill": {
     "duration": 0.023532,
     "end_time": "2025-07-23T16:51:46.691740",
     "exception": false,
     "start_time": "2025-07-23T16:51:46.668208",
     "status": "completed"
    },
    "tags": []
   },
   "source": [
    "## HistGradientBoostingClassifier"
   ]
  },
  {
   "cell_type": "code",
   "execution_count": 68,
   "id": "8ef599db",
   "metadata": {
    "execution": {
     "iopub.execute_input": "2025-07-23T16:51:46.740928Z",
     "iopub.status.busy": "2025-07-23T16:51:46.740613Z",
     "iopub.status.idle": "2025-07-23T16:54:08.884149Z",
     "shell.execute_reply": "2025-07-23T16:54:08.883299Z"
    },
    "papermill": {
     "duration": 142.19369,
     "end_time": "2025-07-23T16:54:08.909380",
     "exception": false,
     "start_time": "2025-07-23T16:51:46.715690",
     "status": "completed"
    },
    "tags": []
   },
   "outputs": [
    {
     "name": "stdout",
     "output_type": "stream",
     "text": [
      "Fitting 5 folds for each of 54 candidates, totalling 270 fits\n",
      "Best F1 score: 0.6304208444824942\n",
      "Best parameters: {'l2_regularization': 1.0, 'learning_rate': 0.2, 'max_depth': 7, 'max_iter': 100}\n"
     ]
    }
   ],
   "source": [
    "from sklearn.model_selection import GridSearchCV\n",
    "\n",
    "hgb = HistGradientBoostingClassifier(random_state=42)\n",
    "\n",
    "param_grid = {\n",
    "    'learning_rate': [0.05, 0.1, 0.2],\n",
    "    'max_iter': [100, 200],\n",
    "    'max_depth': [None, 7, 10],\n",
    "    'l2_regularization': [0.0, 1.0, 5.0],\n",
    "}\n",
    "\n",
    "grid = GridSearchCV(\n",
    "    hgb,\n",
    "    param_grid,\n",
    "    scoring='f1',\n",
    "    cv=5,\n",
    "    n_jobs=-1,\n",
    "    verbose=1\n",
    ")\n",
    "\n",
    "grid.fit(X_train, y_train)\n",
    "print(\"Best F1 score:\", grid.best_score_)\n",
    "print(\"Best parameters:\", grid.best_params_)\n"
   ]
  },
  {
   "cell_type": "code",
   "execution_count": 69,
   "id": "3c1ed0a6",
   "metadata": {
    "execution": {
     "iopub.execute_input": "2025-07-23T16:54:08.959276Z",
     "iopub.status.busy": "2025-07-23T16:54:08.958937Z",
     "iopub.status.idle": "2025-07-23T16:54:09.023520Z",
     "shell.execute_reply": "2025-07-23T16:54:09.022510Z"
    },
    "papermill": {
     "duration": 0.091211,
     "end_time": "2025-07-23T16:54:09.024938",
     "exception": false,
     "start_time": "2025-07-23T16:54:08.933727",
     "status": "completed"
    },
    "tags": []
   },
   "outputs": [
    {
     "name": "stdout",
     "output_type": "stream",
     "text": [
      "Test F1 Score: 0.6107494322482968\n",
      "Test Precision: 0.7213876967095851\n",
      "Test Recall: 0.529535311105277\n",
      "Test Accuracy: 0.8571666666666666\n"
     ]
    }
   ],
   "source": [
    "best_hgb = grid.best_estimator_\n",
    "\n",
    "# Predict on test data\n",
    "y_pred = best_hgb.predict(X_test)\n",
    "\n",
    "# Print test set scores\n",
    "print(\"Test F1 Score:\", f1_score(y_test, y_pred))\n",
    "print(\"Test Precision:\", precision_score(y_test, y_pred))\n",
    "print(\"Test Recall:\", recall_score(y_test, y_pred))\n",
    "print(\"Test Accuracy:\", accuracy_score(y_test, y_pred))"
   ]
  },
  {
   "cell_type": "markdown",
   "id": "2d7bd334",
   "metadata": {
    "papermill": {
     "duration": 0.02599,
     "end_time": "2025-07-23T16:54:09.075714",
     "exception": false,
     "start_time": "2025-07-23T16:54:09.049724",
     "status": "completed"
    },
    "tags": []
   },
   "source": [
    "# Comparison of Model Performance"
   ]
  },
  {
   "cell_type": "code",
   "execution_count": 70,
   "id": "8850dfa3",
   "metadata": {
    "execution": {
     "iopub.execute_input": "2025-07-23T16:54:09.125956Z",
     "iopub.status.busy": "2025-07-23T16:54:09.125647Z",
     "iopub.status.idle": "2025-07-23T16:54:12.921910Z",
     "shell.execute_reply": "2025-07-23T16:54:12.920892Z"
    },
    "papermill": {
     "duration": 3.823209,
     "end_time": "2025-07-23T16:54:12.923474",
     "exception": false,
     "start_time": "2025-07-23T16:54:09.100265",
     "status": "completed"
    },
    "tags": []
   },
   "outputs": [
    {
     "name": "stdout",
     "output_type": "stream",
     "text": [
      "                   Model  F1 Score  Precision    Recall  Accuracy\n",
      "4  HistGradient Boosting  0.613843   0.727600  0.530848  0.858667\n",
      "5              Light BGM  0.612525   0.729847  0.527698  0.858722\n",
      "0         Gradient Boost  0.612426   0.731583  0.526647  0.858944\n",
      "1                XGBoost  0.610497   0.734762  0.522184  0.859000\n",
      "2              Ada Boost  0.595234   0.731623  0.501706  0.855611\n",
      "3    K Nearest Neighbors  0.576758   0.661236  0.511420  0.841167\n"
     ]
    }
   ],
   "source": [
    "models = {\n",
    "    'Gradient Boost': search_gb.best_estimator_,\n",
    "    'XGBoost': search_xgb.best_estimator_, \n",
    "    'Ada Boost': adb_model,\n",
    "    'K Nearest Neighbors' : knn_model,\n",
    "    'HistGradient Boosting' : hist_model, #without tuning gave better results\n",
    "    'Light BGM': lgbm #without tuning gave better results\n",
    "}\n",
    "\n",
    "results = []\n",
    "for name, model in models.items():\n",
    "    y_pred = model.predict(X_test)\n",
    "    f1 = f1_score(y_test, y_pred)\n",
    "    precision = precision_score(y_test, y_pred)\n",
    "    recall = recall_score(y_test, y_pred)\n",
    "    accuracy = accuracy_score(y_test, y_pred)\n",
    "    results.append((name, f1, precision, recall, accuracy))\n",
    "\n",
    "results_df = pd.DataFrame(results, columns=['Model', 'F1 Score', 'Precision', 'Recall','Accuracy'])\n",
    "results_df.sort_values(by='F1 Score', ascending=False, inplace=True)\n",
    "\n",
    "print(results_df)"
   ]
  },
  {
   "cell_type": "code",
   "execution_count": 71,
   "id": "f6c44899",
   "metadata": {
    "execution": {
     "iopub.execute_input": "2025-07-23T16:54:12.974384Z",
     "iopub.status.busy": "2025-07-23T16:54:12.974014Z",
     "iopub.status.idle": "2025-07-23T16:54:17.483629Z",
     "shell.execute_reply": "2025-07-23T16:54:17.482779Z"
    },
    "papermill": {
     "duration": 4.53658,
     "end_time": "2025-07-23T16:54:17.485050",
     "exception": false,
     "start_time": "2025-07-23T16:54:12.948470",
     "status": "completed"
    },
    "tags": []
   },
   "outputs": [
    {
     "name": "stdout",
     "output_type": "stream",
     "text": [
      "Confusion Matrix for Gradient Boost\n"
     ]
    },
    {
     "data": {
      "image/png": "[encoded data removed]",
      "text/plain": [
       "<Figure size 640x480 with 2 Axes>"
      ]
     },
     "metadata": {},
     "output_type": "display_data"
    },
    {
     "name": "stdout",
     "output_type": "stream",
     "text": [
      "Confusion Matrix for XGBoost\n"
     ]
    },
    {
     "data": {
      "image/png": "[encoded data removed]",
      "text/plain": [
       "<Figure size 640x480 with 2 Axes>"
      ]
     },
     "metadata": {},
     "output_type": "display_data"
    },
    {
     "name": "stdout",
     "output_type": "stream",
     "text": [
      "Confusion Matrix for Ada Boost\n"
     ]
    },
    {
     "data": {
      "image/png": "[encoded data removed]",
      "text/plain": [
       "<Figure size 640x480 with 2 Axes>"
      ]
     },
     "metadata": {},
     "output_type": "display_data"
    },
    {
     "name": "stdout",
     "output_type": "stream",
     "text": [
      "Confusion Matrix for K Nearest Neighbors\n"
     ]
    },
    {
     "data": {
      "image/png": "[encoded data removed]",
      "text/plain": [
       "<Figure size 640x480 with 2 Axes>"
      ]
     },
     "metadata": {},
     "output_type": "display_data"
    },
    {
     "name": "stdout",
     "output_type": "stream",
     "text": [
      "Confusion Matrix for HistGradient Boosting\n"
     ]
    },
    {
     "data": {
      "image/png": "[encoded data removed]",
      "text/plain": [
       "<Figure size 640x480 with 2 Axes>"
      ]
     },
     "metadata": {},
     "output_type": "display_data"
    },
    {
     "name": "stdout",
     "output_type": "stream",
     "text": [
      "Confusion Matrix for Light BGM\n"
     ]
    },
    {
     "data": {
      "image/png": "[encoded data removed]",
      "text/plain": [
       "<Figure size 640x480 with 2 Axes>"
      ]
     },
     "metadata": {},
     "output_type": "display_data"
    }
   ],
   "source": [
    "from sklearn.metrics import ConfusionMatrixDisplay\n",
    "\n",
    "for name, model in models.items():\n",
    "    y_pred = model.predict(X_test)\n",
    "    print(f\"Confusion Matrix for {name}\")\n",
    "    ConfusionMatrixDisplay.from_predictions(y_test, y_pred)\n",
    "    plt.show()"
   ]
  },
  {
   "cell_type": "code",
   "execution_count": 72,
   "id": "9870945b",
   "metadata": {
    "execution": {
     "iopub.execute_input": "2025-07-23T16:54:17.543625Z",
     "iopub.status.busy": "2025-07-23T16:54:17.542931Z",
     "iopub.status.idle": "2025-07-23T16:54:17.765747Z",
     "shell.execute_reply": "2025-07-23T16:54:17.764874Z"
    },
    "papermill": {
     "duration": 0.253598,
     "end_time": "2025-07-23T16:54:17.767321",
     "exception": false,
     "start_time": "2025-07-23T16:54:17.513723",
     "status": "completed"
    },
    "tags": []
   },
   "outputs": [
    {
     "data": {
      "image/png": "[encoded data removed]",
      "text/plain": [
       "<Figure size 1000x600 with 1 Axes>"
      ]
     },
     "metadata": {},
     "output_type": "display_data"
    }
   ],
   "source": [
    "# Example: Zoom into the F1 range\n",
    "plt.figure(figsize=(10, 6))\n",
    "sns.barplot(data=results_df, x='Model', y='F1 Score', palette='viridis')\n",
    "plt.title('Model Comparison - F1 Score')\n",
    "plt.ylabel('F1 Score')\n",
    "plt.xlabel('Model')\n",
    "\n",
    "# Set tighter y-axis limits based on your actual scores\n",
    "plt.ylim(0.56, 0.63)  # Adjust these values based on your actual score range\n",
    "\n",
    "plt.xticks(rotation=45)\n",
    "plt.tight_layout()\n",
    "plt.grid(axis='y')\n",
    "plt.show()\n"
   ]
  },
  {
   "cell_type": "markdown",
   "id": "61435b4b",
   "metadata": {
    "papermill": {
     "duration": 0.029287,
     "end_time": "2025-07-23T16:54:17.826070",
     "exception": false,
     "start_time": "2025-07-23T16:54:17.796783",
     "status": "completed"
    },
    "tags": []
   },
   "source": [
    "# Final Submission"
   ]
  },
  {
   "cell_type": "markdown",
   "id": "34e36dca",
   "metadata": {
    "papermill": {
     "duration": 0.029571,
     "end_time": "2025-07-23T16:54:17.884871",
     "exception": false,
     "start_time": "2025-07-23T16:54:17.855300",
     "status": "completed"
    },
    "tags": []
   },
   "source": [
    "### Using Voting Classifier"
   ]
  },
  {
   "cell_type": "code",
   "execution_count": 73,
   "id": "0ef4125c",
   "metadata": {
    "execution": {
     "iopub.execute_input": "2025-07-23T16:54:17.946107Z",
     "iopub.status.busy": "2025-07-23T16:54:17.945795Z",
     "iopub.status.idle": "2025-07-23T16:54:17.950426Z",
     "shell.execute_reply": "2025-07-23T16:54:17.949426Z"
    },
    "papermill": {
     "duration": 0.036894,
     "end_time": "2025-07-23T16:54:17.951852",
     "exception": false,
     "start_time": "2025-07-23T16:54:17.914958",
     "status": "completed"
    },
    "tags": []
   },
   "outputs": [],
   "source": [
    "# from sklearn.ensemble import VotingClassifier\n",
    "\n",
    "# # VotingClassifier with LightGBM included\n",
    "# voting_clf = VotingClassifier(\n",
    "#     estimators=[\n",
    "#         ('hgb', best_hgb),\n",
    "#         # ('gb', search_gb.best_estimator_),\n",
    "#         ('xgb', search_xgb.best_estimator_),\n",
    "#         ('lgb', lgbm)\n",
    "#     ],\n",
    "#     voting='soft',  # Use soft voting for probability-based ensemble\n",
    "#     n_jobs=-1\n",
    "# )\n",
    "\n",
    "# # Fit the ensemble model\n",
    "# voting_clf.fit(X_train, y_train)\n",
    "\n",
    "# # Predict on validation/test set\n",
    "# y_pred = voting_clf.predict(X_test)\n",
    "\n",
    "# # Evaluate\n",
    "# print(\"Voting Classifier F1 Score:\", f1_score(y_test, y_pred))\n",
    "# print(\"Precision:\", precision_score(y_test, y_pred))\n",
    "# print(\"Recall:\", recall_score(y_test, y_pred))\n",
    "# print(\"Accuracy:\", accuracy_score(y_test, y_pred))\n"
   ]
  },
  {
   "cell_type": "markdown",
   "id": "f45975cb",
   "metadata": {
    "papermill": {
     "duration": 0.029204,
     "end_time": "2025-07-23T16:54:18.010838",
     "exception": false,
     "start_time": "2025-07-23T16:54:17.981634",
     "status": "completed"
    },
    "tags": []
   },
   "source": [
    "### Stacking different models"
   ]
  },
  {
   "cell_type": "code",
   "execution_count": 74,
   "id": "4c3cd8ba",
   "metadata": {
    "execution": {
     "iopub.execute_input": "2025-07-23T16:54:18.069791Z",
     "iopub.status.busy": "2025-07-23T16:54:18.069506Z",
     "iopub.status.idle": "2025-07-23T16:54:18.073667Z",
     "shell.execute_reply": "2025-07-23T16:54:18.072934Z"
    },
    "papermill": {
     "duration": 0.035371,
     "end_time": "2025-07-23T16:54:18.075005",
     "exception": false,
     "start_time": "2025-07-23T16:54:18.039634",
     "status": "completed"
    },
    "tags": []
   },
   "outputs": [],
   "source": [
    "# from sklearn.ensemble import StackingClassifier\n",
    "# from sklearn.linear_model import LogisticRegression\n",
    "\n",
    "# # Define base learners\n",
    "# base_learners = [\n",
    "#     ('hgb', best_hgb),\n",
    "#     ('gb', search_gb.best_estimator_),\n",
    "#     ('lgb', lgb.LGBMClassifier(random_state=42))\n",
    "# ]\n",
    "\n",
    "# # Define meta learner\n",
    "# meta_learner = LogisticRegression(max_iter=1000)\n",
    "\n",
    "# # Stacking classifier\n",
    "# stack_clf = StackingClassifier(\n",
    "#     estimators=base_learners,\n",
    "#     final_estimator=meta_learner,\n",
    "#     passthrough=True,  # allows meta-learner to use original features too\n",
    "#     n_jobs=-1\n",
    "# )\n",
    "\n",
    "# # Train\n",
    "# stack_clf.fit(X_train, y_train)\n",
    "\n",
    "# # Predict\n",
    "# y_pred_stack = stack_clf.predict(X_test)\n",
    "\n",
    "# # Evaluate\n",
    "# print(\"Stacking F1 Score:\", f1_score(y_test, y_pred_stack))\n",
    "# print(\"Precision:\", precision_score(y_test, y_pred_stack))\n",
    "# print(\"Recall:\", recall_score(y_test, y_pred_stack))\n",
    "# print(\"Accuracy:\", accuracy_score(y_test, y_pred_stack))\n"
   ]
  },
  {
   "cell_type": "markdown",
   "id": "f7478526",
   "metadata": {
    "papermill": {
     "duration": 0.030104,
     "end_time": "2025-07-23T16:54:18.135466",
     "exception": false,
     "start_time": "2025-07-23T16:54:18.105362",
     "status": "completed"
    },
    "tags": []
   },
   "source": [
    "### Blending "
   ]
  },
  {
   "cell_type": "code",
   "execution_count": 75,
   "id": "fe2463f7",
   "metadata": {
    "execution": {
     "iopub.execute_input": "2025-07-23T16:54:18.194990Z",
     "iopub.status.busy": "2025-07-23T16:54:18.194710Z",
     "iopub.status.idle": "2025-07-23T16:54:18.430159Z",
     "shell.execute_reply": "2025-07-23T16:54:18.429155Z"
    },
    "papermill": {
     "duration": 0.267135,
     "end_time": "2025-07-23T16:54:18.431675",
     "exception": false,
     "start_time": "2025-07-23T16:54:18.164540",
     "status": "completed"
    },
    "tags": []
   },
   "outputs": [
    {
     "name": "stdout",
     "output_type": "stream",
     "text": [
      "Blended F1 Score: 0.6149870801033592\n",
      "Precision: 0.7303249097472925\n",
      "Recall: 0.5311105276975584\n",
      "Accuracy: 0.8592777777777778\n"
     ]
    }
   ],
   "source": [
    "# Predict class probabilities\n",
    "proba_hgb = hist_model.predict_proba(X_test)\n",
    "proba_gb = search_gb.best_estimator_.predict_proba(X_test)\n",
    "proba_lgb = lgbm.predict_proba(X_test)\n",
    "proba_xgb=search_xgb.best_estimator_.predict_proba(X_test)\n",
    "\n",
    "# Weighted average of probabilities (you can adjust the weights)\n",
    "# avg_proba = (0.4 * proba_hgb + 0.3 * proba_gb + 0.3 * proba_xgb)\n",
    "avg_proba = (\n",
    "    0.55 * proba_hgb +\n",
    "    0.45 * proba_lgb\n",
    ")\n",
    "#giving the best result till now\n",
    "\n",
    "\n",
    "# Get final predicted class from the highest probability\n",
    "y_pred_blend = (avg_proba[:, 1] >= 0.5).astype(int)\n",
    "\n",
    "# Evaluate\n",
    "print(\"Blended F1 Score:\", f1_score(y_test, y_pred_blend))\n",
    "print(\"Precision:\", precision_score(y_test, y_pred_blend))\n",
    "print(\"Recall:\", recall_score(y_test, y_pred_blend))\n",
    "print(\"Accuracy:\", accuracy_score(y_test, y_pred_blend))\n"
   ]
  },
  {
   "cell_type": "code",
   "execution_count": 76,
   "id": "f7de904d",
   "metadata": {
    "execution": {
     "iopub.execute_input": "2025-07-23T16:54:18.491664Z",
     "iopub.status.busy": "2025-07-23T16:54:18.491184Z",
     "iopub.status.idle": "2025-07-23T16:54:18.712409Z",
     "shell.execute_reply": "2025-07-23T16:54:18.711304Z"
    },
    "papermill": {
     "duration": 0.252624,
     "end_time": "2025-07-23T16:54:18.713808",
     "exception": false,
     "start_time": "2025-07-23T16:54:18.461184",
     "status": "completed"
    },
    "tags": []
   },
   "outputs": [
    {
     "name": "stdout",
     "output_type": "stream",
     "text": [
      "✅ submission.csv generated successfully.\n"
     ]
    }
   ],
   "source": [
    "# Predict probabilities on actual test data (submission set)\n",
    "proba_hgb_test = hist_model.predict_proba(test)\n",
    "proba_lgb_test = lgbm.predict_proba(test)\n",
    "\n",
    "# Weighted average of probabilities\n",
    "final_avg_proba = (\n",
    "    0.55 * proba_hgb_test +\n",
    "    0.45 * proba_lgb_test\n",
    ")\n",
    "\n",
    "# Convert probabilities to class labels (threshold 0.5)\n",
    "final_predictions = (final_avg_proba[:, 1] >= 0.5).astype(int)\n",
    "\n",
    "\n",
    "submission_df = pd.DataFrame({\n",
    "    'id': raw_test['id'], \n",
    "    'exit_status': final_predictions\n",
    "})\n",
    "\n",
    "# Export to CSV\n",
    "submission_df.to_csv(\"submission.csv\", index=False)\n",
    "\n",
    "print(\"✅ submission.csv generated successfully.\")\n"
   ]
  },
  {
   "cell_type": "code",
   "execution_count": 77,
   "id": "2c120dc8",
   "metadata": {
    "execution": {
     "iopub.execute_input": "2025-07-23T16:54:18.775232Z",
     "iopub.status.busy": "2025-07-23T16:54:18.774649Z",
     "iopub.status.idle": "2025-07-23T16:54:18.778680Z",
     "shell.execute_reply": "2025-07-23T16:54:18.777927Z"
    },
    "papermill": {
     "duration": 0.036227,
     "end_time": "2025-07-23T16:54:18.780096",
     "exception": false,
     "start_time": "2025-07-23T16:54:18.743869",
     "status": "completed"
    },
    "tags": []
   },
   "outputs": [],
   "source": [
    "# # Predict on the final test set using your voting classifier\n",
    "# y_final_pred = stack_clf.predict(test)\n",
    "\n",
    "# # Create submission DataFrame using the original 'id' column\n",
    "# submission = pd.DataFrame({\n",
    "#     'id': raw_test['id'],\n",
    "#     'target': y_final_pred\n",
    "# })\n",
    "\n",
    "# # Save to CSV\n",
    "# submission.to_csv('submission.csv', index=False)\n"
   ]
  },
  {
   "cell_type": "code",
   "execution_count": 78,
   "id": "e7eef9b5",
   "metadata": {
    "execution": {
     "iopub.execute_input": "2025-07-23T16:54:18.841219Z",
     "iopub.status.busy": "2025-07-23T16:54:18.840481Z",
     "iopub.status.idle": "2025-07-23T16:54:18.844443Z",
     "shell.execute_reply": "2025-07-23T16:54:18.843578Z"
    },
    "papermill": {
     "duration": 0.035805,
     "end_time": "2025-07-23T16:54:18.845913",
     "exception": false,
     "start_time": "2025-07-23T16:54:18.810108",
     "status": "completed"
    },
    "tags": []
   },
   "outputs": [],
   "source": [
    "# import os\n",
    "\n",
    "# # Replace with the exact filename you want to delete\n",
    "# file_to_delete = 'submission.csv'\n",
    "\n",
    "# # Delete if it exists\n",
    "# if os.path.exists(file_to_delete):\n",
    "#     os.remove(file_to_delete)\n",
    "#     print(f\"Deleted '{file_to_delete}'\")\n",
    "# else:\n",
    "#     print(f\"File '{file_to_delete}' not found\")"
   ]
  }
 ],
 "metadata": {
  "kaggle": {
   "accelerator": "none",
   "dataSources": [
    {
     "databundleVersionId": 13009703,
     "sourceId": 107399,
     "sourceType": "competition"
    }
   ],
   "dockerImageVersionId": 31089,
   "isGpuEnabled": false,
   "isInternetEnabled": true,
   "language": "python",
   "sourceType": "notebook"
  },
  "kernelspec": {
   "display_name": "Python 3",
   "language": "python",
   "name": "python3"
  },
  "language_info": {
   "codemirror_mode": {
    "name": "ipython",
    "version": 3
   },
   "file_extension": ".py",
   "mimetype": "text/x-python",
   "name": "python",
   "nbconvert_exporter": "python",
   "pygments_lexer": "ipython3",
   "version": "3.11.13"
  },
  "papermill": {
   "default_parameters": {},
   "duration": 589.75654,
   "end_time": "2025-07-23T16:54:21.495151",
   "environment_variables": {},
   "exception": null,
   "input_path": "__notebook__.ipynb",
   "output_path": "__notebook__.ipynb",
   "parameters": {},
   "start_time": "2025-07-23T16:44:31.738611",
   "version": "2.6.0"
  }
 },
 "nbformat": 4,
 "nbformat_minor": 5
}
