{
  "metadata": {
    "kernelspec": {
      "language": "python",
      "display_name": "Python 3",
      "name": "python3"
    },
    "language_info": {
      "name": "python",
      "version": "3.11.13",
      "mimetype": "text/x-python",
      "codemirror_mode": {
        "name": "ipython",
        "version": 3
      },
      "pygments_lexer": "ipython3",
      "nbconvert_exporter": "python",
      "file_extension": ".py"
    },
    "kaggle": {
      "accelerator": "none",
      "dataSources": [
        {
          "sourceId": 111489,
          "databundleVersionId": 13272433,
          "sourceType": "competition"
        }
      ],
      "dockerImageVersionId": 31089,
      "isInternetEnabled": true,
      "language": "python",
      "sourceType": "notebook",
      "isGpuEnabled": false
    },
    "colab": {
      "name": "23f3001900_KA3",
      "provenance": []
    }
  },
  "nbformat_minor": 0,
  "nbformat": 4,
  "cells": [
    {
      "source": [
        "# IMPORTANT: SOME KAGGLE DATA SOURCES ARE PRIVATE\n",
        "# RUN THIS CELL IN ORDER TO IMPORT YOUR KAGGLE DATA SOURCES.\n",
        "import kagglehub\n",
        "kagglehub.login()\n"
      ],
      "metadata": {
        "id": "7-_nxE5gG_2Z"
      },
      "cell_type": "code",
      "outputs": [],
      "execution_count": null
    },
    {
      "source": [
        "# IMPORTANT: RUN THIS CELL IN ORDER TO IMPORT YOUR KAGGLE DATA SOURCES,\n",
        "# THEN FEEL FREE TO DELETE THIS CELL.\n",
        "# NOTE: THIS NOTEBOOK ENVIRONMENT DIFFERS FROM KAGGLE'S PYTHON\n",
        "# ENVIRONMENT SO THERE MAY BE MISSING LIBRARIES USED BY YOUR\n",
        "# NOTEBOOK.\n",
        "\n",
        "mlp_term_2_2025_kaggle_assignment_3_path = kagglehub.competition_download('mlp-term-2-2025-kaggle-assignment-3')\n",
        "\n",
        "print('Data source import complete.')\n"
      ],
      "metadata": {
        "id": "Kn9PwnCRG_2e"
      },
      "cell_type": "code",
      "outputs": [],
      "execution_count": null
    },
    {
      "cell_type": "markdown",
      "source": [
        "# Problem Statement"
      ],
      "metadata": {
        "id": "82o3S3FSG_2g"
      }
    },
    {
      "cell_type": "markdown",
      "source": [
        "The goal of this task is to predict the rating a customer would give to an eatery based on their textual review. Using a labeled training dataset containing customer reviews and their corresponding ratings, we aim to build a machine learning model that can generalize well to unseen reviews in the test set."
      ],
      "metadata": {
        "id": "mljhjNCyG_2i"
      }
    },
    {
      "cell_type": "markdown",
      "source": [
        "# Importing necessary libraries"
      ],
      "metadata": {
        "id": "UMGsG08CG_2j"
      }
    },
    {
      "cell_type": "code",
      "source": [
        "import os\n",
        "import numpy as np\n",
        "import pandas as pd\n",
        "import seaborn as sns\n",
        "import matplotlib.pyplot as plt\n",
        "\n",
        "for dirname, _, filenames in os.walk('/kaggle/input'):\n",
        "    for filename in filenames:\n",
        "        print(os.path.join(dirname, filename))\n"
      ],
      "metadata": {
        "_uuid": "8f2839f25d086af736a60e9eeb907d3b93b6e0e5",
        "_cell_guid": "b1076dfc-b9ad-4769-8c92-a6c4dae69d19",
        "trusted": true,
        "execution": {
          "iopub.status.busy": "2025-08-21T13:58:13.599823Z",
          "iopub.execute_input": "2025-08-21T13:58:13.600595Z",
          "iopub.status.idle": "2025-08-21T13:58:14.837512Z",
          "shell.execute_reply.started": "2025-08-21T13:58:13.600564Z",
          "shell.execute_reply": "2025-08-21T13:58:14.836625Z"
        },
        "id": "zTb6AQEUG_2l"
      },
      "outputs": [],
      "execution_count": null
    },
    {
      "cell_type": "markdown",
      "source": [
        "# Accessing Data Input"
      ],
      "metadata": {
        "id": "l-VRQYDJG_2m"
      }
    },
    {
      "cell_type": "code",
      "source": [
        "train=pd.read_csv('/kaggle/input/mlp-term-2-2025-kaggle-assignment-3/train.csv')\n",
        "test=pd.read_csv('/kaggle/input/mlp-term-2-2025-kaggle-assignment-3/test.csv')"
      ],
      "metadata": {
        "trusted": true,
        "execution": {
          "iopub.status.busy": "2025-08-21T13:58:14.838985Z",
          "iopub.execute_input": "2025-08-21T13:58:14.839443Z",
          "iopub.status.idle": "2025-08-21T13:58:15.11453Z",
          "shell.execute_reply.started": "2025-08-21T13:58:14.839419Z",
          "shell.execute_reply": "2025-08-21T13:58:15.113707Z"
        },
        "id": "szJg3GorG_2p"
      },
      "outputs": [],
      "execution_count": null
    },
    {
      "cell_type": "code",
      "source": [
        "raw_test=pd.read_csv('/kaggle/input/mlp-term-2-2025-kaggle-assignment-3/test.csv')"
      ],
      "metadata": {
        "trusted": true,
        "execution": {
          "iopub.status.busy": "2025-08-21T13:58:15.115308Z",
          "iopub.execute_input": "2025-08-21T13:58:15.11555Z",
          "iopub.status.idle": "2025-08-21T13:58:15.155033Z",
          "shell.execute_reply.started": "2025-08-21T13:58:15.115531Z",
          "shell.execute_reply": "2025-08-21T13:58:15.154241Z"
        },
        "id": "OUAQnN6bG_2q"
      },
      "outputs": [],
      "execution_count": null
    },
    {
      "cell_type": "code",
      "source": [
        "train.head()"
      ],
      "metadata": {
        "trusted": true,
        "execution": {
          "iopub.status.busy": "2025-08-21T13:58:15.1568Z",
          "iopub.execute_input": "2025-08-21T13:58:15.157071Z",
          "iopub.status.idle": "2025-08-21T13:58:15.189523Z",
          "shell.execute_reply.started": "2025-08-21T13:58:15.15705Z",
          "shell.execute_reply": "2025-08-21T13:58:15.18871Z"
        },
        "id": "s3Kdq3PmG_2r"
      },
      "outputs": [],
      "execution_count": null
    },
    {
      "cell_type": "code",
      "source": [
        "test.head(2)"
      ],
      "metadata": {
        "trusted": true,
        "execution": {
          "iopub.status.busy": "2025-08-21T13:58:15.190703Z",
          "iopub.execute_input": "2025-08-21T13:58:15.191025Z",
          "iopub.status.idle": "2025-08-21T13:58:15.204656Z",
          "shell.execute_reply.started": "2025-08-21T13:58:15.190999Z",
          "shell.execute_reply": "2025-08-21T13:58:15.203871Z"
        },
        "id": "kp6NqMe2G_2s"
      },
      "outputs": [],
      "execution_count": null
    },
    {
      "cell_type": "code",
      "source": [
        "train.shape"
      ],
      "metadata": {
        "trusted": true,
        "execution": {
          "iopub.status.busy": "2025-08-21T13:58:15.205558Z",
          "iopub.execute_input": "2025-08-21T13:58:15.205882Z",
          "iopub.status.idle": "2025-08-21T13:58:15.222568Z",
          "shell.execute_reply.started": "2025-08-21T13:58:15.20586Z",
          "shell.execute_reply": "2025-08-21T13:58:15.221745Z"
        },
        "id": "ke2xeKhlG_2s"
      },
      "outputs": [],
      "execution_count": null
    },
    {
      "cell_type": "markdown",
      "source": [
        "# Identifying Data Types"
      ],
      "metadata": {
        "id": "UGsk4YIXG_2t"
      }
    },
    {
      "cell_type": "code",
      "source": [
        "pd.DataFrame(train.dtypes).T"
      ],
      "metadata": {
        "trusted": true,
        "execution": {
          "iopub.status.busy": "2025-08-21T13:58:15.223478Z",
          "iopub.execute_input": "2025-08-21T13:58:15.223842Z",
          "iopub.status.idle": "2025-08-21T13:58:15.247752Z",
          "shell.execute_reply.started": "2025-08-21T13:58:15.223813Z",
          "shell.execute_reply": "2025-08-21T13:58:15.247089Z"
        },
        "id": "60Os7UECG_2u"
      },
      "outputs": [],
      "execution_count": null
    },
    {
      "cell_type": "code",
      "source": [
        "train.info()"
      ],
      "metadata": {
        "trusted": true,
        "execution": {
          "iopub.status.busy": "2025-08-21T13:58:15.248596Z",
          "iopub.execute_input": "2025-08-21T13:58:15.248882Z",
          "iopub.status.idle": "2025-08-21T13:58:15.304744Z",
          "shell.execute_reply.started": "2025-08-21T13:58:15.248856Z",
          "shell.execute_reply": "2025-08-21T13:58:15.303966Z"
        },
        "id": "B19GeAfAG_2u"
      },
      "outputs": [],
      "execution_count": null
    },
    {
      "cell_type": "code",
      "source": [
        "test.info()"
      ],
      "metadata": {
        "trusted": true,
        "execution": {
          "iopub.status.busy": "2025-08-21T13:58:15.305564Z",
          "iopub.execute_input": "2025-08-21T13:58:15.305896Z",
          "iopub.status.idle": "2025-08-21T13:58:15.32152Z",
          "shell.execute_reply.started": "2025-08-21T13:58:15.305876Z",
          "shell.execute_reply": "2025-08-21T13:58:15.320715Z"
        },
        "id": "gamgV86tG_2v"
      },
      "outputs": [],
      "execution_count": null
    },
    {
      "cell_type": "code",
      "source": [
        "#rating is target column\n",
        "train['rating'].unique() #Multi-Classification Problem"
      ],
      "metadata": {
        "trusted": true,
        "execution": {
          "iopub.status.busy": "2025-08-21T13:58:15.32484Z",
          "iopub.execute_input": "2025-08-21T13:58:15.325087Z",
          "iopub.status.idle": "2025-08-21T13:58:15.342888Z",
          "shell.execute_reply.started": "2025-08-21T13:58:15.325068Z",
          "shell.execute_reply": "2025-08-21T13:58:15.341984Z"
        },
        "id": "tKSup4uPG_2v"
      },
      "outputs": [],
      "execution_count": null
    },
    {
      "cell_type": "code",
      "source": [
        "import re\n",
        "\n",
        "def convert_to_days(text):\n",
        "    if pd.isna(text):\n",
        "        return np.nan\n",
        "\n",
        "    text = str(text).lower().strip()\n",
        "\n",
        "    # Handle cases like \"a year ago\", \"an hour ago\"\n",
        "    if 'a year' in text:\n",
        "        return 365\n",
        "    elif 'a month' in text:\n",
        "        return 30\n",
        "    elif 'a week' in text:\n",
        "        return 7\n",
        "    elif 'a day' in text or 'an hour' in text:\n",
        "        return 1\n",
        "\n",
        "    match = re.search(r'\\d+', text)\n",
        "    if match:\n",
        "        num = int(match.group())\n",
        "        if 'year' in text:\n",
        "            return num * 365\n",
        "        elif 'month' in text:\n",
        "            return num * 30\n",
        "        elif 'week' in text:\n",
        "            return num * 7\n",
        "        elif 'day' in text:\n",
        "            return num\n",
        "        elif 'hour' in text:\n",
        "            return 1\n",
        "    return np.nan\n",
        "\n",
        "train['review_time'] = train['review_time'].apply(convert_to_days)\n",
        "test['review_time'] = test['review_time'].apply(convert_to_days)\n"
      ],
      "metadata": {
        "trusted": true,
        "execution": {
          "iopub.status.busy": "2025-08-21T13:58:15.343958Z",
          "iopub.execute_input": "2025-08-21T13:58:15.344262Z",
          "iopub.status.idle": "2025-08-21T13:58:15.417732Z",
          "shell.execute_reply.started": "2025-08-21T13:58:15.344236Z",
          "shell.execute_reply": "2025-08-21T13:58:15.416894Z"
        },
        "id": "aVtjhlpPG_2w"
      },
      "outputs": [],
      "execution_count": null
    },
    {
      "cell_type": "markdown",
      "source": [
        "# Descriptive Statistics"
      ],
      "metadata": {
        "id": "IhcshLc-G_2w"
      }
    },
    {
      "cell_type": "code",
      "source": [
        "train.describe().T"
      ],
      "metadata": {
        "trusted": true,
        "execution": {
          "iopub.status.busy": "2025-08-21T13:58:15.418558Z",
          "iopub.execute_input": "2025-08-21T13:58:15.418852Z",
          "iopub.status.idle": "2025-08-21T13:58:15.451455Z",
          "shell.execute_reply.started": "2025-08-21T13:58:15.418826Z",
          "shell.execute_reply": "2025-08-21T13:58:15.450729Z"
        },
        "id": "cJtnbDG3G_2x"
      },
      "outputs": [],
      "execution_count": null
    },
    {
      "cell_type": "markdown",
      "source": [
        "# Identifying and Handling Missing Data"
      ],
      "metadata": {
        "id": "HAbLu51xG_2x"
      }
    },
    {
      "cell_type": "markdown",
      "source": [
        "## Training Set"
      ],
      "metadata": {
        "id": "2K6SAG70G_2x"
      }
    },
    {
      "cell_type": "code",
      "source": [
        "train.columns = train.columns.str.strip() #Many column names have spaces before or after the name."
      ],
      "metadata": {
        "trusted": true,
        "execution": {
          "iopub.status.busy": "2025-08-21T13:58:15.45217Z",
          "iopub.execute_input": "2025-08-21T13:58:15.45241Z",
          "iopub.status.idle": "2025-08-21T13:58:15.456735Z",
          "shell.execute_reply.started": "2025-08-21T13:58:15.452393Z",
          "shell.execute_reply": "2025-08-21T13:58:15.456055Z"
        },
        "id": "wSY-KQNPG_2x"
      },
      "outputs": [],
      "execution_count": null
    },
    {
      "cell_type": "code",
      "source": [
        "train.isnull().sum()"
      ],
      "metadata": {
        "trusted": true,
        "execution": {
          "iopub.status.busy": "2025-08-21T13:58:15.457491Z",
          "iopub.execute_input": "2025-08-21T13:58:15.457684Z",
          "iopub.status.idle": "2025-08-21T13:58:15.482653Z",
          "shell.execute_reply.started": "2025-08-21T13:58:15.457669Z",
          "shell.execute_reply": "2025-08-21T13:58:15.481842Z"
        },
        "id": "rV7xERJRG_20"
      },
      "outputs": [],
      "execution_count": null
    },
    {
      "cell_type": "code",
      "source": [
        "#median imputation\n",
        "\n",
        "for col in ['latitude', 'longitude']:\n",
        "    median_val = train[col].median()\n",
        "    train[col]=train[col].fillna(median_val)\n",
        "\n",
        "train.isnull().sum()"
      ],
      "metadata": {
        "trusted": true,
        "execution": {
          "iopub.status.busy": "2025-08-21T13:58:15.483517Z",
          "iopub.execute_input": "2025-08-21T13:58:15.483739Z",
          "iopub.status.idle": "2025-08-21T13:58:15.507129Z",
          "shell.execute_reply.started": "2025-08-21T13:58:15.483723Z",
          "shell.execute_reply": "2025-08-21T13:58:15.506353Z"
        },
        "id": "2H2E5kJXG_20"
      },
      "outputs": [],
      "execution_count": null
    },
    {
      "cell_type": "code",
      "source": [
        "train.shape"
      ],
      "metadata": {
        "trusted": true,
        "execution": {
          "iopub.status.busy": "2025-08-21T13:58:15.507985Z",
          "iopub.execute_input": "2025-08-21T13:58:15.508261Z",
          "iopub.status.idle": "2025-08-21T13:58:15.51357Z",
          "shell.execute_reply.started": "2025-08-21T13:58:15.508237Z",
          "shell.execute_reply": "2025-08-21T13:58:15.512815Z"
        },
        "id": "MRYft5L5G_20"
      },
      "outputs": [],
      "execution_count": null
    },
    {
      "cell_type": "markdown",
      "source": [
        "## Testing Set"
      ],
      "metadata": {
        "id": "KFukopsNG_21"
      }
    },
    {
      "cell_type": "code",
      "source": [
        "test.columns = test.columns.str.strip()"
      ],
      "metadata": {
        "trusted": true,
        "execution": {
          "iopub.status.busy": "2025-08-21T13:58:15.514352Z",
          "iopub.execute_input": "2025-08-21T13:58:15.51457Z",
          "iopub.status.idle": "2025-08-21T13:58:15.528006Z",
          "shell.execute_reply.started": "2025-08-21T13:58:15.514543Z",
          "shell.execute_reply": "2025-08-21T13:58:15.527177Z"
        },
        "id": "Tryyk_HaG_21"
      },
      "outputs": [],
      "execution_count": null
    },
    {
      "cell_type": "code",
      "source": [
        "test.isnull().sum()"
      ],
      "metadata": {
        "trusted": true,
        "execution": {
          "iopub.status.busy": "2025-08-21T13:58:15.528993Z",
          "iopub.execute_input": "2025-08-21T13:58:15.529325Z",
          "iopub.status.idle": "2025-08-21T13:58:15.549338Z",
          "shell.execute_reply.started": "2025-08-21T13:58:15.529298Z",
          "shell.execute_reply": "2025-08-21T13:58:15.548557Z"
        },
        "id": "myD4V5UAG_21"
      },
      "outputs": [],
      "execution_count": null
    },
    {
      "cell_type": "code",
      "source": [
        "#In test dataset we can't drop values. So imputing them with median\n",
        "test['latitude']=test['latitude'].fillna(train['latitude'].median())\n",
        "test['longitude']=test['longitude'].fillna(train['longitude'].median())"
      ],
      "metadata": {
        "trusted": true,
        "execution": {
          "iopub.status.busy": "2025-08-21T13:58:15.550296Z",
          "iopub.execute_input": "2025-08-21T13:58:15.550574Z",
          "iopub.status.idle": "2025-08-21T13:58:15.565717Z",
          "shell.execute_reply.started": "2025-08-21T13:58:15.550546Z",
          "shell.execute_reply": "2025-08-21T13:58:15.564944Z"
        },
        "id": "AFUyRnoTG_22"
      },
      "outputs": [],
      "execution_count": null
    },
    {
      "cell_type": "code",
      "source": [
        "test.isnull().sum()"
      ],
      "metadata": {
        "trusted": true,
        "execution": {
          "iopub.status.busy": "2025-08-21T13:58:15.566993Z",
          "iopub.execute_input": "2025-08-21T13:58:15.567268Z",
          "iopub.status.idle": "2025-08-21T13:58:15.587894Z",
          "shell.execute_reply.started": "2025-08-21T13:58:15.567241Z",
          "shell.execute_reply": "2025-08-21T13:58:15.587248Z"
        },
        "id": "TtPC_oo0G_22"
      },
      "outputs": [],
      "execution_count": null
    },
    {
      "cell_type": "markdown",
      "source": [
        "# Identifying and Handling Duplicates"
      ],
      "metadata": {
        "id": "cRmrhrXmG_23"
      }
    },
    {
      "cell_type": "markdown",
      "source": [
        "## Training Set"
      ],
      "metadata": {
        "id": "p301mkzNG_23"
      }
    },
    {
      "cell_type": "code",
      "source": [
        "train.duplicated().sum()"
      ],
      "metadata": {
        "trusted": true,
        "execution": {
          "iopub.status.busy": "2025-08-21T13:58:15.588839Z",
          "iopub.execute_input": "2025-08-21T13:58:15.589132Z",
          "iopub.status.idle": "2025-08-21T13:58:15.629564Z",
          "shell.execute_reply.started": "2025-08-21T13:58:15.589112Z",
          "shell.execute_reply": "2025-08-21T13:58:15.628872Z"
        },
        "id": "U_AVdLR2G_23"
      },
      "outputs": [],
      "execution_count": null
    },
    {
      "cell_type": "code",
      "source": [
        "train=train.drop_duplicates()"
      ],
      "metadata": {
        "trusted": true,
        "execution": {
          "iopub.status.busy": "2025-08-21T13:58:15.630319Z",
          "iopub.execute_input": "2025-08-21T13:58:15.630585Z",
          "iopub.status.idle": "2025-08-21T13:58:15.664211Z",
          "shell.execute_reply.started": "2025-08-21T13:58:15.630558Z",
          "shell.execute_reply": "2025-08-21T13:58:15.663302Z"
        },
        "id": "LS_NgpDeG_23"
      },
      "outputs": [],
      "execution_count": null
    },
    {
      "cell_type": "markdown",
      "source": [
        "## Testing Set"
      ],
      "metadata": {
        "id": "dZwbjcnKG_24"
      }
    },
    {
      "cell_type": "code",
      "source": [
        "test.duplicated().sum()"
      ],
      "metadata": {
        "trusted": true,
        "execution": {
          "iopub.status.busy": "2025-08-21T13:58:15.664999Z",
          "iopub.execute_input": "2025-08-21T13:58:15.665333Z",
          "iopub.status.idle": "2025-08-21T13:58:15.679334Z",
          "shell.execute_reply.started": "2025-08-21T13:58:15.66529Z",
          "shell.execute_reply": "2025-08-21T13:58:15.678518Z"
        },
        "id": "EhFYLTtLG_24"
      },
      "outputs": [],
      "execution_count": null
    },
    {
      "cell_type": "code",
      "source": [
        "test=test.drop_duplicates()"
      ],
      "metadata": {
        "trusted": true,
        "execution": {
          "iopub.status.busy": "2025-08-21T13:58:15.680206Z",
          "iopub.execute_input": "2025-08-21T13:58:15.680532Z",
          "iopub.status.idle": "2025-08-21T13:58:15.692713Z",
          "shell.execute_reply.started": "2025-08-21T13:58:15.680506Z",
          "shell.execute_reply": "2025-08-21T13:58:15.692033Z"
        },
        "id": "aOM2aBEoG_25"
      },
      "outputs": [],
      "execution_count": null
    },
    {
      "cell_type": "markdown",
      "source": [
        "# Identifying and Handling Outliers"
      ],
      "metadata": {
        "id": "15NUVJCLG_25"
      }
    },
    {
      "cell_type": "markdown",
      "source": [
        "## Training Set"
      ],
      "metadata": {
        "id": "IKg2iGwpG_3C"
      }
    },
    {
      "cell_type": "code",
      "source": [
        "train['rating_count'] = train['rating_count'].str.replace(',', '', regex=False).astype(int)"
      ],
      "metadata": {
        "trusted": true,
        "execution": {
          "iopub.status.busy": "2025-08-21T13:58:15.693749Z",
          "iopub.execute_input": "2025-08-21T13:58:15.694324Z",
          "iopub.status.idle": "2025-08-21T13:58:15.708863Z",
          "shell.execute_reply.started": "2025-08-21T13:58:15.694294Z",
          "shell.execute_reply": "2025-08-21T13:58:15.708219Z"
        },
        "id": "hVqyNuDaG_3C"
      },
      "outputs": [],
      "execution_count": null
    },
    {
      "cell_type": "code",
      "source": [
        "numeric_cols = [col for col in train.select_dtypes(include=['int64', 'float64']).columns if col not in ['id','rating']]\n",
        "outlier_counts={}\n",
        "def outliers_count(train,cols):\n",
        "    for col in cols:\n",
        "        Q1 = train[col].quantile(0.25)\n",
        "        Q3 = train[col].quantile(0.75)\n",
        "        IQR = Q3 - Q1\n",
        "        lower = Q1 - 1.5 * IQR\n",
        "        upper = Q3 + 1.5 * IQR\n",
        "        outliers = train[(train[col] < lower) | (train[col] > upper)]\n",
        "        if outliers.shape[0]>0:\n",
        "            outlier_counts[col] = outliers.shape[0]\n",
        "    return outlier_counts\n",
        "result=outliers_count(train,numeric_cols)\n",
        "print(f\"The total number of outliers in columns:{result}\")"
      ],
      "metadata": {
        "trusted": true,
        "execution": {
          "iopub.status.busy": "2025-08-21T13:58:15.709674Z",
          "iopub.execute_input": "2025-08-21T13:58:15.709938Z",
          "iopub.status.idle": "2025-08-21T13:58:15.741944Z",
          "shell.execute_reply.started": "2025-08-21T13:58:15.709912Z",
          "shell.execute_reply": "2025-08-21T13:58:15.741061Z"
        },
        "id": "n88QAfbSG_3C"
      },
      "outputs": [],
      "execution_count": null
    },
    {
      "cell_type": "code",
      "source": [
        "sns.boxplot(x=train['rating_count'])"
      ],
      "metadata": {
        "trusted": true,
        "execution": {
          "iopub.status.busy": "2025-08-21T13:58:15.742781Z",
          "iopub.execute_input": "2025-08-21T13:58:15.743076Z",
          "iopub.status.idle": "2025-08-21T13:58:15.985393Z",
          "shell.execute_reply.started": "2025-08-21T13:58:15.743055Z",
          "shell.execute_reply": "2025-08-21T13:58:15.984642Z"
        },
        "id": "TMuN1J6PG_3D"
      },
      "outputs": [],
      "execution_count": null
    },
    {
      "cell_type": "code",
      "source": [
        "caps=dict() #to store the capping values that can be used in test dataset\n",
        "def cap_outliers(train, col):\n",
        "    Q1 = train[col].quantile(0.25)\n",
        "    Q3 = train[col].quantile(0.75)\n",
        "    IQR = Q3 - Q1\n",
        "    lower = Q1 - 1.5 * IQR\n",
        "    upper = Q3 + 1.5 * IQR\n",
        "    caps[col]=(lower,upper)\n",
        "    train[col] = train[col].clip(lower=lower, upper=upper)\n",
        "\n",
        "for col in ['rating_count']:\n",
        "    cap_outliers(train, col)"
      ],
      "metadata": {
        "trusted": true,
        "execution": {
          "iopub.status.busy": "2025-08-21T13:58:15.990354Z",
          "iopub.execute_input": "2025-08-21T13:58:15.99061Z",
          "iopub.status.idle": "2025-08-21T13:58:15.999986Z",
          "shell.execute_reply.started": "2025-08-21T13:58:15.990589Z",
          "shell.execute_reply": "2025-08-21T13:58:15.999337Z"
        },
        "id": "eb8aFG3sG_3D"
      },
      "outputs": [],
      "execution_count": null
    },
    {
      "cell_type": "markdown",
      "source": [
        "## Testing Set"
      ],
      "metadata": {
        "id": "dMfS-Ar1G_3E"
      }
    },
    {
      "cell_type": "code",
      "source": [
        "test['rating_count'] = test['rating_count'].str.replace(',', '', regex=False).astype(int)"
      ],
      "metadata": {
        "trusted": true,
        "execution": {
          "iopub.status.busy": "2025-08-21T13:58:16.000811Z",
          "iopub.execute_input": "2025-08-21T13:58:16.001028Z",
          "iopub.status.idle": "2025-08-21T13:58:16.017765Z",
          "shell.execute_reply.started": "2025-08-21T13:58:16.001012Z",
          "shell.execute_reply": "2025-08-21T13:58:16.016928Z"
        },
        "id": "rKfBWNWdG_3E"
      },
      "outputs": [],
      "execution_count": null
    },
    {
      "cell_type": "code",
      "source": [
        "#Handling the outliers in the testing dataset according to training dataset\n",
        "for col, (lower_cap, upper_cap) in caps.items():\n",
        "    test[col] = test[col].clip(lower=lower_cap, upper=upper_cap)"
      ],
      "metadata": {
        "trusted": true,
        "execution": {
          "iopub.status.busy": "2025-08-21T13:58:16.018633Z",
          "iopub.execute_input": "2025-08-21T13:58:16.018862Z",
          "iopub.status.idle": "2025-08-21T13:58:16.033598Z",
          "shell.execute_reply.started": "2025-08-21T13:58:16.018844Z",
          "shell.execute_reply": "2025-08-21T13:58:16.032773Z"
        },
        "id": "8YdrEi1zG_3E"
      },
      "outputs": [],
      "execution_count": null
    },
    {
      "cell_type": "markdown",
      "source": [
        "# Visual Representations and Key Insights"
      ],
      "metadata": {
        "id": "pfTX_vnhG_3E"
      }
    },
    {
      "cell_type": "markdown",
      "source": [
        "## 1. Distribution of Ratings"
      ],
      "metadata": {
        "id": "TKxjSmJLG_3F"
      }
    },
    {
      "cell_type": "code",
      "source": [
        "plt.figure(figsize=(6,4))\n",
        "sns.countplot(x='rating', data=train, palette=\"viridis\")\n",
        "plt.title(\"Distribution of Customer Ratings\")\n",
        "plt.show()"
      ],
      "metadata": {
        "trusted": true,
        "execution": {
          "iopub.status.busy": "2025-08-21T13:58:16.034429Z",
          "iopub.execute_input": "2025-08-21T13:58:16.035006Z",
          "iopub.status.idle": "2025-08-21T13:58:16.2839Z",
          "shell.execute_reply.started": "2025-08-21T13:58:16.034979Z",
          "shell.execute_reply": "2025-08-21T13:58:16.28313Z"
        },
        "id": "a1qlzf32G_3F"
      },
      "outputs": [],
      "execution_count": null
    },
    {
      "cell_type": "markdown",
      "source": [
        "### Key Insight\n",
        "Ratings are skewed toward extremes (1 and 5), showing strong polarization in customer feedback.\n",
        "\n",
        "Rating 5 has the highest count, indicating a significant proportion of highly satisfied customers.\n",
        "\n",
        "Rating 1 is the second most common, highlighting many customers with very poor experiences.\n",
        "\n",
        "Middle ratings (2, 3, 4) are comparatively fewer, suggesting customers tend to express either very positive or very negative experiences, rather than moderate opinions.\n",
        "\n",
        "\n",
        "This polarization suggests that customer experiences are not balanced — businesses may need to investigate the causes behind the large number of low (1) ratings despite the strong presence of high (5) ratings."
      ],
      "metadata": {
        "id": "OV3DGnYeG_3F"
      }
    },
    {
      "cell_type": "markdown",
      "source": [
        "## 2. Review Length vs Rating"
      ],
      "metadata": {
        "id": "rDlPKqsyG_3G"
      }
    },
    {
      "cell_type": "code",
      "source": [
        "sns.boxplot(\n",
        "    x='rating',\n",
        "    y=train['review'].apply(lambda x: len(str(x).split())),\n",
        "    data=train,\n",
        "    palette=\"coolwarm\"\n",
        ")\n",
        "plt.title(\"Review Length vs Rating\")\n",
        "plt.show()"
      ],
      "metadata": {
        "trusted": true,
        "execution": {
          "iopub.status.busy": "2025-08-21T13:58:16.284644Z",
          "iopub.execute_input": "2025-08-21T13:58:16.284848Z",
          "iopub.status.idle": "2025-08-21T13:58:16.522451Z",
          "shell.execute_reply.started": "2025-08-21T13:58:16.284832Z",
          "shell.execute_reply": "2025-08-21T13:58:16.521647Z"
        },
        "id": "w3hmVeHFG_3G"
      },
      "outputs": [],
      "execution_count": null
    },
    {
      "cell_type": "markdown",
      "source": [
        "### Key Insight\n",
        "**When customers are dissatisfied, they tend to write longer, detailed reviews (explaining problems, complaints, or issues). In contrast, satisfied customers often leave short and positive comments (\"Great food!\", \"Loved it!\", etc.).**"
      ],
      "metadata": {
        "id": "LOtoGQmiG_3H"
      }
    },
    {
      "cell_type": "markdown",
      "source": [
        "## 3. Top Words by Rating"
      ],
      "metadata": {
        "id": "EroRjdRcG_3H"
      }
    },
    {
      "cell_type": "code",
      "source": [
        "from collections import Counter\n",
        "\n",
        "# top words for rating=1\n",
        "words_low = \" \".join(train[train['rating']==1]['review'].astype(str)).lower().split()\n",
        "common_low = Counter(words_low).most_common(10)\n",
        "\n",
        "# top words for rating=5\n",
        "words_high = \" \".join(train[train['rating']==5]['review'].astype(str)).lower().split()\n",
        "common_high = Counter(words_high).most_common(10)\n",
        "\n",
        "# DataFrame for plotting\n",
        "low_df = pd.DataFrame(common_low, columns=[\"word\", \"count\"])\n",
        "high_df = pd.DataFrame(common_high, columns=[\"word\", \"count\"])\n",
        "\n",
        "# Plot\n",
        "fig, axes = plt.subplots(1,2, figsize=(14,6))\n",
        "\n",
        "sns.barplot(x=\"count\", y=\"word\", data=low_df, ax=axes[0], palette=\"Reds_r\")\n",
        "axes[0].set_title(\"Top Words in Rating 1 Reviews\")\n",
        "\n",
        "sns.barplot(x=\"count\", y=\"word\", data=high_df, ax=axes[1], palette=\"Greens_r\")\n",
        "axes[1].set_title(\"Top Words in Rating 5 Reviews\")\n",
        "\n",
        "plt.tight_layout()\n",
        "plt.show()\n"
      ],
      "metadata": {
        "trusted": true,
        "execution": {
          "iopub.status.busy": "2025-08-21T13:58:16.523334Z",
          "iopub.execute_input": "2025-08-21T13:58:16.523609Z",
          "iopub.status.idle": "2025-08-21T13:58:17.051675Z",
          "shell.execute_reply.started": "2025-08-21T13:58:16.523589Z",
          "shell.execute_reply": "2025-08-21T13:58:17.050848Z"
        },
        "id": "BdL8rMR_G_3H"
      },
      "outputs": [],
      "execution_count": null
    },
    {
      "cell_type": "markdown",
      "source": [
        "### Key Insight\n",
        "Both Rating 1 and 5 reviews show high counts of stopwords (“the”, “and”, “to”, etc.), which are common filler words and not sentiment-bearing.\n",
        "\n",
        "In Rating 1 reviews, stopwords dominate, with no strong negative sentiment words standing out clearly.\n",
        "\n",
        "In Rating 5 reviews, besides stopwords, clear positive words such as “excellent”, “good”, and “food” appear, highlighting customer satisfaction.\n",
        "\n",
        "**Key takeaway: While stopwords occur frequently in all reviews, positive reviews are more likely to include explicit positive sentiment words, whereas negative reviews do not show equally strong negative terms.**"
      ],
      "metadata": {
        "id": "GLmphbk9G_3H"
      }
    },
    {
      "cell_type": "markdown",
      "source": [
        "## 4. Frequent Words in Customer Reviews for Lowest vs Highest Ratings"
      ],
      "metadata": {
        "id": "S32r1gYXG_3I"
      }
    },
    {
      "cell_type": "code",
      "source": [
        "from wordcloud import WordCloud\n",
        "\n",
        "# Combine all reviews with rating = 1\n",
        "text_low = \" \".join(train[train['rating']==1]['review'].astype(str))\n",
        "text_high = \" \".join(train[train['rating']==5]['review'].astype(str))\n",
        "\n",
        "# Word cloud for rating=1\n",
        "plt.figure(figsize=(12,6))\n",
        "wc_low = WordCloud(width=800, height=400, background_color=\"white\", colormap=\"Reds\").generate(text_low)\n",
        "plt.subplot(1,2,1)\n",
        "plt.imshow(wc_low, interpolation=\"bilinear\")\n",
        "plt.axis(\"off\")\n",
        "plt.title(\"Common Words in Rating 1 Reviews\")\n",
        "\n",
        "# Word cloud for rating=5\n",
        "wc_high = WordCloud(width=800, height=400, background_color=\"white\", colormap=\"Greens\").generate(text_high)\n",
        "plt.subplot(1,2,2)\n",
        "plt.imshow(wc_high, interpolation=\"bilinear\")\n",
        "plt.axis(\"off\")\n",
        "plt.title(\"Common Words in Rating 5 Reviews\")\n",
        "\n",
        "plt.show()\n"
      ],
      "metadata": {
        "trusted": true,
        "execution": {
          "iopub.status.busy": "2025-08-21T13:58:17.052496Z",
          "iopub.execute_input": "2025-08-21T13:58:17.052746Z",
          "iopub.status.idle": "2025-08-21T13:58:19.748828Z",
          "shell.execute_reply.started": "2025-08-21T13:58:17.052718Z",
          "shell.execute_reply": "2025-08-21T13:58:19.747738Z"
        },
        "id": "Tj7p--OnG_3I"
      },
      "outputs": [],
      "execution_count": null
    },
    {
      "cell_type": "markdown",
      "source": [
        "### Key Insight\n",
        "Rating 1 (Negative Reviews, Red Word Cloud):\n",
        "\n",
        "Frequent words: food, order, service, staff, location, never, bad, one.\n",
        "\n",
        "Insight: Customers giving low ratings mostly complain about poor service, order mistakes, slow or wrong food delivery, and staff behavior. Words like never, terrible, worst indicate strong dissatisfaction.\n",
        "\n",
        "Rating 5 (Positive Reviews, Green Word Cloud):\n",
        "\n",
        "Frequent words: food, good, McDonald, great, fast, excellent, place, love.\n",
        "\n",
        "Insight: Customers giving high ratings highlight good food quality, fast service, cleanliness, and overall satisfaction. Positive words like excellent, great, and nice dominate."
      ],
      "metadata": {
        "id": "O-e09xDPG_3I"
      }
    },
    {
      "cell_type": "markdown",
      "source": [
        "# More Preprocessing"
      ],
      "metadata": {
        "id": "Rj1Xh-yBG_3J"
      }
    },
    {
      "cell_type": "code",
      "source": [
        "#DROPPING USELESS COLUMNS\n",
        "# train['category'].unique() -->constant\n",
        "# train['store_name'].value_counts() ---> seems only for McDonald's Store , again constant\n",
        "train=train.drop(['id','category','store_name'],axis=1)\n",
        "test=test.drop(['id','category','store_name'],axis=1)"
      ],
      "metadata": {
        "trusted": true,
        "execution": {
          "iopub.status.busy": "2025-08-21T13:58:19.74978Z",
          "iopub.execute_input": "2025-08-21T13:58:19.750239Z",
          "iopub.status.idle": "2025-08-21T13:58:19.759294Z",
          "shell.execute_reply.started": "2025-08-21T13:58:19.750211Z",
          "shell.execute_reply": "2025-08-21T13:58:19.758346Z"
        },
        "id": "Z5IT3YDvG_3J"
      },
      "outputs": [],
      "execution_count": null
    },
    {
      "cell_type": "code",
      "source": [
        "#Feature Engineering\n",
        "store_avg = train.groupby('store_address')['rating'].mean()\n",
        "train['store_avg_rating'] = train['store_address'].map(store_avg)\n",
        "\n",
        "# Map to test\n",
        "test['store_avg_rating'] = test['store_address'].map(store_avg)\n",
        "\n",
        "# Fill missing values in test (stores not seen in train)\n",
        "global_avg = train['rating'].mean()\n",
        "test['store_avg_rating']=test['store_avg_rating'].fillna(global_avg)"
      ],
      "metadata": {
        "trusted": true,
        "execution": {
          "iopub.status.busy": "2025-08-21T13:58:19.760171Z",
          "iopub.execute_input": "2025-08-21T13:58:19.760472Z",
          "iopub.status.idle": "2025-08-21T13:58:19.791441Z",
          "shell.execute_reply.started": "2025-08-21T13:58:19.760446Z",
          "shell.execute_reply": "2025-08-21T13:58:19.79068Z"
        },
        "id": "uZ-Ys3FzG_3J"
      },
      "outputs": [],
      "execution_count": null
    },
    {
      "cell_type": "code",
      "source": [
        "train=train.drop(columns=['store_address'])\n",
        "test=test.drop(columns=['store_address'])"
      ],
      "metadata": {
        "trusted": true,
        "execution": {
          "iopub.status.busy": "2025-08-21T13:58:19.792352Z",
          "iopub.execute_input": "2025-08-21T13:58:19.792633Z",
          "iopub.status.idle": "2025-08-21T13:58:19.800716Z",
          "shell.execute_reply.started": "2025-08-21T13:58:19.792608Z",
          "shell.execute_reply": "2025-08-21T13:58:19.799954Z"
        },
        "id": "p8FjF0ldG_3J"
      },
      "outputs": [],
      "execution_count": null
    },
    {
      "cell_type": "code",
      "source": [
        "# Log-transform rating_count\n",
        "train['rating_count'] = np.log1p(train['rating_count'])\n",
        "test['rating_count'] = np.log1p(test['rating_count'])"
      ],
      "metadata": {
        "trusted": true,
        "execution": {
          "iopub.status.busy": "2025-08-21T13:58:19.80155Z",
          "iopub.execute_input": "2025-08-21T13:58:19.801821Z",
          "iopub.status.idle": "2025-08-21T13:58:19.856421Z",
          "shell.execute_reply.started": "2025-08-21T13:58:19.801793Z",
          "shell.execute_reply": "2025-08-21T13:58:19.855762Z"
        },
        "id": "FuHYh2i3G_3L"
      },
      "outputs": [],
      "execution_count": null
    },
    {
      "cell_type": "markdown",
      "source": [
        "## Splitting the Dataset"
      ],
      "metadata": {
        "id": "EKmaMojfG_3L"
      }
    },
    {
      "cell_type": "code",
      "source": [
        "from sklearn.model_selection import train_test_split\n",
        "\n",
        "# Step 1: Split into features and target\n",
        "X = train.drop(columns=['rating'])\n",
        "y = train['rating']\n",
        "\n",
        "# Step 2: Train-test split\n",
        "X_train, X_val, y_train, y_val = train_test_split(X, y, stratify=y, test_size=0.2, random_state=42)"
      ],
      "metadata": {
        "trusted": true,
        "execution": {
          "iopub.status.busy": "2025-08-21T13:58:19.857383Z",
          "iopub.execute_input": "2025-08-21T13:58:19.857632Z",
          "iopub.status.idle": "2025-08-21T13:58:20.042364Z",
          "shell.execute_reply.started": "2025-08-21T13:58:19.857613Z",
          "shell.execute_reply": "2025-08-21T13:58:20.041603Z"
        },
        "id": "JNpa8O5VG_3L"
      },
      "outputs": [],
      "execution_count": null
    },
    {
      "cell_type": "code",
      "source": [
        "test.info()"
      ],
      "metadata": {
        "trusted": true,
        "execution": {
          "iopub.status.busy": "2025-08-21T13:58:20.0431Z",
          "iopub.execute_input": "2025-08-21T13:58:20.043336Z",
          "iopub.status.idle": "2025-08-21T13:58:20.054006Z",
          "shell.execute_reply.started": "2025-08-21T13:58:20.043319Z",
          "shell.execute_reply": "2025-08-21T13:58:20.053111Z"
        },
        "id": "djlukn-RG_3L"
      },
      "outputs": [],
      "execution_count": null
    },
    {
      "cell_type": "markdown",
      "source": [
        "# Scaling & Encoding"
      ],
      "metadata": {
        "id": "0CwbPw7DG_3M"
      }
    },
    {
      "cell_type": "code",
      "source": [
        "# Install sentence-transformers if not already\n",
        "!pip install -q sentence-transformers\n",
        "\n",
        "from sentence_transformers import SentenceTransformer\n",
        "from sklearn.decomposition import PCA\n",
        "\n",
        "# --- Load a small, fast model ---\n",
        "st_model = SentenceTransformer('all-MiniLM-L6-v2')  # 384-dim embeddings\n",
        "\n",
        "# --- Generate embeddings ---\n",
        "X_text_train = st_model.encode(X_train['review'].tolist(), batch_size=32, show_progress_bar=True)\n",
        "X_text_val   = st_model.encode(X_val['review'].tolist(), batch_size=32, show_progress_bar=True)\n",
        "X_text_test  = st_model.encode(test['review'].tolist(), batch_size=32, show_progress_bar=True)\n",
        "\n",
        "print(\"Original embedding shape:\", X_text_train.shape)\n",
        "\n",
        "# --- Dimensionality reduction with PCA ---\n",
        "pca = PCA(n_components=100, random_state=42)\n",
        "X_text_train_pca = pca.fit_transform(X_text_train)\n",
        "X_text_val_pca   = pca.transform(X_text_val)\n",
        "X_text_test_pca  = pca.transform(X_text_test)\n",
        "\n",
        "print(\"Reduced embedding shape:\", X_text_train_pca.shape)\n"
      ],
      "metadata": {
        "trusted": true,
        "execution": {
          "iopub.status.busy": "2025-08-21T13:58:20.054809Z",
          "iopub.execute_input": "2025-08-21T13:58:20.055046Z",
          "iopub.status.idle": "2025-08-21T14:09:19.447949Z",
          "shell.execute_reply.started": "2025-08-21T13:58:20.055021Z",
          "shell.execute_reply": "2025-08-21T14:09:19.446035Z"
        },
        "id": "n_qnB9wKG_3M"
      },
      "outputs": [],
      "execution_count": null
    },
    {
      "cell_type": "code",
      "source": [
        "from sklearn.preprocessing import StandardScaler"
      ],
      "metadata": {
        "trusted": true,
        "execution": {
          "iopub.status.busy": "2025-08-21T14:09:19.450158Z",
          "iopub.execute_input": "2025-08-21T14:09:19.450575Z",
          "iopub.status.idle": "2025-08-21T14:09:19.456146Z",
          "shell.execute_reply.started": "2025-08-21T14:09:19.450533Z",
          "shell.execute_reply": "2025-08-21T14:09:19.455284Z"
        },
        "id": "_mzM_TCXG_3N"
      },
      "outputs": [],
      "execution_count": null
    },
    {
      "cell_type": "markdown",
      "source": [
        "As all the columns in dataset are numeric, hence encodig not required here."
      ],
      "metadata": {
        "id": "FefCpEy8G_3N"
      }
    },
    {
      "cell_type": "code",
      "source": [
        "from sklearn.preprocessing import StandardScaler\n",
        "\n",
        "scale_cols = ['latitude', 'longitude', 'rating_count', 'review_time', 'store_avg_rating']\n",
        "\n",
        "scaler = StandardScaler()\n",
        "\n",
        "X_train_num = scaler.fit_transform(X_train[scale_cols])\n",
        "X_val_num   = scaler.transform(X_val[scale_cols])\n",
        "test_num  = scaler.transform(test[scale_cols])"
      ],
      "metadata": {
        "trusted": true,
        "execution": {
          "iopub.status.busy": "2025-08-21T14:09:19.457385Z",
          "iopub.execute_input": "2025-08-21T14:09:19.458017Z",
          "iopub.status.idle": "2025-08-21T14:09:19.50725Z",
          "shell.execute_reply.started": "2025-08-21T14:09:19.457993Z",
          "shell.execute_reply": "2025-08-21T14:09:19.506351Z"
        },
        "id": "CaU0nqPNG_3N"
      },
      "outputs": [],
      "execution_count": null
    },
    {
      "cell_type": "markdown",
      "source": [
        "### Combining"
      ],
      "metadata": {
        "id": "9BFXI6L2G_3O"
      }
    },
    {
      "cell_type": "code",
      "source": [
        "X_train = np.hstack([X_train_num, X_text_train_pca])\n",
        "X_val  = np.hstack([X_val_num, X_text_val_pca])\n",
        "test = np.hstack([test_num, X_text_test_pca])\n",
        "\n",
        "print(\"Final train shape:\", X_train.shape)\n",
        "print(\"Final val shape:\", X_val.shape)      #sparse matrix"
      ],
      "metadata": {
        "trusted": true,
        "execution": {
          "iopub.status.busy": "2025-08-21T14:09:19.508503Z",
          "iopub.execute_input": "2025-08-21T14:09:19.50884Z",
          "iopub.status.idle": "2025-08-21T14:09:19.524046Z",
          "shell.execute_reply.started": "2025-08-21T14:09:19.508812Z",
          "shell.execute_reply": "2025-08-21T14:09:19.52306Z"
        },
        "id": "eBmuDDQ4G_3O"
      },
      "outputs": [],
      "execution_count": null
    },
    {
      "cell_type": "code",
      "source": [
        "print(X_train.shape, X_val.shape, test.shape)"
      ],
      "metadata": {
        "trusted": true,
        "execution": {
          "iopub.status.busy": "2025-08-21T14:09:19.52546Z",
          "iopub.execute_input": "2025-08-21T14:09:19.525709Z",
          "iopub.status.idle": "2025-08-21T14:09:19.530839Z",
          "shell.execute_reply.started": "2025-08-21T14:09:19.525691Z",
          "shell.execute_reply": "2025-08-21T14:09:19.529941Z"
        },
        "id": "c8HMyfaJG_3O"
      },
      "outputs": [],
      "execution_count": null
    },
    {
      "cell_type": "markdown",
      "source": [
        "# Model Building"
      ],
      "metadata": {
        "id": "ZSW_gAzlG_3P"
      }
    },
    {
      "cell_type": "markdown",
      "source": [
        "## Logistic Regression"
      ],
      "metadata": {
        "id": "XzeG89KFG_3R"
      }
    },
    {
      "cell_type": "code",
      "source": [
        "from sklearn.linear_model import LogisticRegression\n",
        "from sklearn.metrics import accuracy_score\n",
        "\n",
        "logreg = LogisticRegression(solver='saga', max_iter=1000)\n",
        "logreg.fit(X_train, y_train)\n",
        "logreg_preds = logreg.predict(X_val)\n",
        "logreg_acc = accuracy_score(y_val, logreg_preds)\n",
        "print(f\"Logistic Regression Accuracy: {logreg_acc:.4f}\")"
      ],
      "metadata": {
        "trusted": true,
        "execution": {
          "iopub.status.busy": "2025-08-21T14:09:19.531764Z",
          "iopub.execute_input": "2025-08-21T14:09:19.532011Z",
          "iopub.status.idle": "2025-08-21T14:09:22.803694Z",
          "shell.execute_reply.started": "2025-08-21T14:09:19.531993Z",
          "shell.execute_reply": "2025-08-21T14:09:22.802816Z"
        },
        "id": "9S8mWLUYG_3R"
      },
      "outputs": [],
      "execution_count": null
    },
    {
      "cell_type": "markdown",
      "source": [
        "## SGDClassifier"
      ],
      "metadata": {
        "id": "_ZRWr3ktG_3R"
      }
    },
    {
      "cell_type": "code",
      "source": [
        "from sklearn.linear_model import SGDClassifier\n",
        "\n",
        "sgd = SGDClassifier(loss='log_loss', max_iter=1000)\n",
        "sgd.fit(X_train, y_train)\n",
        "sgd_preds = sgd.predict(X_val)\n",
        "sgd_acc = accuracy_score(y_val, sgd_preds)\n",
        "print(f\"SGD Classifier Accuracy: {sgd_acc:.4f}\")"
      ],
      "metadata": {
        "trusted": true,
        "execution": {
          "iopub.status.busy": "2025-08-21T14:09:22.804658Z",
          "iopub.execute_input": "2025-08-21T14:09:22.804912Z",
          "iopub.status.idle": "2025-08-21T14:09:24.012899Z",
          "shell.execute_reply.started": "2025-08-21T14:09:22.80489Z",
          "shell.execute_reply": "2025-08-21T14:09:24.011958Z"
        },
        "id": "gAdM0S9cG_3R"
      },
      "outputs": [],
      "execution_count": null
    },
    {
      "cell_type": "markdown",
      "source": [
        "## RandomForestClassifier"
      ],
      "metadata": {
        "id": "C9q8dQUBG_3S"
      }
    },
    {
      "cell_type": "code",
      "source": [
        "from sklearn.ensemble import RandomForestClassifier\n",
        "\n",
        "rf_base = RandomForestClassifier(n_estimators=300, n_jobs=-1)\n",
        "rf_base.fit(X_train, y_train)\n",
        "rf_preds = rf_base.predict(X_val)\n",
        "rf_acc = accuracy_score(y_val, rf_preds)\n",
        "print(f\"Random Forest Accuracy: {rf_acc:.4f}\")"
      ],
      "metadata": {
        "trusted": true,
        "execution": {
          "iopub.status.busy": "2025-08-21T14:09:24.013976Z",
          "iopub.execute_input": "2025-08-21T14:09:24.014328Z",
          "iopub.status.idle": "2025-08-21T14:09:50.771367Z",
          "shell.execute_reply.started": "2025-08-21T14:09:24.014304Z",
          "shell.execute_reply": "2025-08-21T14:09:50.770565Z"
        },
        "id": "t92aa7bXG_3S"
      },
      "outputs": [],
      "execution_count": null
    },
    {
      "cell_type": "markdown",
      "source": [
        "## ExtraTreesClassifier"
      ],
      "metadata": {
        "id": "aKjwAGlhG_3S"
      }
    },
    {
      "cell_type": "code",
      "source": [
        "from sklearn.ensemble import ExtraTreesClassifier\n",
        "from sklearn.metrics import accuracy_score\n",
        "\n",
        "\n",
        "etc_base = ExtraTreesClassifier(n_estimators=300, n_jobs=-1, random_state=42)\n",
        "etc_base.fit(X_train, y_train)\n",
        "\n",
        "etc_preds = etc_base.predict(X_val)\n",
        "etc_acc = accuracy_score(y_val, etc_preds)\n",
        "print(f\"ExtraTrees Accuracy: {etc_acc:.4f}\")\n",
        "\n"
      ],
      "metadata": {
        "trusted": true,
        "execution": {
          "iopub.status.busy": "2025-08-21T14:09:50.77235Z",
          "iopub.execute_input": "2025-08-21T14:09:50.772695Z",
          "iopub.status.idle": "2025-08-21T14:09:58.147731Z",
          "shell.execute_reply.started": "2025-08-21T14:09:50.772674Z",
          "shell.execute_reply": "2025-08-21T14:09:58.146914Z"
        },
        "id": "e5b-_6GqG_3S"
      },
      "outputs": [],
      "execution_count": null
    },
    {
      "cell_type": "markdown",
      "source": [
        "## XGBClassifier"
      ],
      "metadata": {
        "id": "BkGq5ev7G_3T"
      }
    },
    {
      "cell_type": "code",
      "source": [
        "from xgboost import XGBClassifier\n",
        "\n",
        "y_train_xgb = y_train - 1\n",
        "y_val_xgb = y_val - 1\n",
        "\n",
        "xgb = XGBClassifier(use_label_encoder=False, eval_metric='logloss')\n",
        "xgb.fit(X_train, y_train_xgb)\n",
        "xgb_preds = xgb.predict(X_val)\n",
        "xgb_acc = accuracy_score(y_val_xgb, xgb_preds)\n",
        "print(f\"XGBoost Accuracy: {xgb_acc:.4f}\")"
      ],
      "metadata": {
        "trusted": true,
        "execution": {
          "iopub.status.busy": "2025-08-21T14:09:58.148702Z",
          "iopub.execute_input": "2025-08-21T14:09:58.149022Z",
          "iopub.status.idle": "2025-08-21T14:10:08.797118Z",
          "shell.execute_reply.started": "2025-08-21T14:09:58.149002Z",
          "shell.execute_reply": "2025-08-21T14:10:08.796134Z"
        },
        "id": "SDvRNxKIG_3T"
      },
      "outputs": [],
      "execution_count": null
    },
    {
      "cell_type": "markdown",
      "source": [
        "## LGBMClassifier"
      ],
      "metadata": {
        "id": "rXiOAjCaG_3T"
      }
    },
    {
      "cell_type": "code",
      "source": [
        "from lightgbm import LGBMClassifier\n",
        "\n",
        "lgbm = LGBMClassifier(verbose=-1)\n",
        "lgbm.fit(X_train, y_train)\n",
        "lgbm_preds = lgbm.predict(X_val)\n",
        "lgbm_acc = accuracy_score(y_val, lgbm_preds)\n",
        "print(f\"LightGBM Accuracy: {lgbm_acc:.4f}\")"
      ],
      "metadata": {
        "trusted": true,
        "execution": {
          "iopub.status.busy": "2025-08-21T14:10:08.798248Z",
          "iopub.execute_input": "2025-08-21T14:10:08.798568Z",
          "iopub.status.idle": "2025-08-21T14:10:19.863886Z",
          "shell.execute_reply.started": "2025-08-21T14:10:08.798542Z",
          "shell.execute_reply": "2025-08-21T14:10:19.863Z"
        },
        "id": "PgJcJp7HG_3T"
      },
      "outputs": [],
      "execution_count": null
    },
    {
      "cell_type": "markdown",
      "source": [
        "## HistGradientBoostingClassifier"
      ],
      "metadata": {
        "id": "vRoTqoRcG_3U"
      }
    },
    {
      "cell_type": "code",
      "source": [
        "from sklearn.ensemble import HistGradientBoostingClassifier\n",
        "from sklearn.metrics import accuracy_score\n",
        "\n",
        "\n",
        "hgb = HistGradientBoostingClassifier(\n",
        "    max_iter=100,\n",
        "    learning_rate=0.05,\n",
        "    max_depth=None,\n",
        "    random_state=0\n",
        ")\n",
        "hgb.fit(X_train, y_train)\n",
        "y_pred = hgb.predict(X_val)\n",
        "print(\"HistGradientBoosting Accuracy:\", accuracy_score(y_val, y_pred))\n"
      ],
      "metadata": {
        "trusted": true,
        "execution": {
          "iopub.status.busy": "2025-08-21T14:10:19.864786Z",
          "iopub.execute_input": "2025-08-21T14:10:19.865755Z",
          "iopub.status.idle": "2025-08-21T14:10:29.713314Z",
          "shell.execute_reply.started": "2025-08-21T14:10:19.865732Z",
          "shell.execute_reply": "2025-08-21T14:10:29.712347Z"
        },
        "id": "f8kA1-3KG_3U"
      },
      "outputs": [],
      "execution_count": null
    },
    {
      "cell_type": "markdown",
      "source": [
        "# Hyperparameter Tuning"
      ],
      "metadata": {
        "id": "J7BDbrvXG_3U"
      }
    },
    {
      "cell_type": "markdown",
      "source": [
        "## RandomForestClassifier"
      ],
      "metadata": {
        "id": "XUX-sPSfG_3U"
      }
    },
    {
      "cell_type": "code",
      "source": [
        "from sklearn.model_selection import RandomizedSearchCV"
      ],
      "metadata": {
        "trusted": true,
        "execution": {
          "iopub.status.busy": "2025-08-21T14:10:29.714165Z",
          "iopub.execute_input": "2025-08-21T14:10:29.71476Z",
          "iopub.status.idle": "2025-08-21T14:10:29.718605Z",
          "shell.execute_reply.started": "2025-08-21T14:10:29.714738Z",
          "shell.execute_reply": "2025-08-21T14:10:29.717656Z"
        },
        "id": "tJk9vJoYG_3U"
      },
      "outputs": [],
      "execution_count": null
    },
    {
      "cell_type": "code",
      "source": [
        "from sklearn.ensemble import RandomForestClassifier\n",
        "\n",
        "rf = RandomForestClassifier(random_state=0, n_jobs=-1)\n",
        "\n",
        "param_dist = {\n",
        "    \"n_estimators\": [200, 500, 1000],  # more trees → better stability\n",
        "    \"max_depth\": [None, 10, 20, 30],\n",
        "    \"min_samples_split\": [2, 5, 10],\n",
        "    \"min_samples_leaf\": [1, 2, 4],\n",
        "    \"max_features\": [\"sqrt\", \"log2\"]\n",
        "}\n",
        "\n",
        "rf_search = RandomizedSearchCV(\n",
        "    rf, param_distributions=param_dist,\n",
        "    n_iter=20, cv=3, scoring=\"accuracy\", verbose=2, n_jobs=-1, random_state=0\n",
        ")\n",
        "rf_search.fit(X_train, y_train)\n",
        "\n",
        "print(\"Best RF params:\", rf_search.best_params_)\n",
        "print(\"Best RF accuracy:\", rf_search.best_score_)\n"
      ],
      "metadata": {
        "trusted": true,
        "execution": {
          "iopub.status.busy": "2025-08-21T14:10:29.719622Z",
          "iopub.execute_input": "2025-08-21T14:10:29.720205Z",
          "iopub.status.idle": "2025-08-21T14:33:23.653784Z",
          "shell.execute_reply.started": "2025-08-21T14:10:29.720155Z",
          "shell.execute_reply": "2025-08-21T14:33:23.652728Z"
        },
        "id": "h4mhdgZJG_3V"
      },
      "outputs": [],
      "execution_count": null
    },
    {
      "cell_type": "code",
      "source": [
        "y_pred = rf_search.best_estimator_.predict(X_val)\n",
        "val_acc = accuracy_score(y_val, y_pred)\n",
        "print(\"Validation Accuracy:\", val_acc)"
      ],
      "metadata": {
        "trusted": true,
        "execution": {
          "iopub.status.busy": "2025-08-21T16:20:41.513427Z",
          "iopub.execute_input": "2025-08-21T16:20:41.513724Z",
          "iopub.status.idle": "2025-08-21T16:20:41.522729Z",
          "shell.execute_reply.started": "2025-08-21T16:20:41.513701Z",
          "shell.execute_reply": "2025-08-21T16:20:41.521945Z"
        },
        "id": "uNfBQiM7G_3V"
      },
      "outputs": [],
      "execution_count": null
    },
    {
      "cell_type": "markdown",
      "source": [
        "## XGBClassifier"
      ],
      "metadata": {
        "id": "UNFNYfqrG_3V"
      }
    },
    {
      "cell_type": "code",
      "source": [
        "from xgboost import XGBClassifier\n",
        "\n",
        "# ✅ Fix labels for XGB (shift so that classes start at 0)\n",
        "y_train_xgb = y_train - y_train.min()\n",
        "y_val_xgb   = y_val - y_val.min()\n",
        "\n",
        "# Define XGB model\n",
        "xgb = XGBClassifier(\n",
        "    objective=\"multi:softmax\",\n",
        "    num_class=len(np.unique(y_train_xgb)),  # important to use fixed labels\n",
        "    eval_metric=\"mlogloss\",\n",
        "    random_state=0,\n",
        "    n_jobs=-1,\n",
        "    use_label_encoder=False\n",
        ")\n",
        "\n",
        "# Parameter search space\n",
        "param_dist = {\n",
        "    \"n_estimators\": [200, 400],              # smaller search (avoid 1000 for now)\n",
        "    \"max_depth\": [3, 5, 7],                  # avoid 10 (very slow + overfitting risk)\n",
        "    \"learning_rate\": [0.05, 0.1],            # keep mid values (0.01 too slow, 0.2 risky)\n",
        "    \"subsample\": [0.8, 1.0],                 # fewer options\n",
        "    \"colsample_bytree\": [0.8, 1.0],          # fewer options\n",
        "    \"min_child_weight\": [1, 3]               # fewer options\n",
        "}\n",
        "# Randomized search\n",
        "xgb_search = RandomizedSearchCV(\n",
        "    xgb,\n",
        "    param_distributions=param_dist,\n",
        "    n_iter=20,\n",
        "    cv=3,\n",
        "    scoring=\"accuracy\",\n",
        "    verbose=2,\n",
        "    n_jobs=-1,\n",
        "    random_state=0\n",
        ")\n",
        "\n",
        "# Fit with shifted labels\n",
        "xgb_search.fit(X_train, y_train_xgb)\n",
        "\n",
        "print(\"Best XGB params:\", xgb_search.best_params_)\n",
        "print(\"Best XGB CV accuracy:\", xgb_search.best_score_)\n",
        "\n",
        "\n",
        "y_pred = xgb_search.best_estimator_.predict(X_val)\n",
        "val_acc = accuracy_score(y_val_xgb, y_pred)\n",
        "print(\"Validation Accuracy:\", val_acc)\n"
      ],
      "metadata": {
        "trusted": true,
        "id": "EhFT0NTsG_3V"
      },
      "outputs": [],
      "execution_count": null
    },
    {
      "cell_type": "markdown",
      "source": [
        "## HistGradientBoostingClassifier"
      ],
      "metadata": {
        "id": "VZhTHNxUG_3X"
      }
    },
    {
      "cell_type": "code",
      "source": [
        "from sklearn.experimental import enable_hist_gradient_boosting\n",
        "from sklearn.ensemble import HistGradientBoostingClassifier\n",
        "\n",
        "hgb = HistGradientBoostingClassifier(random_state=0)\n",
        "\n",
        "param_dist = {\n",
        "    \"learning_rate\": [0.05, 0.1],          # small, practical values\n",
        "    \"max_depth\": [None, 10],               # keep shallow + default\n",
        "    \"max_iter\": [200, 500],                # avoid 1000 (too slow)\n",
        "    \"min_samples_leaf\": [20, 50],          # fewer choices\n",
        "    \"l2_regularization\": [0.0, 0.1]        # light regularization search\n",
        "}\n",
        "\n",
        "hgb_search = RandomizedSearchCV(\n",
        "    hgb, param_distributions=param_dist,\n",
        "    n_iter=20, cv=3, scoring=\"accuracy\", verbose=2, n_jobs=-1, random_state=0\n",
        ")\n",
        "hgb_search.fit(X_train, y_train)\n",
        "\n",
        "print(\"Best HGB params:\", hgb_search.best_params_)\n",
        "print(\"Best HGB accuracy:\", hgb_search.best_score_)\n"
      ],
      "metadata": {
        "trusted": true,
        "execution": {
          "iopub.status.busy": "2025-08-21T14:47:03.74035Z",
          "iopub.execute_input": "2025-08-21T14:47:03.740703Z",
          "iopub.status.idle": "2025-08-21T14:54:18.548916Z",
          "shell.execute_reply.started": "2025-08-21T14:47:03.740674Z",
          "shell.execute_reply": "2025-08-21T14:54:18.548071Z"
        },
        "id": "p_27RZQoG_3X"
      },
      "outputs": [],
      "execution_count": null
    },
    {
      "cell_type": "code",
      "source": [
        "y_pred = hgb_search.best_estimator_.predict(X_val)\n",
        "val_acc = accuracy_score(y_val, y_pred)\n",
        "print(\"Validation Accuracy:\", val_acc)"
      ],
      "metadata": {
        "trusted": true,
        "execution": {
          "iopub.status.busy": "2025-08-21T14:54:18.54987Z",
          "iopub.execute_input": "2025-08-21T14:54:18.550217Z",
          "iopub.status.idle": "2025-08-21T14:54:18.977551Z",
          "shell.execute_reply.started": "2025-08-21T14:54:18.55017Z",
          "shell.execute_reply": "2025-08-21T14:54:18.976732Z"
        },
        "id": "rRkpZ_NTG_3Y"
      },
      "outputs": [],
      "execution_count": null
    },
    {
      "cell_type": "markdown",
      "source": [
        "# Comparison of Model Performances"
      ],
      "metadata": {
        "id": "OFnvNejGG_3Y"
      }
    },
    {
      "cell_type": "code",
      "source": [
        "# Dictionary to store results\n",
        "results = {}\n",
        "\n",
        "# --- Logistic Regression (already trained) ---\n",
        "acc = accuracy_score(y_val, logreg.predict(X_val))\n",
        "results[\"Logistic Regression\"] = {\"Val Accuracy\": acc}\n",
        "\n",
        "# --- SGD Classifier (already trained) ---\n",
        "acc = accuracy_score(y_val, sgd.predict(X_val))\n",
        "results[\"SGD Classifier\"] = {\"Val Accuracy\": acc}\n",
        "\n",
        "# --- rf Classifier (already trained) ---\n",
        "acc = accuracy_score(y_val, rf_base.predict(X_val))\n",
        "results[\"Random Forest (Baseline)\"] = {\"Val Accuracy\": acc}\n",
        "\n",
        "# --- Random Forest (from search) ---\n",
        "rf_best = rf_search.best_estimator_\n",
        "acc = accuracy_score(y_val, rf_best.predict(X_val))\n",
        "results[\"Random Forest (Tuned)\"] = {\"Val Accuracy\": acc}\n",
        "\n",
        "# --- etc Classifier (already trained) ---\n",
        "acc = accuracy_score(y_val, etc_base.predict(X_val))\n",
        "results[\"Extra Trees (Baseline)\"] = {\"Val Accuracy\": acc}\n",
        "\n",
        "\n",
        "# --- XGBoost (from search) ---\n",
        "xgb_best = xgb_search.best_estimator_\n",
        "acc = accuracy_score(y_val_xgb, xgb_best.predict(X_val))\n",
        "results[\"XGBoost (Tuned)\"] = {\"Val Accuracy\": acc}\n",
        "\n",
        "# --- HistGradientBoosting (from search) ---\n",
        "hgb_best = hgb_search.best_estimator_\n",
        "acc = accuracy_score(y_val, hgb_best.predict(X_val))\n",
        "results[\"HistGB (Tuned)\"] = {\"Val Accuracy\": acc}\n",
        "\n",
        "# --- LightGBM (already trained) ---\n",
        "acc = accuracy_score(y_val, lgbm.predict(X_val))\n",
        "results[\"LightGBM\"] = {\"Val Accuracy\": acc}\n",
        "\n",
        "# --- Convert to DataFrame ---\n",
        "results_df = pd.DataFrame(results).T.sort_values(by=\"Val Accuracy\", ascending=False)\n",
        "print(results_df)\n"
      ],
      "metadata": {
        "trusted": true,
        "execution": {
          "iopub.status.busy": "2025-08-21T14:54:18.978555Z",
          "iopub.execute_input": "2025-08-21T14:54:18.978851Z",
          "iopub.status.idle": "2025-08-21T14:54:20.829989Z",
          "shell.execute_reply.started": "2025-08-21T14:54:18.978825Z",
          "shell.execute_reply": "2025-08-21T14:54:20.829055Z"
        },
        "id": "A2F9gsclG_3Z"
      },
      "outputs": [],
      "execution_count": null
    },
    {
      "cell_type": "code",
      "source": [
        "import seaborn as sns\n",
        "import matplotlib.pyplot as plt\n",
        "\n",
        "# Reset index so model names are a column\n",
        "plot_df = results_df.reset_index().rename(columns={\"index\": \"Model\"})\n",
        "\n",
        "plt.figure(figsize=(10, 6))\n",
        "sns.barplot(\n",
        "    data=plot_df,\n",
        "    x=\"Model\",\n",
        "    y=\"Val Accuracy\",\n",
        "    palette=\"viridis\"\n",
        ")\n",
        "\n",
        "# Add annotations on top of bars\n",
        "for i, v in enumerate(plot_df[\"Val Accuracy\"]):\n",
        "    plt.text(i, v + 0.005, f\"{v:.3f}\", ha=\"center\", fontsize=9)\n",
        "\n",
        "plt.title(\"Model Comparison - Validation Accuracy\", fontsize=14)\n",
        "plt.ylabel(\"Validation Accuracy\", fontsize=12)\n",
        "plt.xlabel(\"Models\", fontsize=12)\n",
        "plt.xticks(rotation=45, ha=\"right\", fontsize=10)\n",
        "plt.ylim(0, 1)  # since accuracy lies in [0, 1]\n",
        "plt.grid(axis=\"y\", linestyle=\"--\", alpha=0.7)\n",
        "\n",
        "plt.tight_layout()\n",
        "plt.show()\n"
      ],
      "metadata": {
        "trusted": true,
        "execution": {
          "iopub.status.busy": "2025-08-21T14:54:20.830885Z",
          "iopub.execute_input": "2025-08-21T14:54:20.831156Z",
          "iopub.status.idle": "2025-08-21T14:54:21.118521Z",
          "shell.execute_reply.started": "2025-08-21T14:54:20.83113Z",
          "shell.execute_reply": "2025-08-21T14:54:21.117604Z"
        },
        "id": "6JQxhnEyG_3a"
      },
      "outputs": [],
      "execution_count": null
    },
    {
      "cell_type": "markdown",
      "source": [
        "# Final Submission"
      ],
      "metadata": {
        "id": "k4mluu1TG_3b"
      }
    },
    {
      "cell_type": "code",
      "source": [
        "# # --- Get prediction probabilities from both models ---\n",
        "# proba_rf_base = rf_base.predict_proba(test)\n",
        "# proba_rf_best = rf_best.predict_proba(test)\n",
        "\n",
        "# # Weighted average of probabilities\n",
        "# final_avg_proba = (\n",
        "#     0.55 * proba_rf_base +\n",
        "#     0.45 * proba_rf_best\n",
        "# )\n",
        "\n",
        "# # Convert probabilities to class labels\n",
        "# final_predictions = np.argmax(final_avg_proba, axis=1)\n",
        "\n",
        "# # Shift labels from 0–4 → 1–5\n",
        "# final_predictions = final_predictions + 1\n",
        "# print(\"Unique predicted classes:\", np.unique(final_predictions))\n",
        "# # --- Create submission DataFrame ---\n",
        "# submission_df = pd.DataFrame({\n",
        "#     \"id\": raw_test[\"id\"],\n",
        "#     \"rating\": final_predictions\n",
        "# })\n",
        "\n",
        "# # Save CSV\n",
        "# submission_df.to_csv(\"submission.csv\", index=False)\n",
        "# print(\"Submission file saved as submission.csv\")\n"
      ],
      "metadata": {
        "trusted": true,
        "execution": {
          "iopub.status.busy": "2025-08-21T14:54:21.119597Z",
          "iopub.execute_input": "2025-08-21T14:54:21.120282Z",
          "iopub.status.idle": "2025-08-21T14:54:21.12404Z",
          "shell.execute_reply.started": "2025-08-21T14:54:21.120251Z",
          "shell.execute_reply": "2025-08-21T14:54:21.123387Z"
        },
        "id": "5QysWo9-G_3b"
      },
      "outputs": [],
      "execution_count": null
    },
    {
      "cell_type": "code",
      "source": [
        "# # Predict on test set\n",
        "# y_test_pred = xgb_search.best_estimator_.predict(test)\n",
        "\n",
        "# # Shift back labels if required\n",
        "# y_test_pred = y_test_pred + y_train.min()\n",
        "\n",
        "# # Save submission\n",
        "# submission = pd.DataFrame({\"id\":  raw_test[\"id\"], \"rating\": y_test_pred})\n",
        "# submission.to_csv(\"submission.csv\", index=False)\n"
      ],
      "metadata": {
        "trusted": true,
        "execution": {
          "iopub.status.busy": "2025-08-21T14:54:21.125108Z",
          "iopub.execute_input": "2025-08-21T14:54:21.125495Z",
          "iopub.status.idle": "2025-08-21T14:54:21.140712Z",
          "shell.execute_reply.started": "2025-08-21T14:54:21.125475Z",
          "shell.execute_reply": "2025-08-21T14:54:21.139718Z"
        },
        "id": "ro13GEdOG_3c"
      },
      "outputs": [],
      "execution_count": null
    },
    {
      "cell_type": "code",
      "source": [
        "# from sklearn.ensemble import VotingClassifier\n",
        "\n",
        "# voting_clf = VotingClassifier(\n",
        "#     estimators=[\n",
        "#         ('xgb', xgb_search.best_estimator_),\n",
        "#         ('hgb', hgb_search.best_estimator_)\n",
        "#     ],\n",
        "#     voting='soft',  # average predicted probabilities\n",
        "#     n_jobs=-1\n",
        "# )\n",
        "\n",
        "# voting_clf.fit(X_train, y_train_xgb)\n",
        "\n",
        "# y_pred_vote = voting_clf.predict(X_val)\n",
        "# val_acc_vote = accuracy_score(y_val_xgb, y_pred_vote)\n",
        "# print(\"Validation Accuracy (XGB+HGB blend):\", val_acc_vote)\n"
      ],
      "metadata": {
        "trusted": true,
        "execution": {
          "iopub.status.busy": "2025-08-21T14:54:21.141689Z",
          "iopub.execute_input": "2025-08-21T14:54:21.141928Z",
          "iopub.status.idle": "2025-08-21T14:55:43.148055Z",
          "shell.execute_reply.started": "2025-08-21T14:54:21.14191Z",
          "shell.execute_reply": "2025-08-21T14:55:43.147216Z"
        },
        "id": "0iiVtiQBG_3c"
      },
      "outputs": [],
      "execution_count": null
    },
    {
      "cell_type": "code",
      "source": [
        "# # Predict on test set\n",
        "# y_test_vote = voting_clf.predict(test)\n",
        "\n",
        "# # Shift back to original labels (e.g., 1–5 instead of 0–4)\n",
        "# y_test_vote = y_test_vote + y_train.min()\n",
        "\n",
        "# # Check unique classes predicted\n",
        "# print(\"Unique predicted classes (test):\", np.unique(y_test_vote))\n"
      ],
      "metadata": {
        "trusted": true,
        "execution": {
          "iopub.status.busy": "2025-08-21T14:57:31.681606Z",
          "iopub.execute_input": "2025-08-21T14:57:31.682026Z",
          "iopub.status.idle": "2025-08-21T14:57:32.685353Z",
          "shell.execute_reply.started": "2025-08-21T14:57:31.681999Z",
          "shell.execute_reply": "2025-08-21T14:57:32.684473Z"
        },
        "id": "FuT6CUnDG_3c"
      },
      "outputs": [],
      "execution_count": null
    },
    {
      "cell_type": "code",
      "source": [
        "# --- Get probability predictions on validation set ---\n",
        "proba_xgb = xgb_search.best_estimator_.predict_proba(X_val)\n",
        "proba_hgb = hgb_search.best_estimator_.predict_proba(X_val)\n",
        "proba_rf  = rf_search.best_estimator_.predict_proba(X_val)\n",
        "\n",
        "# --- Weighted averaging (0.6, 0.3, 0.1) ---\n",
        "final_proba = (\n",
        "    0.6 * proba_xgb +\n",
        "    0.3 * proba_hgb +\n",
        "    0.1 * proba_rf\n",
        ")\n",
        "\n",
        "# Take class with highest probability\n",
        "final_pred = np.argmax(final_proba, axis=1)\n",
        "\n",
        "# ✅ Compare with validation labels\n",
        "val_acc_weighted = accuracy_score(y_val_xgb, final_pred)\n",
        "print(\"Validation Accuracy (Weighted Blend: XGB+HGB+RF):\", val_acc_weighted)\n",
        "\n",
        "# --- Also for test set ---\n",
        "test_proba_xgb = xgb_search.best_estimator_.predict_proba(test)\n",
        "test_proba_hgb = hgb_search.best_estimator_.predict_proba(test)\n",
        "test_proba_rf  = rf_search.best_estimator_.predict_proba(test)\n",
        "\n",
        "final_test_proba = (\n",
        "    0.6 * test_proba_xgb +\n",
        "    0.3 * test_proba_hgb +\n",
        "    0.1 * test_proba_rf\n",
        ")\n",
        "\n",
        "final_predictions = np.argmax(final_test_proba, axis=1)\n",
        "\n",
        "# Shift back labels (since we subtracted y.min earlier)\n",
        "final_predictions += y_train.min()\n",
        "\n",
        "print(\"Unique predicted classes:\", np.unique(final_predictions))\n"
      ],
      "metadata": {
        "trusted": true,
        "execution": {
          "iopub.status.busy": "2025-08-21T16:15:48.296154Z",
          "iopub.execute_input": "2025-08-21T16:15:48.296379Z",
          "iopub.status.idle": "2025-08-21T16:15:48.891446Z",
          "shell.execute_reply.started": "2025-08-21T16:15:48.296362Z",
          "shell.execute_reply": "2025-08-21T16:15:48.890364Z"
        },
        "id": "CQ3TjcxxG_3c"
      },
      "outputs": [],
      "execution_count": null
    },
    {
      "cell_type": "code",
      "source": [
        "submission = pd.DataFrame({\n",
        "    \"id\": raw_test[\"id\"],   # replace with your test dataframe ID column name\n",
        "    \"rating\": final_predictions\n",
        "})\n",
        "\n",
        "submission.to_csv(\"submission.csv\", index=False)\n",
        "print(\"Submission saved as submission.csv\")\n"
      ],
      "metadata": {
        "trusted": true,
        "execution": {
          "iopub.status.busy": "2025-08-21T16:28:31.206267Z",
          "iopub.execute_input": "2025-08-21T16:28:31.206544Z",
          "iopub.status.idle": "2025-08-21T16:28:31.21804Z",
          "shell.execute_reply.started": "2025-08-21T16:28:31.20652Z",
          "shell.execute_reply": "2025-08-21T16:28:31.216828Z"
        },
        "id": "ofIQtDbYG_3d"
      },
      "outputs": [],
      "execution_count": null
    },
    {
      "cell_type": "code",
      "source": [
        "# import os\n",
        "\n",
        "# # Replace with the exact filename you want to delete\n",
        "# file_to_delete = 'submission.csv'\n",
        "\n",
        "# # Delete if it exists\n",
        "# if os.path.exists(file_to_delete):\n",
        "#     os.remove(file_to_delete)\n",
        "#     print(f\"Deleted '{file_to_delete}'\")\n",
        "# else:\n",
        "#     print(f\"File '{file_to_delete}' not found\")"
      ],
      "metadata": {
        "trusted": true,
        "execution": {
          "iopub.status.busy": "2025-08-21T16:28:14.038157Z",
          "iopub.execute_input": "2025-08-21T16:28:14.038418Z",
          "iopub.status.idle": "2025-08-21T16:28:14.043509Z",
          "shell.execute_reply.started": "2025-08-21T16:28:14.038399Z",
          "shell.execute_reply": "2025-08-21T16:28:14.042905Z"
        },
        "id": "0nO05GLKG_3d"
      },
      "outputs": [],
      "execution_count": null
    }
  ]
}